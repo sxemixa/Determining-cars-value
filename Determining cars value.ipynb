{
 "cells": [
  {
   "cell_type": "markdown",
   "metadata": {},
   "source": [
    "# Определение стоимости автомобилей"
   ]
  },
  {
   "cell_type": "markdown",
   "metadata": {},
   "source": [
    "Сервис по продаже автомобилей с пробегом «Не бит, не крашен» разрабатывает приложение для привлечения новых клиентов. В нём можно быстро узнать рыночную стоимость своего автомобиля. В вашем распоряжении исторические данные: технические характеристики, комплектации и цены автомобилей. Вам нужно построить модель для определения стоимости. \n",
    "\n",
    "Заказчику важны:\n",
    "\n",
    "- качество предсказания;\n",
    "- скорость предсказания;\n",
    "- время обучения."
   ]
  },
  {
   "cell_type": "markdown",
   "metadata": {},
   "source": [
    "# Описание данных\n",
    "\n",
    "**Признаки**\n",
    "- DateCrawled — дата скачивания анкеты из базы\n",
    "- VehicleType — тип автомобильного кузова\n",
    "- RegistrationYear — год регистрации автомобиля\n",
    "- Gearbox — тип коробки передач\n",
    "- Power — мощность (л. с.)\n",
    "- Model — модель автомобиля\n",
    "- Kilometer — пробег (км)\n",
    "- RegistrationMonth — месяц регистрации автомобиля\n",
    "- FuelType — тип топлива\n",
    "- Brand — марка автомобиля\n",
    "- NotRepaired — была машина в ремонте или нет\n",
    "- DateCreated — дата создания анкеты\n",
    "- NumberOfPictures — количество фотографий автомобиля\n",
    "- PostalCode — почтовый индекс владельца анкеты (пользователя)\n",
    "- LastSeen — дата последней активности пользователя\n",
    "\n",
    "**Целевой признак**\n",
    "- Price — цена (евро)"
   ]
  },
  {
   "cell_type": "markdown",
   "metadata": {},
   "source": [
    "## Подготовка данных"
   ]
  },
  {
   "cell_type": "code",
   "execution_count": 1,
   "metadata": {},
   "outputs": [],
   "source": [
    "import pandas as pd\n",
    "from sklearn.preprocessing import OrdinalEncoder\n",
    "from sklearn.linear_model import LinearRegression\n",
    "from sklearn.model_selection import train_test_split\n",
    "from sklearn.model_selection import cross_val_score\n",
    "from sklearn.preprocessing import RobustScaler, StandardScaler\n",
    "from sklearn.pipeline import Pipeline\n",
    "from sklearn.tree import DecisionTreeRegressor\n",
    "from sklearn.model_selection import GridSearchCV\n",
    "from catboost import Pool, CatBoostRegressor, cv\n",
    "from lightgbm import LGBMRegressor\n",
    "from sklearn.metrics import mean_squared_error\n",
    "import numpy as np"
   ]
  },
  {
   "cell_type": "code",
   "execution_count": 2,
   "metadata": {},
   "outputs": [],
   "source": [
    "auto_df = pd.read_csv('/datasets/autos.csv')"
   ]
  },
  {
   "cell_type": "code",
   "execution_count": 3,
   "metadata": {},
   "outputs": [
    {
     "data": {
      "text/html": [
       "<div>\n",
       "<style scoped>\n",
       "    .dataframe tbody tr th:only-of-type {\n",
       "        vertical-align: middle;\n",
       "    }\n",
       "\n",
       "    .dataframe tbody tr th {\n",
       "        vertical-align: top;\n",
       "    }\n",
       "\n",
       "    .dataframe thead th {\n",
       "        text-align: right;\n",
       "    }\n",
       "</style>\n",
       "<table border=\"1\" class=\"dataframe\">\n",
       "  <thead>\n",
       "    <tr style=\"text-align: right;\">\n",
       "      <th></th>\n",
       "      <th>DateCrawled</th>\n",
       "      <th>Price</th>\n",
       "      <th>VehicleType</th>\n",
       "      <th>RegistrationYear</th>\n",
       "      <th>Gearbox</th>\n",
       "      <th>Power</th>\n",
       "      <th>Model</th>\n",
       "      <th>Kilometer</th>\n",
       "      <th>RegistrationMonth</th>\n",
       "      <th>FuelType</th>\n",
       "      <th>Brand</th>\n",
       "      <th>NotRepaired</th>\n",
       "      <th>DateCreated</th>\n",
       "      <th>NumberOfPictures</th>\n",
       "      <th>PostalCode</th>\n",
       "      <th>LastSeen</th>\n",
       "    </tr>\n",
       "  </thead>\n",
       "  <tbody>\n",
       "    <tr>\n",
       "      <th>0</th>\n",
       "      <td>2016-03-24 11:52:17</td>\n",
       "      <td>480</td>\n",
       "      <td>NaN</td>\n",
       "      <td>1993</td>\n",
       "      <td>manual</td>\n",
       "      <td>0</td>\n",
       "      <td>golf</td>\n",
       "      <td>150000</td>\n",
       "      <td>0</td>\n",
       "      <td>petrol</td>\n",
       "      <td>volkswagen</td>\n",
       "      <td>NaN</td>\n",
       "      <td>2016-03-24 00:00:00</td>\n",
       "      <td>0</td>\n",
       "      <td>70435</td>\n",
       "      <td>2016-04-07 03:16:57</td>\n",
       "    </tr>\n",
       "    <tr>\n",
       "      <th>1</th>\n",
       "      <td>2016-03-24 10:58:45</td>\n",
       "      <td>18300</td>\n",
       "      <td>coupe</td>\n",
       "      <td>2011</td>\n",
       "      <td>manual</td>\n",
       "      <td>190</td>\n",
       "      <td>NaN</td>\n",
       "      <td>125000</td>\n",
       "      <td>5</td>\n",
       "      <td>gasoline</td>\n",
       "      <td>audi</td>\n",
       "      <td>yes</td>\n",
       "      <td>2016-03-24 00:00:00</td>\n",
       "      <td>0</td>\n",
       "      <td>66954</td>\n",
       "      <td>2016-04-07 01:46:50</td>\n",
       "    </tr>\n",
       "    <tr>\n",
       "      <th>2</th>\n",
       "      <td>2016-03-14 12:52:21</td>\n",
       "      <td>9800</td>\n",
       "      <td>suv</td>\n",
       "      <td>2004</td>\n",
       "      <td>auto</td>\n",
       "      <td>163</td>\n",
       "      <td>grand</td>\n",
       "      <td>125000</td>\n",
       "      <td>8</td>\n",
       "      <td>gasoline</td>\n",
       "      <td>jeep</td>\n",
       "      <td>NaN</td>\n",
       "      <td>2016-03-14 00:00:00</td>\n",
       "      <td>0</td>\n",
       "      <td>90480</td>\n",
       "      <td>2016-04-05 12:47:46</td>\n",
       "    </tr>\n",
       "    <tr>\n",
       "      <th>3</th>\n",
       "      <td>2016-03-17 16:54:04</td>\n",
       "      <td>1500</td>\n",
       "      <td>small</td>\n",
       "      <td>2001</td>\n",
       "      <td>manual</td>\n",
       "      <td>75</td>\n",
       "      <td>golf</td>\n",
       "      <td>150000</td>\n",
       "      <td>6</td>\n",
       "      <td>petrol</td>\n",
       "      <td>volkswagen</td>\n",
       "      <td>no</td>\n",
       "      <td>2016-03-17 00:00:00</td>\n",
       "      <td>0</td>\n",
       "      <td>91074</td>\n",
       "      <td>2016-03-17 17:40:17</td>\n",
       "    </tr>\n",
       "    <tr>\n",
       "      <th>4</th>\n",
       "      <td>2016-03-31 17:25:20</td>\n",
       "      <td>3600</td>\n",
       "      <td>small</td>\n",
       "      <td>2008</td>\n",
       "      <td>manual</td>\n",
       "      <td>69</td>\n",
       "      <td>fabia</td>\n",
       "      <td>90000</td>\n",
       "      <td>7</td>\n",
       "      <td>gasoline</td>\n",
       "      <td>skoda</td>\n",
       "      <td>no</td>\n",
       "      <td>2016-03-31 00:00:00</td>\n",
       "      <td>0</td>\n",
       "      <td>60437</td>\n",
       "      <td>2016-04-06 10:17:21</td>\n",
       "    </tr>\n",
       "    <tr>\n",
       "      <th>5</th>\n",
       "      <td>2016-04-04 17:36:23</td>\n",
       "      <td>650</td>\n",
       "      <td>sedan</td>\n",
       "      <td>1995</td>\n",
       "      <td>manual</td>\n",
       "      <td>102</td>\n",
       "      <td>3er</td>\n",
       "      <td>150000</td>\n",
       "      <td>10</td>\n",
       "      <td>petrol</td>\n",
       "      <td>bmw</td>\n",
       "      <td>yes</td>\n",
       "      <td>2016-04-04 00:00:00</td>\n",
       "      <td>0</td>\n",
       "      <td>33775</td>\n",
       "      <td>2016-04-06 19:17:07</td>\n",
       "    </tr>\n",
       "    <tr>\n",
       "      <th>6</th>\n",
       "      <td>2016-04-01 20:48:51</td>\n",
       "      <td>2200</td>\n",
       "      <td>convertible</td>\n",
       "      <td>2004</td>\n",
       "      <td>manual</td>\n",
       "      <td>109</td>\n",
       "      <td>2_reihe</td>\n",
       "      <td>150000</td>\n",
       "      <td>8</td>\n",
       "      <td>petrol</td>\n",
       "      <td>peugeot</td>\n",
       "      <td>no</td>\n",
       "      <td>2016-04-01 00:00:00</td>\n",
       "      <td>0</td>\n",
       "      <td>67112</td>\n",
       "      <td>2016-04-05 18:18:39</td>\n",
       "    </tr>\n",
       "    <tr>\n",
       "      <th>7</th>\n",
       "      <td>2016-03-21 18:54:38</td>\n",
       "      <td>0</td>\n",
       "      <td>sedan</td>\n",
       "      <td>1980</td>\n",
       "      <td>manual</td>\n",
       "      <td>50</td>\n",
       "      <td>other</td>\n",
       "      <td>40000</td>\n",
       "      <td>7</td>\n",
       "      <td>petrol</td>\n",
       "      <td>volkswagen</td>\n",
       "      <td>no</td>\n",
       "      <td>2016-03-21 00:00:00</td>\n",
       "      <td>0</td>\n",
       "      <td>19348</td>\n",
       "      <td>2016-03-25 16:47:58</td>\n",
       "    </tr>\n",
       "    <tr>\n",
       "      <th>8</th>\n",
       "      <td>2016-04-04 23:42:13</td>\n",
       "      <td>14500</td>\n",
       "      <td>bus</td>\n",
       "      <td>2014</td>\n",
       "      <td>manual</td>\n",
       "      <td>125</td>\n",
       "      <td>c_max</td>\n",
       "      <td>30000</td>\n",
       "      <td>8</td>\n",
       "      <td>petrol</td>\n",
       "      <td>ford</td>\n",
       "      <td>NaN</td>\n",
       "      <td>2016-04-04 00:00:00</td>\n",
       "      <td>0</td>\n",
       "      <td>94505</td>\n",
       "      <td>2016-04-04 23:42:13</td>\n",
       "    </tr>\n",
       "    <tr>\n",
       "      <th>9</th>\n",
       "      <td>2016-03-17 10:53:50</td>\n",
       "      <td>999</td>\n",
       "      <td>small</td>\n",
       "      <td>1998</td>\n",
       "      <td>manual</td>\n",
       "      <td>101</td>\n",
       "      <td>golf</td>\n",
       "      <td>150000</td>\n",
       "      <td>0</td>\n",
       "      <td>NaN</td>\n",
       "      <td>volkswagen</td>\n",
       "      <td>NaN</td>\n",
       "      <td>2016-03-17 00:00:00</td>\n",
       "      <td>0</td>\n",
       "      <td>27472</td>\n",
       "      <td>2016-03-31 17:17:06</td>\n",
       "    </tr>\n",
       "  </tbody>\n",
       "</table>\n",
       "</div>"
      ],
      "text/plain": [
       "           DateCrawled  Price  VehicleType  RegistrationYear Gearbox  Power  \\\n",
       "0  2016-03-24 11:52:17    480          NaN              1993  manual      0   \n",
       "1  2016-03-24 10:58:45  18300        coupe              2011  manual    190   \n",
       "2  2016-03-14 12:52:21   9800          suv              2004    auto    163   \n",
       "3  2016-03-17 16:54:04   1500        small              2001  manual     75   \n",
       "4  2016-03-31 17:25:20   3600        small              2008  manual     69   \n",
       "5  2016-04-04 17:36:23    650        sedan              1995  manual    102   \n",
       "6  2016-04-01 20:48:51   2200  convertible              2004  manual    109   \n",
       "7  2016-03-21 18:54:38      0        sedan              1980  manual     50   \n",
       "8  2016-04-04 23:42:13  14500          bus              2014  manual    125   \n",
       "9  2016-03-17 10:53:50    999        small              1998  manual    101   \n",
       "\n",
       "     Model  Kilometer  RegistrationMonth  FuelType       Brand NotRepaired  \\\n",
       "0     golf     150000                  0    petrol  volkswagen         NaN   \n",
       "1      NaN     125000                  5  gasoline        audi         yes   \n",
       "2    grand     125000                  8  gasoline        jeep         NaN   \n",
       "3     golf     150000                  6    petrol  volkswagen          no   \n",
       "4    fabia      90000                  7  gasoline       skoda          no   \n",
       "5      3er     150000                 10    petrol         bmw         yes   \n",
       "6  2_reihe     150000                  8    petrol     peugeot          no   \n",
       "7    other      40000                  7    petrol  volkswagen          no   \n",
       "8    c_max      30000                  8    petrol        ford         NaN   \n",
       "9     golf     150000                  0       NaN  volkswagen         NaN   \n",
       "\n",
       "           DateCreated  NumberOfPictures  PostalCode             LastSeen  \n",
       "0  2016-03-24 00:00:00                 0       70435  2016-04-07 03:16:57  \n",
       "1  2016-03-24 00:00:00                 0       66954  2016-04-07 01:46:50  \n",
       "2  2016-03-14 00:00:00                 0       90480  2016-04-05 12:47:46  \n",
       "3  2016-03-17 00:00:00                 0       91074  2016-03-17 17:40:17  \n",
       "4  2016-03-31 00:00:00                 0       60437  2016-04-06 10:17:21  \n",
       "5  2016-04-04 00:00:00                 0       33775  2016-04-06 19:17:07  \n",
       "6  2016-04-01 00:00:00                 0       67112  2016-04-05 18:18:39  \n",
       "7  2016-03-21 00:00:00                 0       19348  2016-03-25 16:47:58  \n",
       "8  2016-04-04 00:00:00                 0       94505  2016-04-04 23:42:13  \n",
       "9  2016-03-17 00:00:00                 0       27472  2016-03-31 17:17:06  "
      ]
     },
     "metadata": {},
     "output_type": "display_data"
    },
    {
     "name": "stdout",
     "output_type": "stream",
     "text": [
      "<class 'pandas.core.frame.DataFrame'>\n",
      "RangeIndex: 354369 entries, 0 to 354368\n",
      "Data columns (total 16 columns):\n",
      " #   Column             Non-Null Count   Dtype \n",
      "---  ------             --------------   ----- \n",
      " 0   DateCrawled        354369 non-null  object\n",
      " 1   Price              354369 non-null  int64 \n",
      " 2   VehicleType        316879 non-null  object\n",
      " 3   RegistrationYear   354369 non-null  int64 \n",
      " 4   Gearbox            334536 non-null  object\n",
      " 5   Power              354369 non-null  int64 \n",
      " 6   Model              334664 non-null  object\n",
      " 7   Kilometer          354369 non-null  int64 \n",
      " 8   RegistrationMonth  354369 non-null  int64 \n",
      " 9   FuelType           321474 non-null  object\n",
      " 10  Brand              354369 non-null  object\n",
      " 11  NotRepaired        283215 non-null  object\n",
      " 12  DateCreated        354369 non-null  object\n",
      " 13  NumberOfPictures   354369 non-null  int64 \n",
      " 14  PostalCode         354369 non-null  int64 \n",
      " 15  LastSeen           354369 non-null  object\n",
      "dtypes: int64(7), object(9)\n",
      "memory usage: 43.3+ MB\n",
      "None\n",
      "Количество дубликатов: 4\n"
     ]
    }
   ],
   "source": [
    "display(auto_df.head(10))\n",
    "print(auto_df.info())\n",
    "print('Количество дубликатов:', sum(auto_df.duplicated()))"
   ]
  },
  {
   "cell_type": "code",
   "execution_count": 4,
   "metadata": {},
   "outputs": [
    {
     "name": "stdout",
     "output_type": "stream",
     "text": [
      "Количество пропусков DateCrawled          0.000000\n",
      "Price                0.000000\n",
      "VehicleType          0.105794\n",
      "RegistrationYear     0.000000\n",
      "Gearbox              0.055967\n",
      "Power                0.000000\n",
      "Model                0.055606\n",
      "Kilometer            0.000000\n",
      "RegistrationMonth    0.000000\n",
      "FuelType             0.092827\n",
      "Brand                0.000000\n",
      "NotRepaired          0.200791\n",
      "DateCreated          0.000000\n",
      "NumberOfPictures     0.000000\n",
      "PostalCode           0.000000\n",
      "LastSeen             0.000000\n",
      "dtype: float64\n"
     ]
    }
   ],
   "source": [
    "print('Количество пропусков', \n",
    "      auto_df.isna().mean())"
   ]
  },
  {
   "cell_type": "code",
   "execution_count": 5,
   "metadata": {},
   "outputs": [
    {
     "data": {
      "text/html": [
       "<div>\n",
       "<style scoped>\n",
       "    .dataframe tbody tr th:only-of-type {\n",
       "        vertical-align: middle;\n",
       "    }\n",
       "\n",
       "    .dataframe tbody tr th {\n",
       "        vertical-align: top;\n",
       "    }\n",
       "\n",
       "    .dataframe thead th {\n",
       "        text-align: right;\n",
       "    }\n",
       "</style>\n",
       "<table border=\"1\" class=\"dataframe\">\n",
       "  <thead>\n",
       "    <tr style=\"text-align: right;\">\n",
       "      <th></th>\n",
       "      <th>Price</th>\n",
       "      <th>RegistrationYear</th>\n",
       "      <th>Power</th>\n",
       "      <th>Kilometer</th>\n",
       "      <th>RegistrationMonth</th>\n",
       "      <th>NumberOfPictures</th>\n",
       "      <th>PostalCode</th>\n",
       "    </tr>\n",
       "  </thead>\n",
       "  <tbody>\n",
       "    <tr>\n",
       "      <th>count</th>\n",
       "      <td>354369.000000</td>\n",
       "      <td>354369.000000</td>\n",
       "      <td>354369.000000</td>\n",
       "      <td>354369.000000</td>\n",
       "      <td>354369.000000</td>\n",
       "      <td>354369.0</td>\n",
       "      <td>354369.000000</td>\n",
       "    </tr>\n",
       "    <tr>\n",
       "      <th>mean</th>\n",
       "      <td>4416.656776</td>\n",
       "      <td>2004.234448</td>\n",
       "      <td>110.094337</td>\n",
       "      <td>128211.172535</td>\n",
       "      <td>5.714645</td>\n",
       "      <td>0.0</td>\n",
       "      <td>50508.689087</td>\n",
       "    </tr>\n",
       "    <tr>\n",
       "      <th>std</th>\n",
       "      <td>4514.158514</td>\n",
       "      <td>90.227958</td>\n",
       "      <td>189.850405</td>\n",
       "      <td>37905.341530</td>\n",
       "      <td>3.726421</td>\n",
       "      <td>0.0</td>\n",
       "      <td>25783.096248</td>\n",
       "    </tr>\n",
       "    <tr>\n",
       "      <th>min</th>\n",
       "      <td>0.000000</td>\n",
       "      <td>1000.000000</td>\n",
       "      <td>0.000000</td>\n",
       "      <td>5000.000000</td>\n",
       "      <td>0.000000</td>\n",
       "      <td>0.0</td>\n",
       "      <td>1067.000000</td>\n",
       "    </tr>\n",
       "    <tr>\n",
       "      <th>25%</th>\n",
       "      <td>1050.000000</td>\n",
       "      <td>1999.000000</td>\n",
       "      <td>69.000000</td>\n",
       "      <td>125000.000000</td>\n",
       "      <td>3.000000</td>\n",
       "      <td>0.0</td>\n",
       "      <td>30165.000000</td>\n",
       "    </tr>\n",
       "    <tr>\n",
       "      <th>50%</th>\n",
       "      <td>2700.000000</td>\n",
       "      <td>2003.000000</td>\n",
       "      <td>105.000000</td>\n",
       "      <td>150000.000000</td>\n",
       "      <td>6.000000</td>\n",
       "      <td>0.0</td>\n",
       "      <td>49413.000000</td>\n",
       "    </tr>\n",
       "    <tr>\n",
       "      <th>75%</th>\n",
       "      <td>6400.000000</td>\n",
       "      <td>2008.000000</td>\n",
       "      <td>143.000000</td>\n",
       "      <td>150000.000000</td>\n",
       "      <td>9.000000</td>\n",
       "      <td>0.0</td>\n",
       "      <td>71083.000000</td>\n",
       "    </tr>\n",
       "    <tr>\n",
       "      <th>max</th>\n",
       "      <td>20000.000000</td>\n",
       "      <td>9999.000000</td>\n",
       "      <td>20000.000000</td>\n",
       "      <td>150000.000000</td>\n",
       "      <td>12.000000</td>\n",
       "      <td>0.0</td>\n",
       "      <td>99998.000000</td>\n",
       "    </tr>\n",
       "  </tbody>\n",
       "</table>\n",
       "</div>"
      ],
      "text/plain": [
       "               Price  RegistrationYear          Power      Kilometer  \\\n",
       "count  354369.000000     354369.000000  354369.000000  354369.000000   \n",
       "mean     4416.656776       2004.234448     110.094337  128211.172535   \n",
       "std      4514.158514         90.227958     189.850405   37905.341530   \n",
       "min         0.000000       1000.000000       0.000000    5000.000000   \n",
       "25%      1050.000000       1999.000000      69.000000  125000.000000   \n",
       "50%      2700.000000       2003.000000     105.000000  150000.000000   \n",
       "75%      6400.000000       2008.000000     143.000000  150000.000000   \n",
       "max     20000.000000       9999.000000   20000.000000  150000.000000   \n",
       "\n",
       "       RegistrationMonth  NumberOfPictures     PostalCode  \n",
       "count      354369.000000          354369.0  354369.000000  \n",
       "mean            5.714645               0.0   50508.689087  \n",
       "std             3.726421               0.0   25783.096248  \n",
       "min             0.000000               0.0    1067.000000  \n",
       "25%             3.000000               0.0   30165.000000  \n",
       "50%             6.000000               0.0   49413.000000  \n",
       "75%             9.000000               0.0   71083.000000  \n",
       "max            12.000000               0.0   99998.000000  "
      ]
     },
     "execution_count": 5,
     "metadata": {},
     "output_type": "execute_result"
    }
   ],
   "source": [
    "auto_df.describe()"
   ]
  },
  {
   "cell_type": "markdown",
   "metadata": {},
   "source": [
    "**Выводы**\n",
    "\n",
    "   1) В столбце `Цена` минимальная цена 0.\n",
    "   \n",
    "   2) В столбце `RegistrationYear` есть некорректные значения года регистрации.\n",
    "   \n",
    "   3) В столбце `Power` есть некорректные значения мощности двигателя.\n",
    "   \n",
    "   4) В столбце `Kilometer` более 50% с пробегом 150000 при этом ни боьше ни меньше, скорее всего это какое-то ограничение в заявке, но согласитесь разница между 150000 и 300000 довольно существена и даолжна влиять на стоимость.\n",
    "   \n",
    "   5) В столбце RegistrationMonth отсутсвует месяц регистрации."
   ]
  },
  {
   "cell_type": "markdown",
   "metadata": {},
   "source": [
    "Далее пройдемся по признакам, значимых для нашей модели:\n",
    "\n",
    "   - VehicleType. Тип машины определяет ее функционал и возможности. Чем их больше машины, тем выше цена.\n",
    "    \n",
    "   - RegistrationYear. Год регистрации определяет \"свежесть\" машины. Соответвенно, чем больше возраст, тем меньше цена.\n",
    "    \n",
    "   - Gearbox. Наличие автоматической коробки передач повышает стоимость машины из-за сложности конструкции.\n",
    "    \n",
    "   - Power. Мощность в лошадиных силах напрямую влияют на цену.\n",
    "    \n",
    "   - Model. В совокупности с типом машины и брендом може влиять на популярность у покупателей.\n",
    "    \n",
    "   - Kilometer.  Чем больше пробег, тем меньше ее надежность и соответсвенно цена.\n",
    "    \n",
    "   - FuelType. Тип топлива определяет конструкцию двигателя внутреннего сгорания.\n",
    "    \n",
    "   - Brand. Концерн/компания, которая создала автомобиль показывает качество и надежность автомобиля.\n",
    "    \n",
    "   - NotRepaired. Если машина побывала в ДТП, то ее констукция уже видиизменена, следовательно надежность и качество ниже, как и цена."
   ]
  },
  {
   "cell_type": "code",
   "execution_count": 6,
   "metadata": {},
   "outputs": [
    {
     "name": "stdout",
     "output_type": "stream",
     "text": [
      "<class 'pandas.core.frame.DataFrame'>\n",
      "RangeIndex: 354369 entries, 0 to 354368\n",
      "Data columns (total 10 columns):\n",
      " #   Column            Non-Null Count   Dtype \n",
      "---  ------            --------------   ----- \n",
      " 0   VehicleType       316879 non-null  object\n",
      " 1   RegistrationYear  354369 non-null  int64 \n",
      " 2   Gearbox           334536 non-null  object\n",
      " 3   Power             354369 non-null  int64 \n",
      " 4   Model             334664 non-null  object\n",
      " 5   Kilometer         354369 non-null  int64 \n",
      " 6   FuelType          321474 non-null  object\n",
      " 7   Brand             354369 non-null  object\n",
      " 8   NotRepaired       283215 non-null  object\n",
      " 9   Price             354369 non-null  int64 \n",
      "dtypes: int64(4), object(6)\n",
      "memory usage: 27.0+ MB\n"
     ]
    }
   ],
   "source": [
    "# На основе вывода создадим новый фрейм\n",
    "filtred_auto_df = auto_df[['VehicleType', \n",
    "                         'RegistrationYear',\n",
    "                         'Gearbox', \n",
    "                         'Power',\n",
    "                         'Model',\n",
    "                         'Kilometer',\n",
    "                         'FuelType',\n",
    "                         'Brand',\n",
    "                         'NotRepaired',\n",
    "                         'Price']]\n",
    "filtred_auto_df.info()"
   ]
  },
  {
   "cell_type": "code",
   "execution_count": 7,
   "metadata": {},
   "outputs": [
    {
     "data": {
      "text/plain": [
       "45040"
      ]
     },
     "execution_count": 7,
     "metadata": {},
     "output_type": "execute_result"
    }
   ],
   "source": [
    "filtred_auto_df.duplicated().sum()"
   ]
  },
  {
   "cell_type": "code",
   "execution_count": 8,
   "metadata": {},
   "outputs": [
    {
     "data": {
      "text/plain": [
       "0"
      ]
     },
     "execution_count": 8,
     "metadata": {},
     "output_type": "execute_result"
    }
   ],
   "source": [
    "filtred_auto_df = filtred_auto_df.drop_duplicates()\n",
    "filtred_auto_df.duplicated().sum()"
   ]
  },
  {
   "cell_type": "markdown",
   "metadata": {},
   "source": [
    "Типы данных в столбцах верные, однако мы видим, что пропуском довольно много, следовательно:\n",
    "\n",
    "1) В столбце `VehicleType` постараемся восстановить данные на основе популярного показателя из столбца `Brand`\n",
    "\n",
    "2) В столбце `RegistrationYear` скоректируем данные на основе реальных значений в машинах в сравнении с другими (пробег, марка, модель)\n",
    "\n",
    "3) В столбце `Gearbox` везде заполнил как manual - ручная\n",
    "\n",
    "4) В столбце `Power` скоректируем данные на основе реальных значений по аналогии с `RegistrationYear`\n",
    "\n",
    "5) В столбце `FuelType` по анлогии с`VehicleType`\n",
    "\n",
    "6) В столбце `NotRepaired` для всех NaN И пропусков установим значение yes\n",
    "\n",
    "7) В столбце `Model` для всех NaN установим значение 'unknown'.\n",
    "\n",
    "Но прежде всего отработаем данные п оцелевому признаку `Price`"
   ]
  },
  {
   "cell_type": "code",
   "execution_count": 9,
   "metadata": {},
   "outputs": [
    {
     "data": {
      "text/plain": [
       "<AxesSubplot:>"
      ]
     },
     "execution_count": 9,
     "metadata": {},
     "output_type": "execute_result"
    },
    {
     "data": {
      "image/png": "[encoded data removed]",
      "text/plain": [
       "<Figure size 864x648 with 1 Axes>"
      ]
     },
     "metadata": {
      "needs_background": "light"
     },
     "output_type": "display_data"
    }
   ],
   "source": [
    "# Построим гистограмму\n",
    "filtred_auto_df['Price'].hist(bins=80, figsize=(12,9))"
   ]
  },
  {
   "cell_type": "code",
   "execution_count": 10,
   "metadata": {},
   "outputs": [
    {
     "data": {
      "text/plain": [
       "0        8904\n",
       "500      4650\n",
       "1500     4533\n",
       "1000     3875\n",
       "1200     3799\n",
       "         ... \n",
       "1654        1\n",
       "5748        1\n",
       "7285        1\n",
       "11379       1\n",
       "8188        1\n",
       "Name: Price, Length: 3731, dtype: int64"
      ]
     },
     "execution_count": 10,
     "metadata": {},
     "output_type": "execute_result"
    }
   ],
   "source": [
    "filtred_auto_df['Price'].value_counts()"
   ]
  },
  {
   "cell_type": "markdown",
   "metadata": {},
   "source": [
    "10772 значений с 0, удалим их и посмотрим как это повлияет на распределение на гистограмме"
   ]
  },
  {
   "cell_type": "code",
   "execution_count": 11,
   "metadata": {},
   "outputs": [
    {
     "data": {
      "text/plain": [
       "count    300425.000000\n",
       "mean       4619.921098\n",
       "std        4565.205287\n",
       "min           1.000000\n",
       "25%        1200.000000\n",
       "50%        2900.000000\n",
       "75%        6650.000000\n",
       "max       20000.000000\n",
       "Name: Price, dtype: float64"
      ]
     },
     "execution_count": 11,
     "metadata": {},
     "output_type": "execute_result"
    },
    {
     "data": {
      "image/png": "[encoded data removed]",
      "text/plain": [
       "<Figure size 864x648 with 1 Axes>"
      ]
     },
     "metadata": {
      "needs_background": "light"
     },
     "output_type": "display_data"
    }
   ],
   "source": [
    "filtred_auto_df = filtred_auto_df.query('Price > 0')\n",
    "filtred_auto_df['Price'].hist(bins=100, figsize=(12,9))\n",
    "filtred_auto_df['Price'].describe()"
   ]
  },
  {
   "cell_type": "code",
   "execution_count": 12,
   "metadata": {},
   "outputs": [
    {
     "data": {
      "text/plain": [
       "0.20      990.0\n",
       "0.88    10750.0\n",
       "Name: Price, dtype: float64"
      ]
     },
     "execution_count": 12,
     "metadata": {},
     "output_type": "execute_result"
    }
   ],
   "source": [
    "filtred_auto_df['Price'].quantile([0.2, 0.88])"
   ]
  },
  {
   "cell_type": "markdown",
   "metadata": {},
   "source": [
    "Стоимость 990 евро примерно равно 68000 рублей (в целом за такую сумму можно купить машину). Выбор 88% квантиля обоснован выбросами после 10000 евро и в целом на гистограмме видно, что значения после не особо отличаются."
   ]
  },
  {
   "cell_type": "code",
   "execution_count": 13,
   "metadata": {},
   "outputs": [
    {
     "name": "stdout",
     "output_type": "stream",
     "text": [
      "<class 'pandas.core.frame.DataFrame'>\n",
      "Int64Index: 204267 entries, 2 to 354368\n",
      "Data columns (total 10 columns):\n",
      " #   Column            Non-Null Count   Dtype \n",
      "---  ------            --------------   ----- \n",
      " 0   VehicleType       185868 non-null  object\n",
      " 1   RegistrationYear  204267 non-null  int64 \n",
      " 2   Gearbox           195894 non-null  object\n",
      " 3   Power             204267 non-null  int64 \n",
      " 4   Model             194352 non-null  object\n",
      " 5   Kilometer         204267 non-null  int64 \n",
      " 6   FuelType          188344 non-null  object\n",
      " 7   Brand             204267 non-null  object\n",
      " 8   NotRepaired       167863 non-null  object\n",
      " 9   Price             204267 non-null  int64 \n",
      "dtypes: int64(4), object(6)\n",
      "memory usage: 17.1+ MB\n"
     ]
    }
   ],
   "source": [
    "filtred_auto_df = filtred_auto_df.query('990 <= Price <= 10500')\n",
    "filtred_auto_df.info()"
   ]
  },
  {
   "cell_type": "markdown",
   "metadata": {},
   "source": [
    "Далее перейдем в столбцу 'RegistrationYear'"
   ]
  },
  {
   "cell_type": "code",
   "execution_count": 14,
   "metadata": {},
   "outputs": [
    {
     "data": {
      "text/plain": [
       "count    204267.000000\n",
       "mean       2003.978322\n",
       "std          58.632683\n",
       "min        1000.000000\n",
       "25%        2000.000000\n",
       "50%        2004.000000\n",
       "75%        2007.000000\n",
       "max        9999.000000\n",
       "Name: RegistrationYear, dtype: float64"
      ]
     },
     "execution_count": 14,
     "metadata": {},
     "output_type": "execute_result"
    },
    {
     "data": {
      "image/png": "[encoded data removed]",
      "text/plain": [
       "<Figure size 720x576 with 1 Axes>"
      ]
     },
     "metadata": {
      "needs_background": "light"
     },
     "output_type": "display_data"
    }
   ],
   "source": [
    "filtred_auto_df['RegistrationYear'].hist(bins=90, figsize=(10,8))\n",
    "filtred_auto_df['RegistrationYear'].describe()"
   ]
  },
  {
   "cell_type": "code",
   "execution_count": 15,
   "metadata": {},
   "outputs": [
    {
     "data": {
      "text/plain": [
       "Timestamp('2016-04-07 14:36:58')"
      ]
     },
     "execution_count": 15,
     "metadata": {},
     "output_type": "execute_result"
    }
   ],
   "source": [
    "car_date_max = pd.to_datetime(auto_df['DateCrawled'])\n",
    "car_date_max.max()"
   ]
  },
  {
   "cell_type": "code",
   "execution_count": 16,
   "metadata": {},
   "outputs": [
    {
     "data": {
      "text/plain": [
       "Timestamp('1970-01-01 00:00:00.000001')"
      ]
     },
     "execution_count": 16,
     "metadata": {},
     "output_type": "execute_result"
    }
   ],
   "source": [
    "car_date_min = pd.to_datetime(auto_df['RegistrationYear'])\n",
    "car_date_min.min()"
   ]
  },
  {
   "cell_type": "code",
   "execution_count": 17,
   "metadata": {},
   "outputs": [
    {
     "data": {
      "text/plain": [
       "count    194020.000000\n",
       "mean       2002.891434\n",
       "std           5.903556\n",
       "min        1971.000000\n",
       "25%        2000.000000\n",
       "50%        2003.000000\n",
       "75%        2006.000000\n",
       "max        2016.000000\n",
       "Name: RegistrationYear, dtype: float64"
      ]
     },
     "execution_count": 17,
     "metadata": {},
     "output_type": "execute_result"
    },
    {
     "data": {
      "image/png": "[encoded data removed]",
      "text/plain": [
       "<Figure size 864x648 with 1 Axes>"
      ]
     },
     "metadata": {
      "needs_background": "light"
     },
     "output_type": "display_data"
    }
   ],
   "source": [
    "filtred_auto_df = filtred_auto_df.query('1970 < RegistrationYear < 2017')\n",
    "filtred_auto_df['RegistrationYear'].hist(bins=100, figsize=(12,9))\n",
    "filtred_auto_df['RegistrationYear'].describe()"
   ]
  },
  {
   "cell_type": "markdown",
   "metadata": {},
   "source": [
    "Даты регистрации после 2016 года некорректны, как и до 1970. Отсечем ненужные года и построим график, в целом у нас вырисовывается хороший график."
   ]
  },
  {
   "cell_type": "markdown",
   "metadata": {},
   "source": [
    "Далее зайемемся заменов данных в столбцах `Gearbox, NotRepaired и Model`"
   ]
  },
  {
   "cell_type": "code",
   "execution_count": 18,
   "metadata": {},
   "outputs": [
    {
     "data": {
      "text/plain": [
       "VehicleType         0.045428\n",
       "RegistrationYear    0.000000\n",
       "Gearbox             0.000000\n",
       "Power               0.000000\n",
       "Model               0.000000\n",
       "Kilometer           0.000000\n",
       "FuelType            0.062524\n",
       "Brand               0.000000\n",
       "NotRepaired         0.000000\n",
       "Price               0.000000\n",
       "dtype: float64"
      ]
     },
     "execution_count": 18,
     "metadata": {},
     "output_type": "execute_result"
    }
   ],
   "source": [
    "\n",
    "filtred_auto_df.fillna({'Gearbox':'manual', 'NotRepaired':'yes', 'Model':'unknown'},\n",
    "                          inplace=True)\n",
    "filtred_auto_df.isna().mean()"
   ]
  },
  {
   "cell_type": "markdown",
   "metadata": {},
   "source": [
    "Супер, осталось разобраться со столбцами `VehicleType и FuelType `"
   ]
  },
  {
   "cell_type": "code",
   "execution_count": 19,
   "metadata": {},
   "outputs": [
    {
     "data": {
      "text/plain": [
       "sedan          53800\n",
       "small          43058\n",
       "wagon          38566\n",
       "bus            19914\n",
       "convertible    12706\n",
       "coupe           8966\n",
       "suv             6169\n",
       "other           2027\n",
       "Name: VehicleType, dtype: int64"
      ]
     },
     "metadata": {},
     "output_type": "display_data"
    },
    {
     "data": {
      "text/plain": [
       "8814"
      ]
     },
     "metadata": {},
     "output_type": "display_data"
    }
   ],
   "source": [
    "# Оценим кол-во пропущенных значений относительно всех значений в столбце VehicleType, \n",
    "# в целом мы бы могли просто закинуть из в другие или в самый популярный тип седан,\n",
    "# но это было бы не качественно, так что идем дальше\n",
    "display(filtred_auto_df['VehicleType'].value_counts())\n",
    "display(filtred_auto_df['VehicleType'].isna().sum())"
   ]
  },
  {
   "cell_type": "code",
   "execution_count": 20,
   "metadata": {},
   "outputs": [
    {
     "data": {
      "text/html": [
       "<div>\n",
       "<style scoped>\n",
       "    .dataframe tbody tr th:only-of-type {\n",
       "        vertical-align: middle;\n",
       "    }\n",
       "\n",
       "    .dataframe tbody tr th {\n",
       "        vertical-align: top;\n",
       "    }\n",
       "\n",
       "    .dataframe thead tr th {\n",
       "        text-align: left;\n",
       "    }\n",
       "\n",
       "    .dataframe thead tr:last-of-type th {\n",
       "        text-align: right;\n",
       "    }\n",
       "</style>\n",
       "<table border=\"1\" class=\"dataframe\">\n",
       "  <thead>\n",
       "    <tr>\n",
       "      <th></th>\n",
       "      <th colspan=\"21\" halign=\"left\">count</th>\n",
       "    </tr>\n",
       "    <tr>\n",
       "      <th></th>\n",
       "      <th colspan=\"21\" halign=\"left\">Price</th>\n",
       "    </tr>\n",
       "    <tr>\n",
       "      <th>Brand</th>\n",
       "      <th>alfa_romeo</th>\n",
       "      <th>audi</th>\n",
       "      <th>bmw</th>\n",
       "      <th>chevrolet</th>\n",
       "      <th>chrysler</th>\n",
       "      <th>citroen</th>\n",
       "      <th>dacia</th>\n",
       "      <th>daewoo</th>\n",
       "      <th>daihatsu</th>\n",
       "      <th>fiat</th>\n",
       "      <th>...</th>\n",
       "      <th>seat</th>\n",
       "      <th>skoda</th>\n",
       "      <th>smart</th>\n",
       "      <th>sonstige_autos</th>\n",
       "      <th>subaru</th>\n",
       "      <th>suzuki</th>\n",
       "      <th>toyota</th>\n",
       "      <th>trabant</th>\n",
       "      <th>volkswagen</th>\n",
       "      <th>volvo</th>\n",
       "    </tr>\n",
       "    <tr>\n",
       "      <th>VehicleType</th>\n",
       "      <th></th>\n",
       "      <th></th>\n",
       "      <th></th>\n",
       "      <th></th>\n",
       "      <th></th>\n",
       "      <th></th>\n",
       "      <th></th>\n",
       "      <th></th>\n",
       "      <th></th>\n",
       "      <th></th>\n",
       "      <th></th>\n",
       "      <th></th>\n",
       "      <th></th>\n",
       "      <th></th>\n",
       "      <th></th>\n",
       "      <th></th>\n",
       "      <th></th>\n",
       "      <th></th>\n",
       "      <th></th>\n",
       "      <th></th>\n",
       "      <th></th>\n",
       "    </tr>\n",
       "  </thead>\n",
       "  <tbody>\n",
       "    <tr>\n",
       "      <th>bus</th>\n",
       "      <td>NaN</td>\n",
       "      <td>10.0</td>\n",
       "      <td>5.0</td>\n",
       "      <td>98.0</td>\n",
       "      <td>269.0</td>\n",
       "      <td>994.0</td>\n",
       "      <td>33.0</td>\n",
       "      <td>18.0</td>\n",
       "      <td>19.0</td>\n",
       "      <td>623.0</td>\n",
       "      <td>...</td>\n",
       "      <td>466.0</td>\n",
       "      <td>183.0</td>\n",
       "      <td>1.0</td>\n",
       "      <td>145.0</td>\n",
       "      <td>12.0</td>\n",
       "      <td>19.0</td>\n",
       "      <td>373.0</td>\n",
       "      <td>NaN</td>\n",
       "      <td>6123.0</td>\n",
       "      <td>NaN</td>\n",
       "    </tr>\n",
       "    <tr>\n",
       "      <th>convertible</th>\n",
       "      <td>119.0</td>\n",
       "      <td>885.0</td>\n",
       "      <td>1915.0</td>\n",
       "      <td>8.0</td>\n",
       "      <td>170.0</td>\n",
       "      <td>93.0</td>\n",
       "      <td>NaN</td>\n",
       "      <td>NaN</td>\n",
       "      <td>15.0</td>\n",
       "      <td>291.0</td>\n",
       "      <td>...</td>\n",
       "      <td>NaN</td>\n",
       "      <td>2.0</td>\n",
       "      <td>988.0</td>\n",
       "      <td>180.0</td>\n",
       "      <td>1.0</td>\n",
       "      <td>28.0</td>\n",
       "      <td>55.0</td>\n",
       "      <td>28.0</td>\n",
       "      <td>1822.0</td>\n",
       "      <td>36.0</td>\n",
       "    </tr>\n",
       "    <tr>\n",
       "      <th>coupe</th>\n",
       "      <td>174.0</td>\n",
       "      <td>658.0</td>\n",
       "      <td>2036.0</td>\n",
       "      <td>49.0</td>\n",
       "      <td>30.0</td>\n",
       "      <td>102.0</td>\n",
       "      <td>NaN</td>\n",
       "      <td>1.0</td>\n",
       "      <td>NaN</td>\n",
       "      <td>119.0</td>\n",
       "      <td>...</td>\n",
       "      <td>48.0</td>\n",
       "      <td>5.0</td>\n",
       "      <td>284.0</td>\n",
       "      <td>74.0</td>\n",
       "      <td>3.0</td>\n",
       "      <td>NaN</td>\n",
       "      <td>146.0</td>\n",
       "      <td>2.0</td>\n",
       "      <td>705.0</td>\n",
       "      <td>42.0</td>\n",
       "    </tr>\n",
       "    <tr>\n",
       "      <th>other</th>\n",
       "      <td>5.0</td>\n",
       "      <td>67.0</td>\n",
       "      <td>139.0</td>\n",
       "      <td>21.0</td>\n",
       "      <td>6.0</td>\n",
       "      <td>75.0</td>\n",
       "      <td>5.0</td>\n",
       "      <td>3.0</td>\n",
       "      <td>5.0</td>\n",
       "      <td>123.0</td>\n",
       "      <td>...</td>\n",
       "      <td>32.0</td>\n",
       "      <td>19.0</td>\n",
       "      <td>7.0</td>\n",
       "      <td>131.0</td>\n",
       "      <td>4.0</td>\n",
       "      <td>10.0</td>\n",
       "      <td>13.0</td>\n",
       "      <td>5.0</td>\n",
       "      <td>503.0</td>\n",
       "      <td>2.0</td>\n",
       "    </tr>\n",
       "    <tr>\n",
       "      <th>sedan</th>\n",
       "      <td>571.0</td>\n",
       "      <td>6253.0</td>\n",
       "      <td>10324.0</td>\n",
       "      <td>166.0</td>\n",
       "      <td>158.0</td>\n",
       "      <td>448.0</td>\n",
       "      <td>88.0</td>\n",
       "      <td>44.0</td>\n",
       "      <td>31.0</td>\n",
       "      <td>541.0</td>\n",
       "      <td>...</td>\n",
       "      <td>1142.0</td>\n",
       "      <td>654.0</td>\n",
       "      <td>24.0</td>\n",
       "      <td>231.0</td>\n",
       "      <td>94.0</td>\n",
       "      <td>99.0</td>\n",
       "      <td>696.0</td>\n",
       "      <td>91.0</td>\n",
       "      <td>11009.0</td>\n",
       "      <td>410.0</td>\n",
       "    </tr>\n",
       "    <tr>\n",
       "      <th>small</th>\n",
       "      <td>177.0</td>\n",
       "      <td>750.0</td>\n",
       "      <td>251.0</td>\n",
       "      <td>505.0</td>\n",
       "      <td>8.0</td>\n",
       "      <td>1105.0</td>\n",
       "      <td>190.0</td>\n",
       "      <td>139.0</td>\n",
       "      <td>245.0</td>\n",
       "      <td>2842.0</td>\n",
       "      <td>...</td>\n",
       "      <td>1874.0</td>\n",
       "      <td>856.0</td>\n",
       "      <td>2687.0</td>\n",
       "      <td>136.0</td>\n",
       "      <td>52.0</td>\n",
       "      <td>610.0</td>\n",
       "      <td>1254.0</td>\n",
       "      <td>28.0</td>\n",
       "      <td>9352.0</td>\n",
       "      <td>7.0</td>\n",
       "    </tr>\n",
       "    <tr>\n",
       "      <th>suv</th>\n",
       "      <td>NaN</td>\n",
       "      <td>14.0</td>\n",
       "      <td>315.0</td>\n",
       "      <td>231.0</td>\n",
       "      <td>13.0</td>\n",
       "      <td>10.0</td>\n",
       "      <td>142.0</td>\n",
       "      <td>1.0</td>\n",
       "      <td>29.0</td>\n",
       "      <td>17.0</td>\n",
       "      <td>...</td>\n",
       "      <td>3.0</td>\n",
       "      <td>22.0</td>\n",
       "      <td>NaN</td>\n",
       "      <td>223.0</td>\n",
       "      <td>42.0</td>\n",
       "      <td>586.0</td>\n",
       "      <td>318.0</td>\n",
       "      <td>NaN</td>\n",
       "      <td>367.0</td>\n",
       "      <td>65.0</td>\n",
       "    </tr>\n",
       "    <tr>\n",
       "      <th>wagon</th>\n",
       "      <td>305.0</td>\n",
       "      <td>6262.0</td>\n",
       "      <td>4726.0</td>\n",
       "      <td>82.0</td>\n",
       "      <td>174.0</td>\n",
       "      <td>385.0</td>\n",
       "      <td>221.0</td>\n",
       "      <td>19.0</td>\n",
       "      <td>14.0</td>\n",
       "      <td>232.0</td>\n",
       "      <td>...</td>\n",
       "      <td>183.0</td>\n",
       "      <td>1807.0</td>\n",
       "      <td>1.0</td>\n",
       "      <td>90.0</td>\n",
       "      <td>175.0</td>\n",
       "      <td>53.0</td>\n",
       "      <td>430.0</td>\n",
       "      <td>40.0</td>\n",
       "      <td>7532.0</td>\n",
       "      <td>1158.0</td>\n",
       "    </tr>\n",
       "  </tbody>\n",
       "</table>\n",
       "<p>8 rows × 40 columns</p>\n",
       "</div>"
      ],
      "text/plain": [
       "                 count                                                     \\\n",
       "                 Price                                                      \n",
       "Brand       alfa_romeo    audi      bmw chevrolet chrysler citroen  dacia   \n",
       "VehicleType                                                                 \n",
       "bus                NaN    10.0      5.0      98.0    269.0   994.0   33.0   \n",
       "convertible      119.0   885.0   1915.0       8.0    170.0    93.0    NaN   \n",
       "coupe            174.0   658.0   2036.0      49.0     30.0   102.0    NaN   \n",
       "other              5.0    67.0    139.0      21.0      6.0    75.0    5.0   \n",
       "sedan            571.0  6253.0  10324.0     166.0    158.0   448.0   88.0   \n",
       "small            177.0   750.0    251.0     505.0      8.0  1105.0  190.0   \n",
       "suv                NaN    14.0    315.0     231.0     13.0    10.0  142.0   \n",
       "wagon            305.0  6262.0   4726.0      82.0    174.0   385.0  221.0   \n",
       "\n",
       "                                     ...                          \\\n",
       "                                     ...                           \n",
       "Brand       daewoo daihatsu    fiat  ...    seat   skoda   smart   \n",
       "VehicleType                          ...                           \n",
       "bus           18.0     19.0   623.0  ...   466.0   183.0     1.0   \n",
       "convertible    NaN     15.0   291.0  ...     NaN     2.0   988.0   \n",
       "coupe          1.0      NaN   119.0  ...    48.0     5.0   284.0   \n",
       "other          3.0      5.0   123.0  ...    32.0    19.0     7.0   \n",
       "sedan         44.0     31.0   541.0  ...  1142.0   654.0    24.0   \n",
       "small        139.0    245.0  2842.0  ...  1874.0   856.0  2687.0   \n",
       "suv            1.0     29.0    17.0  ...     3.0    22.0     NaN   \n",
       "wagon         19.0     14.0   232.0  ...   183.0  1807.0     1.0   \n",
       "\n",
       "                                                                             \n",
       "                                                                             \n",
       "Brand       sonstige_autos subaru suzuki  toyota trabant volkswagen   volvo  \n",
       "VehicleType                                                                  \n",
       "bus                  145.0   12.0   19.0   373.0     NaN     6123.0     NaN  \n",
       "convertible          180.0    1.0   28.0    55.0    28.0     1822.0    36.0  \n",
       "coupe                 74.0    3.0    NaN   146.0     2.0      705.0    42.0  \n",
       "other                131.0    4.0   10.0    13.0     5.0      503.0     2.0  \n",
       "sedan                231.0   94.0   99.0   696.0    91.0    11009.0   410.0  \n",
       "small                136.0   52.0  610.0  1254.0    28.0     9352.0     7.0  \n",
       "suv                  223.0   42.0  586.0   318.0     NaN      367.0    65.0  \n",
       "wagon                 90.0  175.0   53.0   430.0    40.0     7532.0  1158.0  \n",
       "\n",
       "[8 rows x 40 columns]"
      ]
     },
     "metadata": {},
     "output_type": "display_data"
    }
   ],
   "source": [
    "#Построим сводную таблицу для того чтобы наглядно увидеть у каких марок, какие модели, какой кузов и сколько их.\n",
    "vehicle_type_pvt = filtred_auto_df.pivot_table(index=['VehicleType'], \n",
    "                                                    columns=['Brand'],\n",
    "                                                    values=['Price'],\n",
    "                                                    aggfunc=['count'])\n",
    "display(vehicle_type_pvt)"
   ]
  },
  {
   "cell_type": "code",
   "execution_count": 21,
   "metadata": {},
   "outputs": [
    {
     "data": {
      "text/html": [
       "<div>\n",
       "<style scoped>\n",
       "    .dataframe tbody tr th:only-of-type {\n",
       "        vertical-align: middle;\n",
       "    }\n",
       "\n",
       "    .dataframe tbody tr th {\n",
       "        vertical-align: top;\n",
       "    }\n",
       "\n",
       "    .dataframe thead th {\n",
       "        text-align: right;\n",
       "    }\n",
       "</style>\n",
       "<table border=\"1\" class=\"dataframe\">\n",
       "  <thead>\n",
       "    <tr style=\"text-align: right;\">\n",
       "      <th>Brand</th>\n",
       "      <th>alfa_romeo</th>\n",
       "      <th>audi</th>\n",
       "      <th>bmw</th>\n",
       "      <th>chevrolet</th>\n",
       "      <th>chrysler</th>\n",
       "      <th>citroen</th>\n",
       "      <th>dacia</th>\n",
       "      <th>daewoo</th>\n",
       "      <th>daihatsu</th>\n",
       "      <th>fiat</th>\n",
       "      <th>...</th>\n",
       "      <th>seat</th>\n",
       "      <th>skoda</th>\n",
       "      <th>smart</th>\n",
       "      <th>sonstige_autos</th>\n",
       "      <th>subaru</th>\n",
       "      <th>suzuki</th>\n",
       "      <th>toyota</th>\n",
       "      <th>trabant</th>\n",
       "      <th>volkswagen</th>\n",
       "      <th>volvo</th>\n",
       "    </tr>\n",
       "    <tr>\n",
       "      <th>VehicleType</th>\n",
       "      <th></th>\n",
       "      <th></th>\n",
       "      <th></th>\n",
       "      <th></th>\n",
       "      <th></th>\n",
       "      <th></th>\n",
       "      <th></th>\n",
       "      <th></th>\n",
       "      <th></th>\n",
       "      <th></th>\n",
       "      <th></th>\n",
       "      <th></th>\n",
       "      <th></th>\n",
       "      <th></th>\n",
       "      <th></th>\n",
       "      <th></th>\n",
       "      <th></th>\n",
       "      <th></th>\n",
       "      <th></th>\n",
       "      <th></th>\n",
       "      <th></th>\n",
       "    </tr>\n",
       "  </thead>\n",
       "  <tbody>\n",
       "    <tr>\n",
       "      <th>bus</th>\n",
       "      <td>NaN</td>\n",
       "      <td>10.0</td>\n",
       "      <td>5.0</td>\n",
       "      <td>98.0</td>\n",
       "      <td>269.0</td>\n",
       "      <td>994.0</td>\n",
       "      <td>33.0</td>\n",
       "      <td>18.0</td>\n",
       "      <td>19.0</td>\n",
       "      <td>623.0</td>\n",
       "      <td>...</td>\n",
       "      <td>466.0</td>\n",
       "      <td>183.0</td>\n",
       "      <td>1.0</td>\n",
       "      <td>145.0</td>\n",
       "      <td>12.0</td>\n",
       "      <td>19.0</td>\n",
       "      <td>373.0</td>\n",
       "      <td>NaN</td>\n",
       "      <td>6123.0</td>\n",
       "      <td>NaN</td>\n",
       "    </tr>\n",
       "    <tr>\n",
       "      <th>convertible</th>\n",
       "      <td>119.0</td>\n",
       "      <td>885.0</td>\n",
       "      <td>1915.0</td>\n",
       "      <td>8.0</td>\n",
       "      <td>170.0</td>\n",
       "      <td>93.0</td>\n",
       "      <td>NaN</td>\n",
       "      <td>NaN</td>\n",
       "      <td>15.0</td>\n",
       "      <td>291.0</td>\n",
       "      <td>...</td>\n",
       "      <td>NaN</td>\n",
       "      <td>2.0</td>\n",
       "      <td>988.0</td>\n",
       "      <td>180.0</td>\n",
       "      <td>1.0</td>\n",
       "      <td>28.0</td>\n",
       "      <td>55.0</td>\n",
       "      <td>28.0</td>\n",
       "      <td>1822.0</td>\n",
       "      <td>36.0</td>\n",
       "    </tr>\n",
       "    <tr>\n",
       "      <th>coupe</th>\n",
       "      <td>174.0</td>\n",
       "      <td>658.0</td>\n",
       "      <td>2036.0</td>\n",
       "      <td>49.0</td>\n",
       "      <td>30.0</td>\n",
       "      <td>102.0</td>\n",
       "      <td>NaN</td>\n",
       "      <td>1.0</td>\n",
       "      <td>NaN</td>\n",
       "      <td>119.0</td>\n",
       "      <td>...</td>\n",
       "      <td>48.0</td>\n",
       "      <td>5.0</td>\n",
       "      <td>284.0</td>\n",
       "      <td>74.0</td>\n",
       "      <td>3.0</td>\n",
       "      <td>NaN</td>\n",
       "      <td>146.0</td>\n",
       "      <td>2.0</td>\n",
       "      <td>705.0</td>\n",
       "      <td>42.0</td>\n",
       "    </tr>\n",
       "    <tr>\n",
       "      <th>other</th>\n",
       "      <td>5.0</td>\n",
       "      <td>67.0</td>\n",
       "      <td>139.0</td>\n",
       "      <td>21.0</td>\n",
       "      <td>6.0</td>\n",
       "      <td>75.0</td>\n",
       "      <td>5.0</td>\n",
       "      <td>3.0</td>\n",
       "      <td>5.0</td>\n",
       "      <td>123.0</td>\n",
       "      <td>...</td>\n",
       "      <td>32.0</td>\n",
       "      <td>19.0</td>\n",
       "      <td>7.0</td>\n",
       "      <td>131.0</td>\n",
       "      <td>4.0</td>\n",
       "      <td>10.0</td>\n",
       "      <td>13.0</td>\n",
       "      <td>5.0</td>\n",
       "      <td>503.0</td>\n",
       "      <td>2.0</td>\n",
       "    </tr>\n",
       "    <tr>\n",
       "      <th>sedan</th>\n",
       "      <td>571.0</td>\n",
       "      <td>6253.0</td>\n",
       "      <td>10324.0</td>\n",
       "      <td>166.0</td>\n",
       "      <td>158.0</td>\n",
       "      <td>448.0</td>\n",
       "      <td>88.0</td>\n",
       "      <td>44.0</td>\n",
       "      <td>31.0</td>\n",
       "      <td>541.0</td>\n",
       "      <td>...</td>\n",
       "      <td>1142.0</td>\n",
       "      <td>654.0</td>\n",
       "      <td>24.0</td>\n",
       "      <td>231.0</td>\n",
       "      <td>94.0</td>\n",
       "      <td>99.0</td>\n",
       "      <td>696.0</td>\n",
       "      <td>91.0</td>\n",
       "      <td>11009.0</td>\n",
       "      <td>410.0</td>\n",
       "    </tr>\n",
       "    <tr>\n",
       "      <th>small</th>\n",
       "      <td>177.0</td>\n",
       "      <td>750.0</td>\n",
       "      <td>251.0</td>\n",
       "      <td>505.0</td>\n",
       "      <td>8.0</td>\n",
       "      <td>1105.0</td>\n",
       "      <td>190.0</td>\n",
       "      <td>139.0</td>\n",
       "      <td>245.0</td>\n",
       "      <td>2842.0</td>\n",
       "      <td>...</td>\n",
       "      <td>1874.0</td>\n",
       "      <td>856.0</td>\n",
       "      <td>2687.0</td>\n",
       "      <td>136.0</td>\n",
       "      <td>52.0</td>\n",
       "      <td>610.0</td>\n",
       "      <td>1254.0</td>\n",
       "      <td>28.0</td>\n",
       "      <td>9352.0</td>\n",
       "      <td>7.0</td>\n",
       "    </tr>\n",
       "    <tr>\n",
       "      <th>suv</th>\n",
       "      <td>NaN</td>\n",
       "      <td>14.0</td>\n",
       "      <td>315.0</td>\n",
       "      <td>231.0</td>\n",
       "      <td>13.0</td>\n",
       "      <td>10.0</td>\n",
       "      <td>142.0</td>\n",
       "      <td>1.0</td>\n",
       "      <td>29.0</td>\n",
       "      <td>17.0</td>\n",
       "      <td>...</td>\n",
       "      <td>3.0</td>\n",
       "      <td>22.0</td>\n",
       "      <td>NaN</td>\n",
       "      <td>223.0</td>\n",
       "      <td>42.0</td>\n",
       "      <td>586.0</td>\n",
       "      <td>318.0</td>\n",
       "      <td>NaN</td>\n",
       "      <td>367.0</td>\n",
       "      <td>65.0</td>\n",
       "    </tr>\n",
       "    <tr>\n",
       "      <th>wagon</th>\n",
       "      <td>305.0</td>\n",
       "      <td>6262.0</td>\n",
       "      <td>4726.0</td>\n",
       "      <td>82.0</td>\n",
       "      <td>174.0</td>\n",
       "      <td>385.0</td>\n",
       "      <td>221.0</td>\n",
       "      <td>19.0</td>\n",
       "      <td>14.0</td>\n",
       "      <td>232.0</td>\n",
       "      <td>...</td>\n",
       "      <td>183.0</td>\n",
       "      <td>1807.0</td>\n",
       "      <td>1.0</td>\n",
       "      <td>90.0</td>\n",
       "      <td>175.0</td>\n",
       "      <td>53.0</td>\n",
       "      <td>430.0</td>\n",
       "      <td>40.0</td>\n",
       "      <td>7532.0</td>\n",
       "      <td>1158.0</td>\n",
       "    </tr>\n",
       "  </tbody>\n",
       "</table>\n",
       "<p>8 rows × 40 columns</p>\n",
       "</div>"
      ],
      "text/plain": [
       "Brand        alfa_romeo    audi      bmw  chevrolet  chrysler  citroen  dacia  \\\n",
       "VehicleType                                                                     \n",
       "bus                 NaN    10.0      5.0       98.0     269.0    994.0   33.0   \n",
       "convertible       119.0   885.0   1915.0        8.0     170.0     93.0    NaN   \n",
       "coupe             174.0   658.0   2036.0       49.0      30.0    102.0    NaN   \n",
       "other               5.0    67.0    139.0       21.0       6.0     75.0    5.0   \n",
       "sedan             571.0  6253.0  10324.0      166.0     158.0    448.0   88.0   \n",
       "small             177.0   750.0    251.0      505.0       8.0   1105.0  190.0   \n",
       "suv                 NaN    14.0    315.0      231.0      13.0     10.0  142.0   \n",
       "wagon             305.0  6262.0   4726.0       82.0     174.0    385.0  221.0   \n",
       "\n",
       "Brand        daewoo  daihatsu    fiat  ...    seat   skoda   smart  \\\n",
       "VehicleType                            ...                           \n",
       "bus            18.0      19.0   623.0  ...   466.0   183.0     1.0   \n",
       "convertible     NaN      15.0   291.0  ...     NaN     2.0   988.0   \n",
       "coupe           1.0       NaN   119.0  ...    48.0     5.0   284.0   \n",
       "other           3.0       5.0   123.0  ...    32.0    19.0     7.0   \n",
       "sedan          44.0      31.0   541.0  ...  1142.0   654.0    24.0   \n",
       "small         139.0     245.0  2842.0  ...  1874.0   856.0  2687.0   \n",
       "suv             1.0      29.0    17.0  ...     3.0    22.0     NaN   \n",
       "wagon          19.0      14.0   232.0  ...   183.0  1807.0     1.0   \n",
       "\n",
       "Brand        sonstige_autos  subaru  suzuki  toyota  trabant  volkswagen  \\\n",
       "VehicleType                                                                \n",
       "bus                   145.0    12.0    19.0   373.0      NaN      6123.0   \n",
       "convertible           180.0     1.0    28.0    55.0     28.0      1822.0   \n",
       "coupe                  74.0     3.0     NaN   146.0      2.0       705.0   \n",
       "other                 131.0     4.0    10.0    13.0      5.0       503.0   \n",
       "sedan                 231.0    94.0    99.0   696.0     91.0     11009.0   \n",
       "small                 136.0    52.0   610.0  1254.0     28.0      9352.0   \n",
       "suv                   223.0    42.0   586.0   318.0      NaN       367.0   \n",
       "wagon                  90.0   175.0    53.0   430.0     40.0      7532.0   \n",
       "\n",
       "Brand         volvo  \n",
       "VehicleType          \n",
       "bus             NaN  \n",
       "convertible    36.0  \n",
       "coupe          42.0  \n",
       "other           2.0  \n",
       "sedan         410.0  \n",
       "small           7.0  \n",
       "suv            65.0  \n",
       "wagon        1158.0  \n",
       "\n",
       "[8 rows x 40 columns]"
      ]
     },
     "execution_count": 21,
     "metadata": {},
     "output_type": "execute_result"
    }
   ],
   "source": [
    "vehicle_type_pvt = vehicle_type_pvt['count']['Price']\n",
    "vehicle_type_pvt"
   ]
  },
  {
   "cell_type": "code",
   "execution_count": 22,
   "metadata": {},
   "outputs": [
    {
     "data": {
      "text/plain": [
       "0"
      ]
     },
     "metadata": {},
     "output_type": "display_data"
    },
    {
     "data": {
      "text/plain": [
       "sedan          58256\n",
       "small          46449\n",
       "wagon          39438\n",
       "bus            19955\n",
       "convertible    12706\n",
       "coupe           8979\n",
       "suv             6210\n",
       "other           2027\n",
       "Name: VehicleType, dtype: int64"
      ]
     },
     "execution_count": 22,
     "metadata": {},
     "output_type": "execute_result"
    }
   ],
   "source": [
    "# Заполним пустые ячейки 0\n",
    "filtred_auto_df.fillna({'VehicleType':0},inplace=True)\n",
    "# Напишем функцию которая будет в пропущенные значения вставлять тот тип кузова, который \n",
    "# чаще всего распрастранен для конкретной марки марки авто\n",
    "def fillna_by_brand(row, row_number, vehicle_type_pvt):\n",
    "    brand = row[7]\n",
    "    fill_value = row[row_number]\n",
    "    if row[row_number] == 0:\n",
    "        fill_value = vehicle_type_pvt[brand].idxmax()\n",
    "    return fill_value\n",
    "# Применим функцию\n",
    "filtred_auto_df['VehicleType'] = filtred_auto_df.apply(\n",
    "                                fillna_by_brand, \n",
    "                                args=[0, vehicle_type_pvt],\n",
    "                                axis=1)\n",
    "display(filtred_auto_df['VehicleType'].isna().sum())\n",
    "filtred_auto_df['VehicleType'].value_counts()"
   ]
  },
  {
   "cell_type": "markdown",
   "metadata": {},
   "source": [
    "Супер, по аналогии сделаем для столбца `FuelType`"
   ]
  },
  {
   "cell_type": "code",
   "execution_count": 23,
   "metadata": {},
   "outputs": [
    {
     "data": {
      "text/html": [
       "<div>\n",
       "<style scoped>\n",
       "    .dataframe tbody tr th:only-of-type {\n",
       "        vertical-align: middle;\n",
       "    }\n",
       "\n",
       "    .dataframe tbody tr th {\n",
       "        vertical-align: top;\n",
       "    }\n",
       "\n",
       "    .dataframe thead th {\n",
       "        text-align: right;\n",
       "    }\n",
       "</style>\n",
       "<table border=\"1\" class=\"dataframe\">\n",
       "  <thead>\n",
       "    <tr style=\"text-align: right;\">\n",
       "      <th>Brand</th>\n",
       "      <th>alfa_romeo</th>\n",
       "      <th>audi</th>\n",
       "      <th>bmw</th>\n",
       "      <th>chevrolet</th>\n",
       "      <th>chrysler</th>\n",
       "      <th>citroen</th>\n",
       "      <th>dacia</th>\n",
       "      <th>daewoo</th>\n",
       "      <th>daihatsu</th>\n",
       "      <th>fiat</th>\n",
       "      <th>...</th>\n",
       "      <th>seat</th>\n",
       "      <th>skoda</th>\n",
       "      <th>smart</th>\n",
       "      <th>sonstige_autos</th>\n",
       "      <th>subaru</th>\n",
       "      <th>suzuki</th>\n",
       "      <th>toyota</th>\n",
       "      <th>trabant</th>\n",
       "      <th>volkswagen</th>\n",
       "      <th>volvo</th>\n",
       "    </tr>\n",
       "    <tr>\n",
       "      <th>FuelType</th>\n",
       "      <th></th>\n",
       "      <th></th>\n",
       "      <th></th>\n",
       "      <th></th>\n",
       "      <th></th>\n",
       "      <th></th>\n",
       "      <th></th>\n",
       "      <th></th>\n",
       "      <th></th>\n",
       "      <th></th>\n",
       "      <th></th>\n",
       "      <th></th>\n",
       "      <th></th>\n",
       "      <th></th>\n",
       "      <th></th>\n",
       "      <th></th>\n",
       "      <th></th>\n",
       "      <th></th>\n",
       "      <th></th>\n",
       "      <th></th>\n",
       "      <th></th>\n",
       "    </tr>\n",
       "  </thead>\n",
       "  <tbody>\n",
       "    <tr>\n",
       "      <th>cng</th>\n",
       "      <td>NaN</td>\n",
       "      <td>1.0</td>\n",
       "      <td>7.0</td>\n",
       "      <td>4.0</td>\n",
       "      <td>NaN</td>\n",
       "      <td>6.0</td>\n",
       "      <td>2.0</td>\n",
       "      <td>NaN</td>\n",
       "      <td>NaN</td>\n",
       "      <td>58.0</td>\n",
       "      <td>...</td>\n",
       "      <td>NaN</td>\n",
       "      <td>6.0</td>\n",
       "      <td>2.0</td>\n",
       "      <td>4.0</td>\n",
       "      <td>1.0</td>\n",
       "      <td>NaN</td>\n",
       "      <td>NaN</td>\n",
       "      <td>NaN</td>\n",
       "      <td>142.0</td>\n",
       "      <td>16.0</td>\n",
       "    </tr>\n",
       "    <tr>\n",
       "      <th>electric</th>\n",
       "      <td>NaN</td>\n",
       "      <td>1.0</td>\n",
       "      <td>3.0</td>\n",
       "      <td>NaN</td>\n",
       "      <td>NaN</td>\n",
       "      <td>NaN</td>\n",
       "      <td>NaN</td>\n",
       "      <td>NaN</td>\n",
       "      <td>1.0</td>\n",
       "      <td>2.0</td>\n",
       "      <td>...</td>\n",
       "      <td>NaN</td>\n",
       "      <td>NaN</td>\n",
       "      <td>2.0</td>\n",
       "      <td>16.0</td>\n",
       "      <td>NaN</td>\n",
       "      <td>NaN</td>\n",
       "      <td>NaN</td>\n",
       "      <td>NaN</td>\n",
       "      <td>1.0</td>\n",
       "      <td>NaN</td>\n",
       "    </tr>\n",
       "    <tr>\n",
       "      <th>gasoline</th>\n",
       "      <td>423.0</td>\n",
       "      <td>6504.0</td>\n",
       "      <td>5850.0</td>\n",
       "      <td>125.0</td>\n",
       "      <td>273.0</td>\n",
       "      <td>1165.0</td>\n",
       "      <td>150.0</td>\n",
       "      <td>1.0</td>\n",
       "      <td>3.0</td>\n",
       "      <td>1083.0</td>\n",
       "      <td>...</td>\n",
       "      <td>1144.0</td>\n",
       "      <td>1209.0</td>\n",
       "      <td>742.0</td>\n",
       "      <td>331.0</td>\n",
       "      <td>20.0</td>\n",
       "      <td>166.0</td>\n",
       "      <td>759.0</td>\n",
       "      <td>1.0</td>\n",
       "      <td>15161.0</td>\n",
       "      <td>583.0</td>\n",
       "    </tr>\n",
       "    <tr>\n",
       "      <th>hybrid</th>\n",
       "      <td>NaN</td>\n",
       "      <td>NaN</td>\n",
       "      <td>NaN</td>\n",
       "      <td>NaN</td>\n",
       "      <td>NaN</td>\n",
       "      <td>NaN</td>\n",
       "      <td>NaN</td>\n",
       "      <td>NaN</td>\n",
       "      <td>NaN</td>\n",
       "      <td>1.0</td>\n",
       "      <td>...</td>\n",
       "      <td>1.0</td>\n",
       "      <td>NaN</td>\n",
       "      <td>1.0</td>\n",
       "      <td>1.0</td>\n",
       "      <td>NaN</td>\n",
       "      <td>NaN</td>\n",
       "      <td>42.0</td>\n",
       "      <td>NaN</td>\n",
       "      <td>3.0</td>\n",
       "      <td>NaN</td>\n",
       "    </tr>\n",
       "    <tr>\n",
       "      <th>lpg</th>\n",
       "      <td>22.0</td>\n",
       "      <td>343.0</td>\n",
       "      <td>578.0</td>\n",
       "      <td>139.0</td>\n",
       "      <td>64.0</td>\n",
       "      <td>56.0</td>\n",
       "      <td>42.0</td>\n",
       "      <td>18.0</td>\n",
       "      <td>3.0</td>\n",
       "      <td>57.0</td>\n",
       "      <td>...</td>\n",
       "      <td>46.0</td>\n",
       "      <td>43.0</td>\n",
       "      <td>2.0</td>\n",
       "      <td>71.0</td>\n",
       "      <td>24.0</td>\n",
       "      <td>14.0</td>\n",
       "      <td>13.0</td>\n",
       "      <td>NaN</td>\n",
       "      <td>365.0</td>\n",
       "      <td>76.0</td>\n",
       "    </tr>\n",
       "    <tr>\n",
       "      <th>other</th>\n",
       "      <td>NaN</td>\n",
       "      <td>NaN</td>\n",
       "      <td>4.0</td>\n",
       "      <td>NaN</td>\n",
       "      <td>NaN</td>\n",
       "      <td>1.0</td>\n",
       "      <td>NaN</td>\n",
       "      <td>NaN</td>\n",
       "      <td>NaN</td>\n",
       "      <td>1.0</td>\n",
       "      <td>...</td>\n",
       "      <td>NaN</td>\n",
       "      <td>NaN</td>\n",
       "      <td>1.0</td>\n",
       "      <td>8.0</td>\n",
       "      <td>NaN</td>\n",
       "      <td>1.0</td>\n",
       "      <td>NaN</td>\n",
       "      <td>19.0</td>\n",
       "      <td>11.0</td>\n",
       "      <td>1.0</td>\n",
       "    </tr>\n",
       "    <tr>\n",
       "      <th>petrol</th>\n",
       "      <td>888.0</td>\n",
       "      <td>7752.0</td>\n",
       "      <td>12693.0</td>\n",
       "      <td>869.0</td>\n",
       "      <td>477.0</td>\n",
       "      <td>1947.0</td>\n",
       "      <td>465.0</td>\n",
       "      <td>204.0</td>\n",
       "      <td>345.0</td>\n",
       "      <td>3548.0</td>\n",
       "      <td>...</td>\n",
       "      <td>2534.0</td>\n",
       "      <td>2228.0</td>\n",
       "      <td>3213.0</td>\n",
       "      <td>721.0</td>\n",
       "      <td>323.0</td>\n",
       "      <td>1197.0</td>\n",
       "      <td>2445.0</td>\n",
       "      <td>141.0</td>\n",
       "      <td>21321.0</td>\n",
       "      <td>1001.0</td>\n",
       "    </tr>\n",
       "  </tbody>\n",
       "</table>\n",
       "<p>7 rows × 40 columns</p>\n",
       "</div>"
      ],
      "text/plain": [
       "Brand     alfa_romeo    audi      bmw  chevrolet  chrysler  citroen  dacia  \\\n",
       "FuelType                                                                     \n",
       "cng              NaN     1.0      7.0        4.0       NaN      6.0    2.0   \n",
       "electric         NaN     1.0      3.0        NaN       NaN      NaN    NaN   \n",
       "gasoline       423.0  6504.0   5850.0      125.0     273.0   1165.0  150.0   \n",
       "hybrid           NaN     NaN      NaN        NaN       NaN      NaN    NaN   \n",
       "lpg             22.0   343.0    578.0      139.0      64.0     56.0   42.0   \n",
       "other            NaN     NaN      4.0        NaN       NaN      1.0    NaN   \n",
       "petrol         888.0  7752.0  12693.0      869.0     477.0   1947.0  465.0   \n",
       "\n",
       "Brand     daewoo  daihatsu    fiat  ...    seat   skoda   smart  \\\n",
       "FuelType                            ...                           \n",
       "cng          NaN       NaN    58.0  ...     NaN     6.0     2.0   \n",
       "electric     NaN       1.0     2.0  ...     NaN     NaN     2.0   \n",
       "gasoline     1.0       3.0  1083.0  ...  1144.0  1209.0   742.0   \n",
       "hybrid       NaN       NaN     1.0  ...     1.0     NaN     1.0   \n",
       "lpg         18.0       3.0    57.0  ...    46.0    43.0     2.0   \n",
       "other        NaN       NaN     1.0  ...     NaN     NaN     1.0   \n",
       "petrol     204.0     345.0  3548.0  ...  2534.0  2228.0  3213.0   \n",
       "\n",
       "Brand     sonstige_autos  subaru  suzuki  toyota  trabant  volkswagen   volvo  \n",
       "FuelType                                                                       \n",
       "cng                  4.0     1.0     NaN     NaN      NaN       142.0    16.0  \n",
       "electric            16.0     NaN     NaN     NaN      NaN         1.0     NaN  \n",
       "gasoline           331.0    20.0   166.0   759.0      1.0     15161.0   583.0  \n",
       "hybrid               1.0     NaN     NaN    42.0      NaN         3.0     NaN  \n",
       "lpg                 71.0    24.0    14.0    13.0      NaN       365.0    76.0  \n",
       "other                8.0     NaN     1.0     NaN     19.0        11.0     1.0  \n",
       "petrol             721.0   323.0  1197.0  2445.0    141.0     21321.0  1001.0  \n",
       "\n",
       "[7 rows x 40 columns]"
      ]
     },
     "metadata": {},
     "output_type": "display_data"
    },
    {
     "data": {
      "text/plain": [
       "0"
      ]
     },
     "metadata": {},
     "output_type": "display_data"
    },
    {
     "data": {
      "text/plain": [
       "golf          14612\n",
       "other         14089\n",
       "3er           11465\n",
       "unknown        8428\n",
       "astra          5803\n",
       "              ...  \n",
       "q5                2\n",
       "elefantino        2\n",
       "serie_3           1\n",
       "serie_1           1\n",
       "q3                1\n",
       "Name: FuelType, Length: 249, dtype: int64"
      ]
     },
     "execution_count": 23,
     "metadata": {},
     "output_type": "execute_result"
    }
   ],
   "source": [
    "filtred_auto_df['FuelType'].value_counts()\n",
    "fuel_type_pvt = filtred_auto_df.pivot_table(index=['FuelType'], \n",
    "                                                          columns=['Brand'],\n",
    "                                                          values=['Price'],\n",
    "                                                          aggfunc=['count'])\n",
    "fuel_type_pvt = fuel_type_pvt['count']['Price']\n",
    "display(fuel_type_pvt)\n",
    "\n",
    "filtred_auto_df.fillna({'FuelType':0},inplace=True)\n",
    "\n",
    "filtred_auto_df['FuelType'] = filtred_auto_df.apply(\n",
    "                                fillna_by_brand, \n",
    "                                args=[4, vehicle_type_pvt],\n",
    "                                axis=1)\n",
    "display(filtred_auto_df['FuelType'].isna().sum())\n",
    "filtred_auto_df['FuelType'].value_counts()"
   ]
  },
  {
   "cell_type": "code",
   "execution_count": 24,
   "metadata": {},
   "outputs": [
    {
     "data": {
      "text/plain": [
       "VehicleType         0.0\n",
       "RegistrationYear    0.0\n",
       "Gearbox             0.0\n",
       "Power               0.0\n",
       "Model               0.0\n",
       "Kilometer           0.0\n",
       "FuelType            0.0\n",
       "Brand               0.0\n",
       "NotRepaired         0.0\n",
       "Price               0.0\n",
       "dtype: float64"
      ]
     },
     "execution_count": 24,
     "metadata": {},
     "output_type": "execute_result"
    }
   ],
   "source": [
    "filtred_auto_df.isna().mean()"
   ]
  },
  {
   "cell_type": "markdown",
   "metadata": {},
   "source": [
    "Далее займемся столбцом  `Power`"
   ]
  },
  {
   "cell_type": "code",
   "execution_count": 25,
   "metadata": {},
   "outputs": [
    {
     "data": {
      "text/plain": [
       "count    194020.000000\n",
       "mean        113.953031\n",
       "std         194.775691\n",
       "min           0.000000\n",
       "25%          75.000000\n",
       "50%         109.000000\n",
       "75%         143.000000\n",
       "max       20000.000000\n",
       "Name: Power, dtype: float64"
      ]
     },
     "execution_count": 25,
     "metadata": {},
     "output_type": "execute_result"
    },
    {
     "data": {
      "image/png": "[encoded data removed]",
      "text/plain": [
       "<Figure size 864x648 with 1 Axes>"
      ]
     },
     "metadata": {
      "needs_background": "light"
     },
     "output_type": "display_data"
    }
   ],
   "source": [
    "filtred_auto_df['Power'].hist(bins=100, figsize=(12,9))\n",
    "filtred_auto_df['Power'].describe()"
   ]
  },
  {
   "cell_type": "code",
   "execution_count": 26,
   "metadata": {},
   "outputs": [
    {
     "data": {
      "text/plain": [
       "count    193845.000000\n",
       "mean        110.338121\n",
       "std          57.304278\n",
       "min           0.000000\n",
       "25%          75.000000\n",
       "50%         109.000000\n",
       "75%         143.000000\n",
       "max        1000.000000\n",
       "Name: Power, dtype: float64"
      ]
     },
     "execution_count": 26,
     "metadata": {},
     "output_type": "execute_result"
    },
    {
     "data": {
      "image/png": "[encoded data removed]",
      "text/plain": [
       "<Figure size 864x648 with 1 Axes>"
      ]
     },
     "metadata": {
      "needs_background": "light"
     },
     "output_type": "display_data"
    }
   ],
   "source": [
    "\n",
    "filtred_auto_df = filtred_auto_df.query('Power < 1001')\n",
    "filtred_auto_df['Power'].hist(bins=100, figsize=(12,9))\n",
    "filtred_auto_df['Power'].describe()"
   ]
  },
  {
   "cell_type": "markdown",
   "metadata": {},
   "source": [
    "Из данных и графика видно, что многие машины имеют мощность 0, уберем их"
   ]
  },
  {
   "cell_type": "code",
   "execution_count": 27,
   "metadata": {},
   "outputs": [
    {
     "data": {
      "text/plain": [
       "count    178144.000000\n",
       "mean        119.800386\n",
       "std          47.916850\n",
       "min           1.000000\n",
       "25%          83.000000\n",
       "50%         114.000000\n",
       "75%         146.000000\n",
       "max         449.000000\n",
       "Name: Power, dtype: float64"
      ]
     },
     "execution_count": 27,
     "metadata": {},
     "output_type": "execute_result"
    },
    {
     "data": {
      "image/png": "[encoded data removed]",
      "text/plain": [
       "<Figure size 864x648 with 1 Axes>"
      ]
     },
     "metadata": {
      "needs_background": "light"
     },
     "output_type": "display_data"
    }
   ],
   "source": [
    "# Справа подобрали значение в 450 л.с.\n",
    "filtred_auto_df = filtred_auto_df.query('0 < Power < 450')\n",
    "filtred_auto_df['Power'].hist(bins=100, figsize=(12,9))\n",
    "filtred_auto_df['Power'].describe()"
   ]
  },
  {
   "cell_type": "code",
   "execution_count": 28,
   "metadata": {},
   "outputs": [
    {
     "name": "stdout",
     "output_type": "stream",
     "text": [
      "<class 'pandas.core.frame.DataFrame'>\n",
      "Int64Index: 178144 entries, 2 to 354368\n",
      "Data columns (total 10 columns):\n",
      " #   Column            Non-Null Count   Dtype \n",
      "---  ------            --------------   ----- \n",
      " 0   VehicleType       178144 non-null  object\n",
      " 1   RegistrationYear  178144 non-null  int64 \n",
      " 2   Gearbox           178144 non-null  object\n",
      " 3   Power             178144 non-null  int64 \n",
      " 4   Model             178144 non-null  object\n",
      " 5   Kilometer         178144 non-null  int64 \n",
      " 6   FuelType          178144 non-null  object\n",
      " 7   Brand             178144 non-null  object\n",
      " 8   NotRepaired       178144 non-null  object\n",
      " 9   Price             178144 non-null  int64 \n",
      "dtypes: int64(4), object(6)\n",
      "memory usage: 15.0+ MB\n"
     ]
    }
   ],
   "source": [
    "good_auto_df = filtred_auto_df\n",
    "good_auto_df.info()"
   ]
  },
  {
   "cell_type": "markdown",
   "metadata": {},
   "source": [
    "Далее нам нужно привести данные столбцов `Gearbox и NotRepaire` в булевый тип, чтобы было легче работать программе и быстрее все обрабатывать."
   ]
  },
  {
   "cell_type": "code",
   "execution_count": 29,
   "metadata": {},
   "outputs": [
    {
     "data": {
      "text/plain": [
       "1    143491\n",
       "0     34653\n",
       "Name: Is_manual_gearbox, dtype: int64"
      ]
     },
     "metadata": {},
     "output_type": "display_data"
    },
    {
     "data": {
      "text/plain": [
       "manual    143491\n",
       "auto       34653\n",
       "Name: Gearbox, dtype: int64"
      ]
     },
     "execution_count": 29,
     "metadata": {},
     "output_type": "execute_result"
    }
   ],
   "source": [
    "# Создадим столбец 'Is_manual_gearbox', где 1 - это manual, 0 - это auto\n",
    "good_auto_df['Is_manual_gearbox'] = 0\n",
    "good_auto_df.loc[good_auto_df['Gearbox'] == 'manual', 'Is_manual_gearbox'] = 1\n",
    "display(good_auto_df['Is_manual_gearbox'].value_counts())\n",
    "good_auto_df['Gearbox'].value_counts()"
   ]
  },
  {
   "cell_type": "code",
   "execution_count": 30,
   "metadata": {},
   "outputs": [
    {
     "data": {
      "text/plain": [
       "0    139318\n",
       "1     38826\n",
       "Name: Was_not_repaired, dtype: int64"
      ]
     },
     "metadata": {},
     "output_type": "display_data"
    },
    {
     "data": {
      "text/plain": [
       "no     139318\n",
       "yes     38826\n",
       "Name: NotRepaired, dtype: int64"
      ]
     },
     "execution_count": 30,
     "metadata": {},
     "output_type": "execute_result"
    }
   ],
   "source": [
    "# Создадим столбец 'Was_not_repaired', где 1 - это машина не ремонтировалась, 0 - машина с ремонтом\n",
    "good_auto_df['Was_not_repaired'] = 0\n",
    "good_auto_df.loc[good_auto_df['NotRepaired'] == 'yes', 'Was_not_repaired'] = 1\n",
    "display(good_auto_df['Was_not_repaired'].value_counts())\n",
    "good_auto_df['NotRepaired'].value_counts()"
   ]
  },
  {
   "cell_type": "markdown",
   "metadata": {},
   "source": [
    "Приведем датафрейм в порядок, удалим уже  не нужные столбцы, применим также downcast, чтобу уменьшить потребление памяти и ускорить работу фрейма"
   ]
  },
  {
   "cell_type": "code",
   "execution_count": 31,
   "metadata": {},
   "outputs": [
    {
     "name": "stdout",
     "output_type": "stream",
     "text": [
      "<class 'pandas.core.frame.DataFrame'>\n",
      "Int64Index: 178144 entries, 2 to 354368\n",
      "Data columns (total 10 columns):\n",
      " #   Column             Non-Null Count   Dtype \n",
      "---  ------             --------------   ----- \n",
      " 0   VehicleType        178144 non-null  object\n",
      " 1   RegistrationYear   178144 non-null  int16 \n",
      " 2   Power              178144 non-null  int16 \n",
      " 3   Model              178144 non-null  object\n",
      " 4   Kilometer          178144 non-null  int32 \n",
      " 5   FuelType           178144 non-null  object\n",
      " 6   Brand              178144 non-null  object\n",
      " 7   Price              178144 non-null  int16 \n",
      " 8   Is_manual_gearbox  178144 non-null  int8  \n",
      " 9   Was_not_repaired   178144 non-null  int8  \n",
      "dtypes: int16(3), int32(1), int8(2), object(4)\n",
      "memory usage: 8.8+ MB\n"
     ]
    }
   ],
   "source": [
    "good_auto_df.drop(['NotRepaired','Gearbox'], inplace=True, axis=1)\n",
    "good_auto_df['Was_not_repaired'] = pd.to_numeric(good_auto_df['Was_not_repaired'], downcast='integer')\n",
    "good_auto_df['Is_manual_gearbox'] = pd.to_numeric(good_auto_df['Is_manual_gearbox'], downcast='integer')\n",
    "good_auto_df['RegistrationYear'] = pd.to_numeric(good_auto_df['RegistrationYear'], downcast='integer')\n",
    "good_auto_df['Power'] = pd.to_numeric(good_auto_df['Power'], downcast='integer')\n",
    "good_auto_df['Kilometer'] = pd.to_numeric(good_auto_df['Kilometer'], downcast='integer')\n",
    "good_auto_df['Price'] = pd.to_numeric(good_auto_df['Price'], downcast='integer')\n",
    "good_auto_df.info()"
   ]
  },
  {
   "cell_type": "code",
   "execution_count": 32,
   "metadata": {},
   "outputs": [
    {
     "name": "stdout",
     "output_type": "stream",
     "text": [
      "Уменьшение использования памяти на 76.44%\n"
     ]
    }
   ],
   "source": [
    "print('Уменьшение использования памяти на {:.2%}'.format(1 - 10.2/43.3))"
   ]
  },
  {
   "cell_type": "markdown",
   "metadata": {},
   "source": [
    "**Вывод**\n",
    "1) Были проанализированы данные\n",
    "\n",
    "2) Обработаны пропуски,аномалии и некорректные значения\n",
    "\n",
    "3) Выбраны необходимые столбцы для обучения модели\n",
    "\n",
    "4) Заменены категориальные признаки данных на численые\n",
    "\n",
    "5) Обработали датафрейм и в итоге уменьшили потребление памяти на 76%"
   ]
  },
  {
   "cell_type": "markdown",
   "metadata": {},
   "source": [
    "## Обучение моделей"
   ]
  },
  {
   "cell_type": "markdown",
   "metadata": {},
   "source": [
    "Подготовим три типа признаков для кроссвалидации:\n",
    "\n",
    "- Неизмененные. Название original_features.\n",
    "- Закодированные методом OHE. Название ohe_features.\n",
    "- Закодированные методом OE. Название ordinal_features."
   ]
  },
  {
   "cell_type": "code",
   "execution_count": 33,
   "metadata": {},
   "outputs": [],
   "source": [
    "# Неизмененные принаки\n",
    "original_features = good_auto_df.drop('Price', axis=1)\n",
    "\n",
    "# Прямое кодирование\n",
    "encoder = OrdinalEncoder()\n",
    "cat_columns = ['VehicleType','FuelType','Brand','Model']\n",
    "cat_features = original_features[cat_columns]\n",
    "cat_features = pd.DataFrame(encoder.fit_transform(cat_features),\n",
    "                                columns=cat_features.columns, \n",
    "                                index=cat_features.index)\n",
    "ordinal_features = original_features.copy()\n",
    "for column in cat_columns:\n",
    "    ordinal_features[column] = cat_features[column]\n",
    "\n",
    "#OHE кодирование\n",
    "ohe_features = pd.get_dummies(original_features, drop_first=True)\n",
    "\n",
    "#Целевой признак\n",
    "target = good_auto_df['Price']"
   ]
  },
  {
   "cell_type": "code",
   "execution_count": 34,
   "metadata": {},
   "outputs": [],
   "source": [
    "#Обуч и тест выборка\n",
    "original_features_train, original_features_test, target_train, target_test = train_test_split(\n",
    "    original_features, target, test_size=0.25, random_state=1515)\n",
    "\n",
    "ordinal_features_train = ordinal_features.loc[original_features_train.index, :]\n",
    "ordinal_features_test = ordinal_features.loc[original_features_test.index, :]\n",
    "\n",
    "ohe_features_train = ohe_features.loc[original_features_train.index, :]\n",
    "ohe_features_test = ohe_features.loc[original_features_test.index, :]"
   ]
  },
  {
   "cell_type": "markdown",
   "metadata": {},
   "source": [
    "### Линейная регрессия"
   ]
  },
  {
   "cell_type": "code",
   "execution_count": 35,
   "metadata": {},
   "outputs": [
    {
     "name": "stdout",
     "output_type": "stream",
     "text": [
      "# Train for root_mean_squared_error\n",
      "\n",
      "Mean RMSE from CV of LinearRegression = 1753.318205840232\n",
      "CPU times: user 1min 29s, sys: 1min 12s, total: 2min 42s\n",
      "Wall time: 2min 43s\n"
     ]
    }
   ],
   "source": [
    "%%time\n",
    "\n",
    "regressor = LinearRegression()\n",
    "print('# Train for root_mean_squared_error')\n",
    "print()\n",
    "cv_RMSE_LR = (cross_val_score(regressor, \n",
    "                             ohe_features_train, \n",
    "                             target_train, \n",
    "                             cv=5, \n",
    "                             scoring='neg_mean_squared_error').mean() * -1) ** 0.5\n",
    "print('Mean RMSE from CV of LinearRegression =', cv_RMSE_LR)"
   ]
  },
  {
   "cell_type": "code",
   "execution_count": 36,
   "metadata": {},
   "outputs": [
    {
     "name": "stdout",
     "output_type": "stream",
     "text": [
      "# Train for root_mean_squared_error\n",
      "\n",
      "Mean RMSE from CV of LinearRegression = 12439051856967.633\n",
      "CPU times: user 1min 36s, sys: 1min 11s, total: 2min 48s\n",
      "Wall time: 2min 49s\n"
     ]
    }
   ],
   "source": [
    "%%time\n",
    "\n",
    "# Попробуем с масштабируемыми признаками\n",
    "regressor = LinearRegression()\n",
    "scaller = StandardScaler()\n",
    "pipeline = Pipeline([(\"standard_scaller\", scaller),(\"linear_regression\", regressor)])\n",
    "print('# Train for root_mean_squared_error')\n",
    "print()\n",
    "cv_RMSE_LR_S = (cross_val_score(pipeline,\n",
    "                                ohe_features_train, \n",
    "                                target_train, \n",
    "                                cv=5, \n",
    "                                scoring='neg_mean_squared_error').mean() * -1) ** 0.5\n",
    "print('Mean RMSE from CV of LinearRegression =', cv_RMSE_LR_S)"
   ]
  },
  {
   "cell_type": "code",
   "execution_count": 38,
   "metadata": {},
   "outputs": [
    {
     "name": "stdout",
     "output_type": "stream",
     "text": [
      "# Train for root_mean_squared_error\n",
      "\n",
      "Mean RMSE from CV of LinearRegression = 2547381414.599694\n",
      "CPU times: user 1min 29s, sys: 59 s, total: 2min 28s\n",
      "Wall time: 2min 29s\n"
     ]
    }
   ],
   "source": [
    "%%time\n",
    "\n",
    "# Попробуем с масштабируемыми признаками\n",
    "regressor = LinearRegression()\n",
    "scaller = RobustScaler()\n",
    "pipeline = Pipeline([(\"robust_scaller\", scaller),(\"linear_regression\", regressor)])\n",
    "print('# Train for root_mean_squared_error')\n",
    "print()\n",
    "cv_RMSE_LR_S = (cross_val_score(pipeline,\n",
    "                                ohe_features_train, \n",
    "                                target_train, \n",
    "                                cv=5, \n",
    "                                scoring='neg_mean_squared_error').mean() * -1) ** 0.5\n",
    "print('Mean RMSE from CV of LinearRegression =', cv_RMSE_LR_S)"
   ]
  },
  {
   "cell_type": "markdown",
   "metadata": {},
   "source": [
    "**Вывод** Масштабмрование ухудшает модель"
   ]
  },
  {
   "cell_type": "markdown",
   "metadata": {},
   "source": [
    "### DecissionTree регрессия"
   ]
  },
  {
   "cell_type": "code",
   "execution_count": 39,
   "metadata": {},
   "outputs": [
    {
     "name": "stdout",
     "output_type": "stream",
     "text": [
      "# Tuning hyper-parameters for root_mean_squared_error\n",
      "\n",
      "Best parameters set found on development set:\n",
      "\n",
      "{'criterion': 'mse', 'max_depth': 9, 'random_state': 1515}\n",
      "\n",
      "Grid scores on development set:\n",
      "\n",
      "2015.823580 for {'criterion': 'mse', 'max_depth': 2, 'random_state': 1515}\n",
      "1888.306538 for {'criterion': 'mse', 'max_depth': 3, 'random_state': 1515}\n",
      "1742.694299 for {'criterion': 'mse', 'max_depth': 4, 'random_state': 1515}\n",
      "1664.347257 for {'criterion': 'mse', 'max_depth': 5, 'random_state': 1515}\n",
      "1593.144277 for {'criterion': 'mse', 'max_depth': 6, 'random_state': 1515}\n",
      "1535.780416 for {'criterion': 'mse', 'max_depth': 7, 'random_state': 1515}\n",
      "1485.521977 for {'criterion': 'mse', 'max_depth': 8, 'random_state': 1515}\n",
      "1447.570214 for {'criterion': 'mse', 'max_depth': 9, 'random_state': 1515}\n",
      "\n",
      "CPU times: user 1min 13s, sys: 8.51 s, total: 1min 21s\n",
      "Wall time: 1min 22s\n"
     ]
    }
   ],
   "source": [
    "%%time\n",
    "\n",
    "# Модель на признаках, закодированных по методу OHE\n",
    "\n",
    "\n",
    "regressor = DecisionTreeRegressor() \n",
    "max_depth_list = [x for x in range(2, 10)]\n",
    "hyperparams = [{'criterion':['mse'], \n",
    "                'max_depth':max_depth_list, \n",
    "                'random_state':[1515]}]\n",
    "\n",
    "print('# Tuning hyper-parameters for root_mean_squared_error')\n",
    "print()\n",
    "clf = GridSearchCV(regressor, hyperparams, scoring='neg_mean_squared_error')\n",
    "clf.fit(ohe_features_train, target_train)\n",
    "print(\"Best parameters set found on development set:\")\n",
    "print()\n",
    "print(clf.best_params_)\n",
    "print()\n",
    "print(\"Grid scores on development set:\")\n",
    "print()\n",
    "means = clf.cv_results_['mean_test_score']\n",
    "stds = clf.cv_results_['std_test_score']\n",
    "for mean, std, params in zip(means, stds, clf.cv_results_['params']):\n",
    "    print(\"%0.6f for %r\"% ((mean*-1)** 0.5, params))\n",
    "print()\n",
    "\n",
    "cv_RMSE_DTR_ohe = (max(means)*-1) ** 0.5"
   ]
  },
  {
   "cell_type": "code",
   "execution_count": 40,
   "metadata": {},
   "outputs": [
    {
     "name": "stdout",
     "output_type": "stream",
     "text": [
      "# Tuning hyper-parameters for root_mean_squared_error\n",
      "\n",
      "Best parameters set found on development set:\n",
      "\n",
      "{'criterion': 'mse', 'max_depth': 9, 'random_state': 1515}\n",
      "\n",
      "Grid scores on development set:\n",
      "\n",
      "2015.823580 for {'criterion': 'mse', 'max_depth': 2, 'random_state': 1515}\n",
      "1888.306538 for {'criterion': 'mse', 'max_depth': 3, 'random_state': 1515}\n",
      "1743.614248 for {'criterion': 'mse', 'max_depth': 4, 'random_state': 1515}\n",
      "1661.325240 for {'criterion': 'mse', 'max_depth': 5, 'random_state': 1515}\n",
      "1590.840620 for {'criterion': 'mse', 'max_depth': 6, 'random_state': 1515}\n",
      "1529.570350 for {'criterion': 'mse', 'max_depth': 7, 'random_state': 1515}\n",
      "1479.971651 for {'criterion': 'mse', 'max_depth': 8, 'random_state': 1515}\n",
      "1444.679559 for {'criterion': 'mse', 'max_depth': 9, 'random_state': 1515}\n",
      "\n",
      "CPU times: user 5.85 s, sys: 80.8 ms, total: 5.93 s\n",
      "Wall time: 5.93 s\n"
     ]
    }
   ],
   "source": [
    "%%time\n",
    "\n",
    "# Модель на признаках, закодированных по методу OE\n",
    "\n",
    "\n",
    "regressor = DecisionTreeRegressor() \n",
    "max_depth_list = [x for x in range(2, 10)]\n",
    "hyperparams = [{'criterion':['mse'], \n",
    "                'max_depth':max_depth_list, \n",
    "                'random_state':[1515]}]\n",
    "\n",
    "print('# Tuning hyper-parameters for root_mean_squared_error')\n",
    "print()\n",
    "clf = GridSearchCV(regressor, hyperparams, scoring='neg_mean_squared_error')\n",
    "clf.fit(ordinal_features_train, target_train)\n",
    "print(\"Best parameters set found on development set:\")\n",
    "print()\n",
    "print(clf.best_params_)\n",
    "print()\n",
    "print(\"Grid scores on development set:\")\n",
    "print()\n",
    "means = clf.cv_results_['mean_test_score']\n",
    "stds = clf.cv_results_['std_test_score']\n",
    "for mean, std, params in zip(means, stds, clf.cv_results_['params']):\n",
    "    print(\"%0.6f for %r\"% ((mean*-1)** 0.5, params))\n",
    "print()\n",
    "\n",
    "cv_RMSE_DTR_ordinal = (max(means)*-1) ** 0.5"
   ]
  },
  {
   "cell_type": "markdown",
   "metadata": {},
   "source": [
    "### Регрессия CatBoostRegressor"
   ]
  },
  {
   "cell_type": "code",
   "execution_count": 41,
   "metadata": {},
   "outputs": [
    {
     "name": "stdout",
     "output_type": "stream",
     "text": [
      "# Tuning hyper-parameters for root_mean_squared_error\n",
      "\n",
      "Best parameters set found on development set:\n",
      "\n",
      "{'learning_rate': 0.5, 'random_state': 1515, 'verbose': False}\n",
      "\n",
      "Grid scores on development set:\n",
      "\n",
      "1204.723625 for {'learning_rate': 0.1, 'random_state': 1515, 'verbose': False}\n",
      "1199.378860 for {'learning_rate': 0.5, 'random_state': 1515, 'verbose': False}\n",
      "1217.835293 for {'learning_rate': 0.8, 'random_state': 1515, 'verbose': False}\n",
      "\n",
      "CPU times: user 4min 19s, sys: 5.58 s, total: 4min 25s\n",
      "Wall time: 4min 39s\n"
     ]
    }
   ],
   "source": [
    "%%time\n",
    "\n",
    "# Модель на данных, закодированных по методу OE\n",
    "\n",
    "regressor = CatBoostRegressor() \n",
    "hyperparams = [{'learning_rate':[0.1, 0.5, 0.8],\n",
    "                'random_state':[1515],\n",
    "                'verbose':[False]}]\n",
    "\n",
    "print('# Tuning hyper-parameters for root_mean_squared_error')\n",
    "print()\n",
    "clf = GridSearchCV(regressor, hyperparams, scoring='neg_mean_squared_error')\n",
    "clf.fit(ordinal_features_train, target_train)\n",
    "print(\"Best parameters set found on development set:\")\n",
    "print()\n",
    "print(clf.best_params_)\n",
    "print()\n",
    "print(\"Grid scores on development set:\")\n",
    "print()\n",
    "means = clf.cv_results_['mean_test_score']\n",
    "stds = clf.cv_results_['std_test_score']\n",
    "for mean, std, params in zip(means, stds, clf.cv_results_['params']):\n",
    "    print(\"%0.6f for %r\"% ((mean*-1)** 0.5, params))\n",
    "print()\n",
    "\n",
    "cv_RMSE_CBR_ordinal = (max(means)*-1) ** 0.5"
   ]
  },
  {
   "cell_type": "code",
   "execution_count": 42,
   "metadata": {},
   "outputs": [
    {
     "name": "stdout",
     "output_type": "stream",
     "text": [
      "# Train for root_mean_squared_error\n",
      "\n",
      "Mean RMSE from CV of CatBoostRegressor = 1233.9044111351527\n",
      "CPU times: user 17.9 s, sys: 313 ms, total: 18.2 s\n",
      "Wall time: 19.4 s\n"
     ]
    }
   ],
   "source": [
    "%%time\n",
    "\n",
    "# Модель на оригинальных данных с указанием категорий\n",
    "\n",
    "\n",
    "regressor = CatBoostRegressor(learning_rate=0.5,\n",
    "                              iterations = 100,\n",
    "                              random_state=1515, \n",
    "                              verbose=False, \n",
    "                              cat_features=['VehicleType','FuelType','Brand','Model']) \n",
    "print('# Train for root_mean_squared_error')\n",
    "print()\n",
    "cv_RMSE_CBR_original = (cross_val_score(regressor,\n",
    "                                original_features_train, \n",
    "                                target_train, \n",
    "                                cv=5, \n",
    "                                scoring='neg_mean_squared_error').mean() * -1) ** 0.5\n",
    "print('Mean RMSE from CV of CatBoostRegressor =', cv_RMSE_CBR_original)"
   ]
  },
  {
   "cell_type": "markdown",
   "metadata": {},
   "source": [
    "### Регрессия LGBM"
   ]
  },
  {
   "cell_type": "code",
   "execution_count": 43,
   "metadata": {},
   "outputs": [
    {
     "name": "stdout",
     "output_type": "stream",
     "text": [
      "# Tuning hyper-parameters for root_mean_squared_error\n",
      "\n",
      "Best parameters set found on development set:\n",
      "\n",
      "{'learning_rate': 0.3, 'num_leaves': 100, 'random_state': 1515}\n",
      "\n",
      "Grid scores on development set:\n",
      "\n",
      "1256.414290 for {'learning_rate': 0.3, 'num_leaves': 11, 'random_state': 1515}\n",
      "1208.121814 for {'learning_rate': 0.3, 'num_leaves': 50, 'random_state': 1515}\n",
      "1197.064570 for {'learning_rate': 0.3, 'num_leaves': 100, 'random_state': 1515}\n",
      "\n",
      "CPU times: user 4min 39s, sys: 0 ns, total: 4min 39s\n",
      "Wall time: 4min 42s\n"
     ]
    }
   ],
   "source": [
    "%%time\n",
    "\n",
    "regressor = LGBMRegressor() \n",
    "hyperparams = [{'num_leaves':[11, 50, 100], \n",
    "                'learning_rate':[0.3],\n",
    "                'random_state':[1515]}]\n",
    "\n",
    "print('# Tuning hyper-parameters for root_mean_squared_error')\n",
    "print()\n",
    "clf = GridSearchCV(regressor, hyperparams, scoring='neg_mean_squared_error')\n",
    "clf.fit(ordinal_features_train, target_train)\n",
    "print(\"Best parameters set found on development set:\")\n",
    "print()\n",
    "print(clf.best_params_)\n",
    "print()\n",
    "print(\"Grid scores on development set:\")\n",
    "print()\n",
    "means = clf.cv_results_['mean_test_score']\n",
    "stds = clf.cv_results_['std_test_score']\n",
    "for mean, std, params in zip(means, stds, clf.cv_results_['params']):\n",
    "    print(\"%0.6f for %r\"% ((mean*-1)** 0.5, params))\n",
    "print()\n",
    "\n",
    "cv_RMSE_LGBMR = (max(means)*-1) ** 0.5"
   ]
  },
  {
   "cell_type": "markdown",
   "metadata": {},
   "source": [
    "### Предсказание на лучших параметрах"
   ]
  },
  {
   "cell_type": "markdown",
   "metadata": {},
   "source": [
    "#### Линейная регрессия"
   ]
  },
  {
   "cell_type": "code",
   "execution_count": 44,
   "metadata": {},
   "outputs": [
    {
     "name": "stdout",
     "output_type": "stream",
     "text": [
      "CPU times: user 20.5 s, sys: 4.91 s, total: 25.4 s\n",
      "Wall time: 26.1 s\n"
     ]
    },
    {
     "data": {
      "text/plain": [
       "LinearRegression()"
      ]
     },
     "execution_count": 44,
     "metadata": {},
     "output_type": "execute_result"
    }
   ],
   "source": [
    "%%time\n",
    "\n",
    "model = LinearRegression()\n",
    "model.fit(ohe_features_train, target_train)\n"
   ]
  },
  {
   "cell_type": "code",
   "execution_count": 45,
   "metadata": {},
   "outputs": [
    {
     "name": "stdout",
     "output_type": "stream",
     "text": [
      "CPU times: user 91.5 ms, sys: 117 ms, total: 208 ms\n",
      "Wall time: 219 ms\n"
     ]
    }
   ],
   "source": [
    "%%time\n",
    "\n",
    "target_predict = model.predict(ohe_features_test)\n",
    "final_RMSE_LR = mean_squared_error(target_test, target_predict) ** 0.5"
   ]
  },
  {
   "cell_type": "markdown",
   "metadata": {},
   "source": [
    "#### DecisionTree регрессия "
   ]
  },
  {
   "cell_type": "code",
   "execution_count": 46,
   "metadata": {},
   "outputs": [
    {
     "name": "stdout",
     "output_type": "stream",
     "text": [
      "CPU times: user 4.52 s, sys: 213 ms, total: 4.74 s\n",
      "Wall time: 4.8 s\n"
     ]
    },
    {
     "data": {
      "text/plain": [
       "DecisionTreeRegressor(max_depth=15, random_state=1515)"
      ]
     },
     "execution_count": 46,
     "metadata": {},
     "output_type": "execute_result"
    }
   ],
   "source": [
    "%%time\n",
    "\n",
    "# Модель на принаках, закодированных по методу OHE\n",
    "model = DecisionTreeRegressor(criterion='mse', \n",
    "                              max_depth=15, \n",
    "                              random_state=1515) \n",
    "model.fit(ohe_features_train, target_train)"
   ]
  },
  {
   "cell_type": "code",
   "execution_count": 47,
   "metadata": {},
   "outputs": [
    {
     "name": "stdout",
     "output_type": "stream",
     "text": [
      "CPU times: user 47.6 ms, sys: 57 ms, total: 105 ms\n",
      "Wall time: 114 ms\n"
     ]
    }
   ],
   "source": [
    "%%time\n",
    "target_predict = model.predict(ohe_features_test)"
   ]
  },
  {
   "cell_type": "code",
   "execution_count": 48,
   "metadata": {},
   "outputs": [],
   "source": [
    "final_RMSE_DTR_ohe = mean_squared_error(target_test, target_predict) ** 0.5 "
   ]
  },
  {
   "cell_type": "code",
   "execution_count": 49,
   "metadata": {},
   "outputs": [
    {
     "name": "stdout",
     "output_type": "stream",
     "text": [
      "CPU times: user 335 ms, sys: 6.14 ms, total: 341 ms\n",
      "Wall time: 346 ms\n"
     ]
    },
    {
     "data": {
      "text/plain": [
       "DecisionTreeRegressor(max_depth=13, random_state=1515)"
      ]
     },
     "execution_count": 49,
     "metadata": {},
     "output_type": "execute_result"
    }
   ],
   "source": [
    "%%time\n",
    "\n",
    "# Модель на принаках, закодированных по методу OE\n",
    "model = DecisionTreeRegressor(criterion='mse', \n",
    "                              max_depth=13, \n",
    "                              random_state=1515) \n",
    "model.fit(ordinal_features_train, target_train)"
   ]
  },
  {
   "cell_type": "code",
   "execution_count": 50,
   "metadata": {},
   "outputs": [
    {
     "name": "stdout",
     "output_type": "stream",
     "text": [
      "CPU times: user 12.2 ms, sys: 195 µs, total: 12.4 ms\n",
      "Wall time: 10.2 ms\n"
     ]
    }
   ],
   "source": [
    "%%time\n",
    "\n",
    "target_predict = model.predict(ordinal_features_test)"
   ]
  },
  {
   "cell_type": "code",
   "execution_count": 51,
   "metadata": {},
   "outputs": [],
   "source": [
    "final_RMSE_DTR_ordinal = mean_squared_error(target_test, target_predict) ** 0.5  "
   ]
  },
  {
   "cell_type": "markdown",
   "metadata": {},
   "source": [
    "#### CatBoost регрессия"
   ]
  },
  {
   "cell_type": "code",
   "execution_count": 52,
   "metadata": {},
   "outputs": [
    {
     "name": "stdout",
     "output_type": "stream",
     "text": [
      "CPU times: user 17.5 s, sys: 348 ms, total: 17.9 s\n",
      "Wall time: 18.7 s\n"
     ]
    },
    {
     "data": {
      "text/plain": [
       "<catboost.core.CatBoostRegressor at 0x7fdf034f3520>"
      ]
     },
     "execution_count": 52,
     "metadata": {},
     "output_type": "execute_result"
    }
   ],
   "source": [
    "%%time\n",
    "\n",
    "# Модель на данных, закодированных по методу OE\n",
    "model = CatBoostRegressor(learning_rate=0.5, \n",
    "                          random_state=1515, \n",
    "                          verbose=False) \n",
    "model.fit(ordinal_features_train, target_train)"
   ]
  },
  {
   "cell_type": "code",
   "execution_count": 53,
   "metadata": {},
   "outputs": [
    {
     "name": "stdout",
     "output_type": "stream",
     "text": [
      "CPU times: user 45.5 ms, sys: 911 µs, total: 46.4 ms\n",
      "Wall time: 45 ms\n"
     ]
    }
   ],
   "source": [
    "%%time\n",
    "\n",
    "target_predict = model.predict(ordinal_features_test)"
   ]
  },
  {
   "cell_type": "code",
   "execution_count": 54,
   "metadata": {},
   "outputs": [],
   "source": [
    "final_RMSE_CBR_ordinal = mean_squared_error(target_test, target_predict) ** 0.5"
   ]
  },
  {
   "cell_type": "code",
   "execution_count": 55,
   "metadata": {},
   "outputs": [
    {
     "name": "stdout",
     "output_type": "stream",
     "text": [
      "CPU times: user 4.2 s, sys: 72.5 ms, total: 4.27 s\n",
      "Wall time: 4.48 s\n"
     ]
    }
   ],
   "source": [
    "%%time\n",
    "\n",
    "# Модель на оригинальных данных с указанием категорий\n",
    "model = CatBoostRegressor(learning_rate=0.5, \n",
    "                          iterations = 100, \n",
    "                          random_state=1551, \n",
    "                          verbose=False,\n",
    "                          cat_features=['VehicleType','FuelType','Brand','Model']) \n",
    "model.fit(original_features_train, target_train)"
   ]
  },
  {
   "cell_type": "code",
   "execution_count": 56,
   "metadata": {},
   "outputs": [
    {
     "name": "stdout",
     "output_type": "stream",
     "text": [
      "CPU times: user 43.1 ms, sys: 215 µs, total: 43.3 ms\n",
      "Wall time: 41.5 ms\n"
     ]
    }
   ],
   "source": [
    "%%time\n",
    "\n",
    "target_predict = model.predict(original_features_test)"
   ]
  },
  {
   "cell_type": "code",
   "execution_count": 57,
   "metadata": {},
   "outputs": [],
   "source": [
    "final_RMSE_CBR_original = mean_squared_error(target_test, target_predict) ** 0.5"
   ]
  },
  {
   "cell_type": "markdown",
   "metadata": {},
   "source": [
    "#### LGBM регрессия"
   ]
  },
  {
   "cell_type": "code",
   "execution_count": 58,
   "metadata": {},
   "outputs": [
    {
     "name": "stdout",
     "output_type": "stream",
     "text": [
      "CPU times: user 7.22 s, sys: 0 ns, total: 7.22 s\n",
      "Wall time: 7.23 s\n"
     ]
    }
   ],
   "source": [
    "%%time\n",
    "\n",
    "model = LGBMRegressor(learning_rate=0.1, \n",
    "                      num_leaves=100, \n",
    "                      random_state=1515)\n",
    "model.fit(ordinal_features_train, target_train)\n",
    "target_predict = model.predict(ordinal_features_test)\n",
    "final_RMSE_LGBMR = mean_squared_error(target_test, target_predict) ** 0.5"
   ]
  },
  {
   "cell_type": "code",
   "execution_count": 59,
   "metadata": {},
   "outputs": [
    {
     "name": "stdout",
     "output_type": "stream",
     "text": [
      "CPU times: user 477 ms, sys: 0 ns, total: 477 ms\n",
      "Wall time: 414 ms\n"
     ]
    }
   ],
   "source": [
    "%%time\n",
    "\n",
    "target_predict = model.predict(ordinal_features_test)"
   ]
  },
  {
   "cell_type": "code",
   "execution_count": 60,
   "metadata": {},
   "outputs": [],
   "source": [
    "final_RMSE_LGBMR = mean_squared_error(target_test, target_predict) ** 0.5"
   ]
  },
  {
   "cell_type": "markdown",
   "metadata": {},
   "source": [
    "## Анализ моделей"
   ]
  },
  {
   "cell_type": "markdown",
   "metadata": {},
   "source": [
    "Сформимруем таблицу дял вывода"
   ]
  },
  {
   "cell_type": "code",
   "execution_count": 62,
   "metadata": {},
   "outputs": [
    {
     "data": {
      "text/html": [
       "<div>\n",
       "<style scoped>\n",
       "    .dataframe tbody tr th:only-of-type {\n",
       "        vertical-align: middle;\n",
       "    }\n",
       "\n",
       "    .dataframe tbody tr th {\n",
       "        vertical-align: top;\n",
       "    }\n",
       "\n",
       "    .dataframe thead th {\n",
       "        text-align: right;\n",
       "    }\n",
       "</style>\n",
       "<table border=\"1\" class=\"dataframe\">\n",
       "  <thead>\n",
       "    <tr style=\"text-align: right;\">\n",
       "      <th></th>\n",
       "      <th>RMSE на CV, евро</th>\n",
       "      <th>Время обучения на CV, сек</th>\n",
       "      <th>RMSE модели на тестовой выборке, евро</th>\n",
       "      <th>Время обучения модели, сек</th>\n",
       "      <th>Время предсказания модели, сек</th>\n",
       "      <th>Рейтинг RMSE</th>\n",
       "      <th>Рейтинг времени обучения</th>\n",
       "      <th>Рейтинг времени предсказания</th>\n",
       "      <th>Итоговый рейтинг</th>\n",
       "    </tr>\n",
       "  </thead>\n",
       "  <tbody>\n",
       "    <tr>\n",
       "      <th>LinearRegression</th>\n",
       "      <td>1753.318206</td>\n",
       "      <td>162</td>\n",
       "      <td>1750.325448</td>\n",
       "      <td>25.0</td>\n",
       "      <td>0.200</td>\n",
       "      <td>0.682742</td>\n",
       "      <td>0.012000</td>\n",
       "      <td>0.215000</td>\n",
       "      <td>0.909742</td>\n",
       "    </tr>\n",
       "    <tr>\n",
       "      <th>DecisionTreeRegressor on OHE features</th>\n",
       "      <td>1447.570214</td>\n",
       "      <td>81</td>\n",
       "      <td>1362.321510</td>\n",
       "      <td>5.0</td>\n",
       "      <td>0.110</td>\n",
       "      <td>0.826948</td>\n",
       "      <td>0.060000</td>\n",
       "      <td>0.390909</td>\n",
       "      <td>1.277857</td>\n",
       "    </tr>\n",
       "    <tr>\n",
       "      <th>DecisionTreeRegressor on OE features</th>\n",
       "      <td>1444.679559</td>\n",
       "      <td>6</td>\n",
       "      <td>1370.122233</td>\n",
       "      <td>0.3</td>\n",
       "      <td>0.120</td>\n",
       "      <td>0.828602</td>\n",
       "      <td>1.000000</td>\n",
       "      <td>0.358333</td>\n",
       "      <td>2.186935</td>\n",
       "    </tr>\n",
       "    <tr>\n",
       "      <th>CatBoostRegressor on OE features</th>\n",
       "      <td>1199.378860</td>\n",
       "      <td>265</td>\n",
       "      <td>1186.193559</td>\n",
       "      <td>18.0</td>\n",
       "      <td>0.046</td>\n",
       "      <td>0.998070</td>\n",
       "      <td>0.016667</td>\n",
       "      <td>0.934783</td>\n",
       "      <td>1.949520</td>\n",
       "    </tr>\n",
       "    <tr>\n",
       "      <th>CatBoostRegressor on original features</th>\n",
       "      <td>1233.904411</td>\n",
       "      <td>18</td>\n",
       "      <td>1238.894454</td>\n",
       "      <td>4.0</td>\n",
       "      <td>0.043</td>\n",
       "      <td>0.970144</td>\n",
       "      <td>0.075000</td>\n",
       "      <td>1.000000</td>\n",
       "      <td>2.045144</td>\n",
       "    </tr>\n",
       "    <tr>\n",
       "      <th>LGBMRegressor</th>\n",
       "      <td>1197.064570</td>\n",
       "      <td>279</td>\n",
       "      <td>1205.798632</td>\n",
       "      <td>7.0</td>\n",
       "      <td>0.470</td>\n",
       "      <td>1.000000</td>\n",
       "      <td>0.042857</td>\n",
       "      <td>0.091489</td>\n",
       "      <td>1.134347</td>\n",
       "    </tr>\n",
       "  </tbody>\n",
       "</table>\n",
       "</div>"
      ],
      "text/plain": [
       "                                        RMSE на CV, евро  \\\n",
       "LinearRegression                             1753.318206   \n",
       "DecisionTreeRegressor on OHE features        1447.570214   \n",
       "DecisionTreeRegressor on OE features         1444.679559   \n",
       "CatBoostRegressor on OE features             1199.378860   \n",
       "CatBoostRegressor on original features       1233.904411   \n",
       "LGBMRegressor                                1197.064570   \n",
       "\n",
       "                                        Время обучения на CV, сек  \\\n",
       "LinearRegression                                              162   \n",
       "DecisionTreeRegressor on OHE features                          81   \n",
       "DecisionTreeRegressor on OE features                            6   \n",
       "CatBoostRegressor on OE features                              265   \n",
       "CatBoostRegressor on original features                         18   \n",
       "LGBMRegressor                                                 279   \n",
       "\n",
       "                                        RMSE модели на тестовой выборке, евро  \\\n",
       "LinearRegression                                                  1750.325448   \n",
       "DecisionTreeRegressor on OHE features                             1362.321510   \n",
       "DecisionTreeRegressor on OE features                              1370.122233   \n",
       "CatBoostRegressor on OE features                                  1186.193559   \n",
       "CatBoostRegressor on original features                            1238.894454   \n",
       "LGBMRegressor                                                     1205.798632   \n",
       "\n",
       "                                        Время обучения модели, сек  \\\n",
       "LinearRegression                                              25.0   \n",
       "DecisionTreeRegressor on OHE features                          5.0   \n",
       "DecisionTreeRegressor on OE features                           0.3   \n",
       "CatBoostRegressor on OE features                              18.0   \n",
       "CatBoostRegressor on original features                         4.0   \n",
       "LGBMRegressor                                                  7.0   \n",
       "\n",
       "                                        Время предсказания модели, сек  \\\n",
       "LinearRegression                                                 0.200   \n",
       "DecisionTreeRegressor on OHE features                            0.110   \n",
       "DecisionTreeRegressor on OE features                             0.120   \n",
       "CatBoostRegressor on OE features                                 0.046   \n",
       "CatBoostRegressor on original features                           0.043   \n",
       "LGBMRegressor                                                    0.470   \n",
       "\n",
       "                                        Рейтинг RMSE  \\\n",
       "LinearRegression                            0.682742   \n",
       "DecisionTreeRegressor on OHE features       0.826948   \n",
       "DecisionTreeRegressor on OE features        0.828602   \n",
       "CatBoostRegressor on OE features            0.998070   \n",
       "CatBoostRegressor on original features      0.970144   \n",
       "LGBMRegressor                               1.000000   \n",
       "\n",
       "                                        Рейтинг времени обучения  \\\n",
       "LinearRegression                                        0.012000   \n",
       "DecisionTreeRegressor on OHE features                   0.060000   \n",
       "DecisionTreeRegressor on OE features                    1.000000   \n",
       "CatBoostRegressor on OE features                        0.016667   \n",
       "CatBoostRegressor on original features                  0.075000   \n",
       "LGBMRegressor                                           0.042857   \n",
       "\n",
       "                                        Рейтинг времени предсказания  \\\n",
       "LinearRegression                                            0.215000   \n",
       "DecisionTreeRegressor on OHE features                       0.390909   \n",
       "DecisionTreeRegressor on OE features                        0.358333   \n",
       "CatBoostRegressor on OE features                            0.934783   \n",
       "CatBoostRegressor on original features                      1.000000   \n",
       "LGBMRegressor                                               0.091489   \n",
       "\n",
       "                                        Итоговый рейтинг  \n",
       "LinearRegression                                0.909742  \n",
       "DecisionTreeRegressor on OHE features           1.277857  \n",
       "DecisionTreeRegressor on OE features            2.186935  \n",
       "CatBoostRegressor on OE features                1.949520  \n",
       "CatBoostRegressor on original features          2.045144  \n",
       "LGBMRegressor                                   1.134347  "
      ]
     },
     "execution_count": 62,
     "metadata": {},
     "output_type": "execute_result"
    }
   ],
   "source": [
    "index = ['LinearRegression',\n",
    "         'DecisionTreeRegressor on OHE features',\n",
    "         'DecisionTreeRegressor on OE features',\n",
    "         'CatBoostRegressor on OE features',\n",
    "         'CatBoostRegressor on original features',\n",
    "         'LGBMRegressor']\n",
    "data = {'RMSE на CV, евро':[cv_RMSE_LR,\n",
    "                            cv_RMSE_DTR_ohe,\n",
    "                            cv_RMSE_DTR_ordinal,\n",
    "                            cv_RMSE_CBR_ordinal,\n",
    "                            cv_RMSE_CBR_original,\n",
    "                            cv_RMSE_LGBMR],\n",
    "        'Время обучения на CV, сек':[162,\n",
    "                                     81,\n",
    "                                     6,\n",
    "                                     265,\n",
    "                                     18,\n",
    "                                     279],\n",
    "        'RMSE модели на тестовой выборке, евро':[final_RMSE_LR,\n",
    "                                                final_RMSE_DTR_ohe,\n",
    "                                                final_RMSE_DTR_ordinal,\n",
    "                                                final_RMSE_CBR_ordinal,\n",
    "                                                final_RMSE_CBR_original,\n",
    "                                                final_RMSE_LGBMR],\n",
    "        'Время обучения модели, сек':[25,\n",
    "                                      5,\n",
    "                                      0.3,\n",
    "                                      18,\n",
    "                                      4,\n",
    "                                      7],\n",
    "        'Время предсказания модели, сек':[0.2,\n",
    "                                          0.11,\n",
    "                                          0.12,\n",
    "                                          0.046,\n",
    "                                          0.043,\n",
    "                                          0.47]}\n",
    "\n",
    "scores_data = pd.DataFrame(data=data, index=index)\n",
    "scores_data['Рейтинг RMSE'] = (scores_data['RMSE на CV, евро'].min() /\n",
    "                              scores_data['RMSE на CV, евро'])\n",
    "scores_data['Рейтинг времени обучения'] = (scores_data['Время обучения модели, сек'].min() / \n",
    "                              scores_data['Время обучения модели, сек'])\n",
    "scores_data['Рейтинг времени предсказания'] = (scores_data['Время предсказания модели, сек'].min() / \n",
    "                              scores_data['Время предсказания модели, сек'])\n",
    "scores_data['Итоговый рейтинг'] = (scores_data['Рейтинг RMSE'] +\n",
    "                                   scores_data['Рейтинг времени обучения'] +\n",
    "                                   scores_data['Рейтинг времени предсказания'])\n",
    "scores_data"
   ]
  },
  {
   "cell_type": "markdown",
   "metadata": {},
   "source": [
    "## Чек-лист проверки"
   ]
  },
  {
   "cell_type": "markdown",
   "metadata": {},
   "source": [
    "Поставьте 'x' в выполненных пунктах. Далее нажмите Shift+Enter."
   ]
  },
  {
   "cell_type": "markdown",
   "metadata": {},
   "source": [
    "- [x]  Jupyter Notebook открыт\n",
    "- [x]  Весь код выполняется без ошибок\n",
    "- [x]  Ячейки с кодом расположены в порядке исполнения\n",
    "- [x]  Выполнена загрузка и подготовка данных\n",
    "- [x]  Выполнено обучение моделей\n",
    "- [x]  Есть анализ скорости работы и качества моделей"
   ]
  }
 ],
 "metadata": {
  "ExecuteTimeLog": [
   {
    "duration": 108,
    "start_time": "2022-06-01T13:40:37.632Z"
   },
   {
    "duration": 594,
    "start_time": "2022-06-01T13:40:41.334Z"
   },
   {
    "duration": 1334,
    "start_time": "2022-06-01T13:40:41.930Z"
   },
   {
    "duration": 27,
    "start_time": "2022-06-01T13:40:43.266Z"
   },
   {
    "duration": 26,
    "start_time": "2022-06-01T13:41:25.416Z"
   },
   {
    "duration": 61,
    "start_time": "2022-06-02T11:35:05.573Z"
   },
   {
    "duration": 434,
    "start_time": "2022-06-02T11:35:09.843Z"
   },
   {
    "duration": 1316,
    "start_time": "2022-06-02T11:35:10.279Z"
   },
   {
    "duration": 757,
    "start_time": "2022-06-02T11:35:11.598Z"
   },
   {
    "duration": 896,
    "start_time": "2022-06-02T11:35:15.408Z"
   },
   {
    "duration": 756,
    "start_time": "2022-06-02T11:35:26.424Z"
   },
   {
    "duration": 42,
    "start_time": "2022-06-02T11:37:43.570Z"
   },
   {
    "duration": 9,
    "start_time": "2022-06-02T11:37:53.490Z"
   },
   {
    "duration": 133,
    "start_time": "2022-06-02T11:37:57.617Z"
   },
   {
    "duration": 153,
    "start_time": "2022-06-02T11:38:17.282Z"
   },
   {
    "duration": 162,
    "start_time": "2022-06-02T11:38:23.393Z"
   },
   {
    "duration": 149,
    "start_time": "2022-06-02T11:38:29.972Z"
   },
   {
    "duration": 132,
    "start_time": "2022-06-02T11:39:33.572Z"
   },
   {
    "duration": 11,
    "start_time": "2022-06-02T12:19:14.812Z"
   },
   {
    "duration": 28,
    "start_time": "2022-06-02T12:19:34.486Z"
   },
   {
    "duration": 192,
    "start_time": "2022-06-02T12:19:49.276Z"
   },
   {
    "duration": 1204,
    "start_time": "2022-06-02T12:43:58.210Z"
   },
   {
    "duration": 28,
    "start_time": "2022-06-02T12:50:40.222Z"
   },
   {
    "duration": 25,
    "start_time": "2022-06-02T12:50:46.427Z"
   },
   {
    "duration": 18,
    "start_time": "2022-06-02T13:27:57.207Z"
   },
   {
    "duration": 361,
    "start_time": "2022-06-02T13:28:06.109Z"
   },
   {
    "duration": 285,
    "start_time": "2022-06-02T13:28:19.450Z"
   },
   {
    "duration": 452,
    "start_time": "2022-06-02T13:29:43.056Z"
   },
   {
    "duration": 464,
    "start_time": "2022-06-02T13:42:58.650Z"
   },
   {
    "duration": 1084,
    "start_time": "2022-06-02T13:42:59.117Z"
   },
   {
    "duration": 957,
    "start_time": "2022-06-02T13:43:00.203Z"
   },
   {
    "duration": 234,
    "start_time": "2022-06-02T13:43:01.163Z"
   },
   {
    "duration": 236,
    "start_time": "2022-06-02T13:43:01.400Z"
   },
   {
    "duration": 155,
    "start_time": "2022-06-02T13:43:01.640Z"
   },
   {
    "duration": 783,
    "start_time": "2022-06-02T13:43:01.797Z"
   },
   {
    "duration": 22,
    "start_time": "2022-06-02T13:43:02.582Z"
   },
   {
    "duration": 454,
    "start_time": "2022-06-02T13:43:02.606Z"
   },
   {
    "duration": 98,
    "start_time": "2022-06-02T14:12:12.459Z"
   },
   {
    "duration": 18,
    "start_time": "2022-06-02T14:12:21.168Z"
   },
   {
    "duration": 14,
    "start_time": "2022-06-02T14:12:42.516Z"
   },
   {
    "duration": 18,
    "start_time": "2022-06-02T14:13:15.500Z"
   },
   {
    "duration": 18,
    "start_time": "2022-06-02T14:13:26.249Z"
   },
   {
    "duration": 21,
    "start_time": "2022-06-02T14:13:33.457Z"
   },
   {
    "duration": 17,
    "start_time": "2022-06-02T15:11:19.402Z"
   },
   {
    "duration": 19,
    "start_time": "2022-06-02T15:11:26.582Z"
   },
   {
    "duration": 19,
    "start_time": "2022-06-02T15:11:31.023Z"
   },
   {
    "duration": 59,
    "start_time": "2022-06-03T08:45:00.109Z"
   },
   {
    "duration": 6,
    "start_time": "2022-06-03T08:45:05.386Z"
   },
   {
    "duration": 433,
    "start_time": "2022-06-03T08:45:20.085Z"
   },
   {
    "duration": 1178,
    "start_time": "2022-06-03T08:45:20.520Z"
   },
   {
    "duration": 704,
    "start_time": "2022-06-03T08:45:21.700Z"
   },
   {
    "duration": 135,
    "start_time": "2022-06-03T08:45:22.405Z"
   },
   {
    "duration": 113,
    "start_time": "2022-06-03T08:45:22.542Z"
   },
   {
    "duration": 123,
    "start_time": "2022-06-03T08:45:22.656Z"
   },
   {
    "duration": 775,
    "start_time": "2022-06-03T08:45:22.781Z"
   },
   {
    "duration": 18,
    "start_time": "2022-06-03T08:45:23.565Z"
   },
   {
    "duration": 470,
    "start_time": "2022-06-03T08:45:23.585Z"
   },
   {
    "duration": 20,
    "start_time": "2022-06-03T08:45:24.056Z"
   },
   {
    "duration": 103,
    "start_time": "2022-06-03T08:45:24.078Z"
   },
   {
    "duration": 305,
    "start_time": "2022-06-03T08:46:23.964Z"
   },
   {
    "duration": 247,
    "start_time": "2022-06-03T08:46:28.828Z"
   },
   {
    "duration": 323,
    "start_time": "2022-06-03T08:46:40.604Z"
   },
   {
    "duration": 260,
    "start_time": "2022-06-03T08:46:54.644Z"
   },
   {
    "duration": 78,
    "start_time": "2022-06-03T08:48:26.948Z"
   },
   {
    "duration": 4,
    "start_time": "2022-06-03T08:48:33.149Z"
   },
   {
    "duration": 5,
    "start_time": "2022-06-03T08:48:42.708Z"
   },
   {
    "duration": 83,
    "start_time": "2022-06-03T08:50:18.597Z"
   },
   {
    "duration": 51,
    "start_time": "2022-06-03T08:50:25.029Z"
   },
   {
    "duration": 6,
    "start_time": "2022-06-03T08:50:29.276Z"
   },
   {
    "duration": 13,
    "start_time": "2022-06-03T08:51:16.438Z"
   },
   {
    "duration": 5,
    "start_time": "2022-06-03T08:51:21.461Z"
   },
   {
    "duration": 51,
    "start_time": "2022-06-03T08:56:01.774Z"
   },
   {
    "duration": 49,
    "start_time": "2022-06-03T08:56:11.686Z"
   },
   {
    "duration": 50,
    "start_time": "2022-06-03T08:56:53.687Z"
   },
   {
    "duration": 61,
    "start_time": "2022-06-03T08:57:03.903Z"
   },
   {
    "duration": 117,
    "start_time": "2022-06-03T08:57:09.031Z"
   },
   {
    "duration": 49,
    "start_time": "2022-06-03T08:57:17.919Z"
   },
   {
    "duration": 12,
    "start_time": "2022-06-03T08:57:18.719Z"
   },
   {
    "duration": 279,
    "start_time": "2022-06-03T08:59:13.015Z"
   },
   {
    "duration": 292,
    "start_time": "2022-06-03T08:59:27.103Z"
   },
   {
    "duration": 264,
    "start_time": "2022-06-03T08:59:37.152Z"
   },
   {
    "duration": 268,
    "start_time": "2022-06-03T08:59:42.927Z"
   },
   {
    "duration": 406,
    "start_time": "2022-06-03T08:59:51.184Z"
   },
   {
    "duration": 317,
    "start_time": "2022-06-03T09:00:19.496Z"
   },
   {
    "duration": 88,
    "start_time": "2022-06-03T09:03:56.351Z"
   },
   {
    "duration": 53,
    "start_time": "2022-06-03T09:06:03.009Z"
   },
   {
    "duration": 32,
    "start_time": "2022-06-03T09:06:16.840Z"
   },
   {
    "duration": 32,
    "start_time": "2022-06-03T09:18:31.715Z"
   },
   {
    "duration": 11,
    "start_time": "2022-06-03T09:23:55.102Z"
   },
   {
    "duration": 46,
    "start_time": "2022-06-03T09:24:05.308Z"
   },
   {
    "duration": 43,
    "start_time": "2022-06-03T09:36:02.399Z"
   },
   {
    "duration": 75,
    "start_time": "2022-06-03T09:36:21.046Z"
   },
   {
    "duration": 30,
    "start_time": "2022-06-03T09:37:31.574Z"
   },
   {
    "duration": 749,
    "start_time": "2022-06-03T09:50:35.233Z"
   },
   {
    "duration": 2773,
    "start_time": "2022-06-03T09:51:07.131Z"
   },
   {
    "duration": 1905,
    "start_time": "2022-06-03T09:51:45.810Z"
   },
   {
    "duration": 1890,
    "start_time": "2022-06-03T09:51:53.505Z"
   },
   {
    "duration": 1919,
    "start_time": "2022-06-03T09:52:00.146Z"
   },
   {
    "duration": 1891,
    "start_time": "2022-06-03T09:52:06.373Z"
   },
   {
    "duration": 1910,
    "start_time": "2022-06-03T09:52:22.077Z"
   },
   {
    "duration": 1897,
    "start_time": "2022-06-03T11:25:53.191Z"
   },
   {
    "duration": 1996,
    "start_time": "2022-06-03T11:27:55.991Z"
   },
   {
    "duration": 53,
    "start_time": "2022-06-03T11:28:25.976Z"
   },
   {
    "duration": 2011,
    "start_time": "2022-06-03T11:28:55.936Z"
   },
   {
    "duration": 2049,
    "start_time": "2022-06-03T11:29:04.523Z"
   },
   {
    "duration": 62,
    "start_time": "2022-06-03T11:29:06.576Z"
   },
   {
    "duration": 411,
    "start_time": "2022-06-03T11:29:12.288Z"
   },
   {
    "duration": 807,
    "start_time": "2022-06-03T11:29:12.701Z"
   },
   {
    "duration": 641,
    "start_time": "2022-06-03T11:29:13.509Z"
   },
   {
    "duration": 117,
    "start_time": "2022-06-03T11:29:14.152Z"
   },
   {
    "duration": 114,
    "start_time": "2022-06-03T11:29:14.271Z"
   },
   {
    "duration": 102,
    "start_time": "2022-06-03T11:29:14.386Z"
   },
   {
    "duration": 523,
    "start_time": "2022-06-03T11:29:14.490Z"
   },
   {
    "duration": 9,
    "start_time": "2022-06-03T11:29:15.015Z"
   },
   {
    "duration": 361,
    "start_time": "2022-06-03T11:29:15.026Z"
   },
   {
    "duration": 12,
    "start_time": "2022-06-03T11:29:15.389Z"
   },
   {
    "duration": 93,
    "start_time": "2022-06-03T11:29:15.403Z"
   },
   {
    "duration": 274,
    "start_time": "2022-06-03T11:29:15.498Z"
   },
   {
    "duration": 59,
    "start_time": "2022-06-03T11:29:15.774Z"
   },
   {
    "duration": 11,
    "start_time": "2022-06-03T11:29:15.836Z"
   },
   {
    "duration": 303,
    "start_time": "2022-06-03T11:29:15.864Z"
   },
   {
    "duration": 81,
    "start_time": "2022-06-03T11:29:16.169Z"
   },
   {
    "duration": 45,
    "start_time": "2022-06-03T11:29:16.251Z"
   },
   {
    "duration": 102,
    "start_time": "2022-06-03T11:29:16.299Z"
   },
   {
    "duration": 31,
    "start_time": "2022-06-03T11:29:16.403Z"
   },
   {
    "duration": 183,
    "start_time": "2022-06-03T11:29:16.436Z"
   },
   {
    "duration": 0,
    "start_time": "2022-06-03T11:29:16.621Z"
   },
   {
    "duration": 0,
    "start_time": "2022-06-03T11:29:16.623Z"
   },
   {
    "duration": 81,
    "start_time": "2022-06-03T11:29:37.295Z"
   },
   {
    "duration": 2502,
    "start_time": "2022-06-03T11:29:45.498Z"
   },
   {
    "duration": 1847,
    "start_time": "2022-06-03T11:29:55.471Z"
   },
   {
    "duration": 51,
    "start_time": "2022-06-03T11:30:06.509Z"
   },
   {
    "duration": 8,
    "start_time": "2022-06-03T11:30:53.317Z"
   },
   {
    "duration": 398,
    "start_time": "2022-06-03T11:31:04.005Z"
   },
   {
    "duration": 310,
    "start_time": "2022-06-03T11:33:31.413Z"
   },
   {
    "duration": 474,
    "start_time": "2022-06-03T11:34:22.844Z"
   },
   {
    "duration": 873,
    "start_time": "2022-06-03T11:34:23.320Z"
   },
   {
    "duration": 655,
    "start_time": "2022-06-03T11:34:24.194Z"
   },
   {
    "duration": 119,
    "start_time": "2022-06-03T11:34:24.850Z"
   },
   {
    "duration": 109,
    "start_time": "2022-06-03T11:34:24.971Z"
   },
   {
    "duration": 112,
    "start_time": "2022-06-03T11:34:25.082Z"
   },
   {
    "duration": 523,
    "start_time": "2022-06-03T11:34:25.196Z"
   },
   {
    "duration": 9,
    "start_time": "2022-06-03T11:34:25.720Z"
   },
   {
    "duration": 345,
    "start_time": "2022-06-03T11:34:25.730Z"
   },
   {
    "duration": 13,
    "start_time": "2022-06-03T11:34:26.077Z"
   },
   {
    "duration": 93,
    "start_time": "2022-06-03T11:34:26.092Z"
   },
   {
    "duration": 273,
    "start_time": "2022-06-03T11:34:26.188Z"
   },
   {
    "duration": 60,
    "start_time": "2022-06-03T11:34:26.464Z"
   },
   {
    "duration": 12,
    "start_time": "2022-06-03T11:34:26.527Z"
   },
   {
    "duration": 334,
    "start_time": "2022-06-03T11:34:26.540Z"
   },
   {
    "duration": 90,
    "start_time": "2022-06-03T11:34:26.876Z"
   },
   {
    "duration": 33,
    "start_time": "2022-06-03T11:34:26.967Z"
   },
   {
    "duration": 96,
    "start_time": "2022-06-03T11:34:27.001Z"
   },
   {
    "duration": 32,
    "start_time": "2022-06-03T11:34:27.099Z"
   },
   {
    "duration": 2563,
    "start_time": "2022-06-03T11:34:27.133Z"
   },
   {
    "duration": 1852,
    "start_time": "2022-06-03T11:34:29.698Z"
   },
   {
    "duration": 58,
    "start_time": "2022-06-03T11:34:31.552Z"
   },
   {
    "duration": 399,
    "start_time": "2022-06-03T11:34:31.611Z"
   },
   {
    "duration": 83,
    "start_time": "2022-06-03T11:34:32.012Z"
   },
   {
    "duration": 0,
    "start_time": "2022-06-03T11:34:32.097Z"
   },
   {
    "duration": 8,
    "start_time": "2022-06-03T11:34:39.603Z"
   },
   {
    "duration": 8,
    "start_time": "2022-06-03T11:34:53.218Z"
   },
   {
    "duration": 289,
    "start_time": "2022-06-03T11:35:10.522Z"
   },
   {
    "duration": 327,
    "start_time": "2022-06-03T11:35:28.998Z"
   },
   {
    "duration": 284,
    "start_time": "2022-06-03T11:36:12.491Z"
   },
   {
    "duration": 7,
    "start_time": "2022-06-03T11:38:21.315Z"
   },
   {
    "duration": 8,
    "start_time": "2022-06-03T11:38:25.652Z"
   },
   {
    "duration": 52,
    "start_time": "2022-06-03T11:38:32.292Z"
   },
   {
    "duration": 50,
    "start_time": "2022-06-03T11:43:20.710Z"
   },
   {
    "duration": 17,
    "start_time": "2022-06-03T11:43:34.982Z"
   },
   {
    "duration": 40,
    "start_time": "2022-06-03T11:44:05.198Z"
   },
   {
    "duration": 50,
    "start_time": "2022-06-03T11:48:55.886Z"
   },
   {
    "duration": 9,
    "start_time": "2022-06-03T11:51:21.271Z"
   },
   {
    "duration": 474,
    "start_time": "2022-06-03T11:51:45.538Z"
   },
   {
    "duration": 40,
    "start_time": "2022-06-03T11:52:06.815Z"
   },
   {
    "duration": 712,
    "start_time": "2022-06-03T12:20:47.807Z"
   },
   {
    "duration": 15,
    "start_time": "2022-06-03T12:21:30.736Z"
   },
   {
    "duration": 13,
    "start_time": "2022-06-03T12:21:41.232Z"
   },
   {
    "duration": 466,
    "start_time": "2022-06-03T12:22:27.056Z"
   },
   {
    "duration": 846,
    "start_time": "2022-06-03T12:22:27.523Z"
   },
   {
    "duration": 667,
    "start_time": "2022-06-03T12:22:28.372Z"
   },
   {
    "duration": 157,
    "start_time": "2022-06-03T12:22:29.042Z"
   },
   {
    "duration": 117,
    "start_time": "2022-06-03T12:22:29.201Z"
   },
   {
    "duration": 119,
    "start_time": "2022-06-03T12:22:29.319Z"
   },
   {
    "duration": 547,
    "start_time": "2022-06-03T12:22:29.440Z"
   },
   {
    "duration": 13,
    "start_time": "2022-06-03T12:22:29.988Z"
   },
   {
    "duration": 369,
    "start_time": "2022-06-03T12:22:30.002Z"
   },
   {
    "duration": 14,
    "start_time": "2022-06-03T12:22:30.375Z"
   },
   {
    "duration": 105,
    "start_time": "2022-06-03T12:22:30.391Z"
   },
   {
    "duration": 290,
    "start_time": "2022-06-03T12:22:30.497Z"
   },
   {
    "duration": 59,
    "start_time": "2022-06-03T12:22:30.789Z"
   },
   {
    "duration": 32,
    "start_time": "2022-06-03T12:22:30.850Z"
   },
   {
    "duration": 328,
    "start_time": "2022-06-03T12:22:30.884Z"
   },
   {
    "duration": 93,
    "start_time": "2022-06-03T12:22:31.214Z"
   },
   {
    "duration": 32,
    "start_time": "2022-06-03T12:22:31.308Z"
   },
   {
    "duration": 98,
    "start_time": "2022-06-03T12:22:31.341Z"
   },
   {
    "duration": 42,
    "start_time": "2022-06-03T12:22:31.441Z"
   },
   {
    "duration": 2813,
    "start_time": "2022-06-03T12:22:31.484Z"
   },
   {
    "duration": 1973,
    "start_time": "2022-06-03T12:22:34.299Z"
   },
   {
    "duration": 117,
    "start_time": "2022-06-03T12:22:36.274Z"
   },
   {
    "duration": 495,
    "start_time": "2022-06-03T12:22:36.393Z"
   },
   {
    "duration": 317,
    "start_time": "2022-06-03T12:22:36.890Z"
   },
   {
    "duration": 355,
    "start_time": "2022-06-03T12:22:37.209Z"
   },
   {
    "duration": 59,
    "start_time": "2022-06-03T12:22:37.566Z"
   },
   {
    "duration": 62,
    "start_time": "2022-06-03T12:22:37.627Z"
   },
   {
    "duration": 36,
    "start_time": "2022-06-03T12:22:37.692Z"
   },
   {
    "duration": 109,
    "start_time": "2022-06-03T12:22:37.729Z"
   },
   {
    "duration": 5,
    "start_time": "2022-06-03T12:23:36.987Z"
   },
   {
    "duration": 97,
    "start_time": "2022-06-03T13:16:35.859Z"
   },
   {
    "duration": 600,
    "start_time": "2022-06-03T13:17:02.914Z"
   },
   {
    "duration": 1082,
    "start_time": "2022-06-03T13:17:08.994Z"
   },
   {
    "duration": 996,
    "start_time": "2022-06-03T13:17:18.466Z"
   },
   {
    "duration": 834,
    "start_time": "2022-06-03T13:17:35.047Z"
   },
   {
    "duration": 27,
    "start_time": "2022-06-03T13:19:16.858Z"
   },
   {
    "duration": 3,
    "start_time": "2022-06-03T13:19:46.366Z"
   },
   {
    "duration": 523,
    "start_time": "2022-06-03T13:19:53.379Z"
   },
   {
    "duration": 11,
    "start_time": "2022-06-03T13:20:45.448Z"
   },
   {
    "duration": 3,
    "start_time": "2022-06-03T13:21:11.190Z"
   },
   {
    "duration": 361668,
    "start_time": "2022-06-03T13:21:17.507Z"
   },
   {
    "duration": 82,
    "start_time": "2022-06-04T11:25:44.321Z"
   },
   {
    "duration": 884,
    "start_time": "2022-06-04T11:25:48.758Z"
   },
   {
    "duration": 4277,
    "start_time": "2022-06-04T11:25:49.649Z"
   },
   {
    "duration": 761,
    "start_time": "2022-06-04T11:25:53.928Z"
   },
   {
    "duration": 184,
    "start_time": "2022-06-04T11:25:54.691Z"
   },
   {
    "duration": 116,
    "start_time": "2022-06-04T11:25:54.878Z"
   },
   {
    "duration": 129,
    "start_time": "2022-06-04T11:25:54.996Z"
   },
   {
    "duration": 764,
    "start_time": "2022-06-04T11:25:55.128Z"
   },
   {
    "duration": 13,
    "start_time": "2022-06-04T11:25:55.895Z"
   },
   {
    "duration": 362,
    "start_time": "2022-06-04T11:25:55.910Z"
   },
   {
    "duration": 14,
    "start_time": "2022-06-04T11:25:56.274Z"
   },
   {
    "duration": 107,
    "start_time": "2022-06-04T11:25:56.289Z"
   },
   {
    "duration": 289,
    "start_time": "2022-06-04T11:25:56.397Z"
   },
   {
    "duration": 86,
    "start_time": "2022-06-04T11:25:56.688Z"
   },
   {
    "duration": 17,
    "start_time": "2022-06-04T11:25:56.776Z"
   },
   {
    "duration": 321,
    "start_time": "2022-06-04T11:25:56.794Z"
   },
   {
    "duration": 98,
    "start_time": "2022-06-04T11:25:57.117Z"
   },
   {
    "duration": 45,
    "start_time": "2022-06-04T11:25:57.216Z"
   },
   {
    "duration": 93,
    "start_time": "2022-06-04T11:25:57.262Z"
   },
   {
    "duration": 29,
    "start_time": "2022-06-04T11:25:57.357Z"
   },
   {
    "duration": 2722,
    "start_time": "2022-06-04T11:25:57.388Z"
   },
   {
    "duration": 2098,
    "start_time": "2022-06-04T11:26:00.112Z"
   },
   {
    "duration": 71,
    "start_time": "2022-06-04T11:26:02.212Z"
   },
   {
    "duration": 330,
    "start_time": "2022-06-04T11:26:02.285Z"
   },
   {
    "duration": 405,
    "start_time": "2022-06-04T11:26:02.616Z"
   },
   {
    "duration": 319,
    "start_time": "2022-06-04T11:26:03.023Z"
   },
   {
    "duration": 55,
    "start_time": "2022-06-04T11:26:03.345Z"
   },
   {
    "duration": 60,
    "start_time": "2022-06-04T11:26:03.401Z"
   },
   {
    "duration": 38,
    "start_time": "2022-06-04T11:26:03.463Z"
   },
   {
    "duration": 117,
    "start_time": "2022-06-04T11:26:03.502Z"
   },
   {
    "duration": 10,
    "start_time": "2022-06-04T11:26:03.621Z"
   },
   {
    "duration": 933,
    "start_time": "2022-06-04T11:26:03.633Z"
   },
   {
    "duration": 580,
    "start_time": "2022-06-04T11:26:04.568Z"
   },
   {
    "duration": 0,
    "start_time": "2022-06-04T11:31:18.449Z"
   },
   {
    "duration": 0,
    "start_time": "2022-06-04T11:31:18.451Z"
   },
   {
    "duration": 316367,
    "start_time": "2022-06-04T11:32:16.494Z"
   },
   {
    "duration": 69,
    "start_time": "2022-06-04T11:37:32.865Z"
   },
   {
    "duration": 41,
    "start_time": "2022-06-04T11:39:36.704Z"
   },
   {
    "duration": 43,
    "start_time": "2022-06-04T11:39:46.204Z"
   },
   {
    "duration": 4,
    "start_time": "2022-06-04T11:40:15.813Z"
   },
   {
    "duration": 340,
    "start_time": "2022-06-04T11:40:21.740Z"
   },
   {
    "duration": 10,
    "start_time": "2022-06-04T11:40:40.528Z"
   },
   {
    "duration": 330701,
    "start_time": "2022-06-04T11:40:47.229Z"
   },
   {
    "duration": 66,
    "start_time": "2022-06-04T11:48:53.102Z"
   },
   {
    "duration": 115,
    "start_time": "2022-06-04T11:49:15.329Z"
   },
   {
    "duration": 39,
    "start_time": "2022-06-04T11:49:20.044Z"
   },
   {
    "duration": 3,
    "start_time": "2022-06-04T11:49:33.940Z"
   },
   {
    "duration": 598085,
    "start_time": "2022-06-04T11:49:38.647Z"
   },
   {
    "duration": 40,
    "start_time": "2022-06-04T12:37:24.583Z"
   },
   {
    "duration": 70,
    "start_time": "2022-06-04T12:37:47.215Z"
   },
   {
    "duration": 1290,
    "start_time": "2022-06-04T12:37:53.850Z"
   },
   {
    "duration": 275442,
    "start_time": "2022-06-04T12:38:00.596Z"
   },
   {
    "duration": 2,
    "start_time": "2022-06-04T12:52:35.942Z"
   },
   {
    "duration": 1040,
    "start_time": "2022-06-04T12:59:20.623Z"
   },
   {
    "duration": 800,
    "start_time": "2022-06-04T12:59:21.665Z"
   },
   {
    "duration": 613,
    "start_time": "2022-06-04T12:59:22.467Z"
   },
   {
    "duration": 129,
    "start_time": "2022-06-04T12:59:23.082Z"
   },
   {
    "duration": 108,
    "start_time": "2022-06-04T12:59:23.215Z"
   },
   {
    "duration": 114,
    "start_time": "2022-06-04T12:59:23.329Z"
   },
   {
    "duration": 554,
    "start_time": "2022-06-04T12:59:23.445Z"
   },
   {
    "duration": 12,
    "start_time": "2022-06-04T12:59:24.001Z"
   },
   {
    "duration": 351,
    "start_time": "2022-06-04T12:59:24.014Z"
   },
   {
    "duration": 15,
    "start_time": "2022-06-04T12:59:24.367Z"
   },
   {
    "duration": 122,
    "start_time": "2022-06-04T12:59:24.384Z"
   },
   {
    "duration": 309,
    "start_time": "2022-06-04T12:59:24.508Z"
   },
   {
    "duration": 60,
    "start_time": "2022-06-04T12:59:24.819Z"
   },
   {
    "duration": 12,
    "start_time": "2022-06-04T12:59:24.882Z"
   },
   {
    "duration": 311,
    "start_time": "2022-06-04T12:59:24.895Z"
   },
   {
    "duration": 88,
    "start_time": "2022-06-04T12:59:25.208Z"
   },
   {
    "duration": 42,
    "start_time": "2022-06-04T12:59:25.298Z"
   },
   {
    "duration": 92,
    "start_time": "2022-06-04T12:59:25.342Z"
   },
   {
    "duration": 30,
    "start_time": "2022-06-04T12:59:25.436Z"
   },
   {
    "duration": 2633,
    "start_time": "2022-06-04T12:59:25.467Z"
   },
   {
    "duration": 1844,
    "start_time": "2022-06-04T12:59:28.102Z"
   },
   {
    "duration": 49,
    "start_time": "2022-06-04T12:59:29.947Z"
   },
   {
    "duration": 316,
    "start_time": "2022-06-04T12:59:29.998Z"
   },
   {
    "duration": 422,
    "start_time": "2022-06-04T12:59:30.315Z"
   },
   {
    "duration": 335,
    "start_time": "2022-06-04T12:59:30.739Z"
   },
   {
    "duration": 75,
    "start_time": "2022-06-04T12:59:31.077Z"
   },
   {
    "duration": 56,
    "start_time": "2022-06-04T12:59:31.154Z"
   },
   {
    "duration": 39,
    "start_time": "2022-06-04T12:59:31.211Z"
   },
   {
    "duration": 96,
    "start_time": "2022-06-04T12:59:31.252Z"
   },
   {
    "duration": 2,
    "start_time": "2022-06-04T12:59:31.350Z"
   },
   {
    "duration": 877,
    "start_time": "2022-06-04T12:59:31.354Z"
   },
   {
    "duration": 503,
    "start_time": "2022-06-04T12:59:32.233Z"
   },
   {
    "duration": 103594,
    "start_time": "2022-06-04T12:59:32.737Z"
   },
   {
    "duration": 142197,
    "start_time": "2022-06-04T13:01:16.334Z"
   },
   {
    "duration": 95,
    "start_time": "2022-06-04T13:03:38.538Z"
   },
   {
    "duration": 0,
    "start_time": "2022-06-04T13:03:38.635Z"
   },
   {
    "duration": 0,
    "start_time": "2022-06-04T13:03:38.636Z"
   },
   {
    "duration": 0,
    "start_time": "2022-06-04T13:03:38.637Z"
   },
   {
    "duration": 0,
    "start_time": "2022-06-04T13:03:38.638Z"
   },
   {
    "duration": 0,
    "start_time": "2022-06-04T13:03:38.639Z"
   },
   {
    "duration": 0,
    "start_time": "2022-06-04T13:03:38.640Z"
   },
   {
    "duration": 0,
    "start_time": "2022-06-04T13:03:38.641Z"
   },
   {
    "duration": 0,
    "start_time": "2022-06-04T13:03:38.642Z"
   },
   {
    "duration": 0,
    "start_time": "2022-06-04T13:03:38.643Z"
   },
   {
    "duration": 0,
    "start_time": "2022-06-04T13:03:38.645Z"
   },
   {
    "duration": 7,
    "start_time": "2022-06-04T13:04:53.814Z"
   },
   {
    "duration": 969,
    "start_time": "2022-06-04T13:05:51.153Z"
   },
   {
    "duration": 777,
    "start_time": "2022-06-04T13:05:52.124Z"
   },
   {
    "duration": 611,
    "start_time": "2022-06-04T13:05:52.903Z"
   },
   {
    "duration": 124,
    "start_time": "2022-06-04T13:05:53.515Z"
   },
   {
    "duration": 114,
    "start_time": "2022-06-04T13:05:53.642Z"
   },
   {
    "duration": 112,
    "start_time": "2022-06-04T13:05:53.757Z"
   },
   {
    "duration": 571,
    "start_time": "2022-06-04T13:05:53.871Z"
   },
   {
    "duration": 15,
    "start_time": "2022-06-04T13:05:54.444Z"
   },
   {
    "duration": 375,
    "start_time": "2022-06-04T13:05:54.461Z"
   },
   {
    "duration": 12,
    "start_time": "2022-06-04T13:05:54.839Z"
   },
   {
    "duration": 89,
    "start_time": "2022-06-04T13:05:54.852Z"
   },
   {
    "duration": 253,
    "start_time": "2022-06-04T13:05:54.943Z"
   },
   {
    "duration": 64,
    "start_time": "2022-06-04T13:05:55.197Z"
   },
   {
    "duration": 13,
    "start_time": "2022-06-04T13:05:55.263Z"
   },
   {
    "duration": 308,
    "start_time": "2022-06-04T13:05:55.277Z"
   },
   {
    "duration": 95,
    "start_time": "2022-06-04T13:05:55.587Z"
   },
   {
    "duration": 45,
    "start_time": "2022-06-04T13:05:55.684Z"
   },
   {
    "duration": 80,
    "start_time": "2022-06-04T13:05:55.731Z"
   },
   {
    "duration": 54,
    "start_time": "2022-06-04T13:05:55.813Z"
   },
   {
    "duration": 2456,
    "start_time": "2022-06-04T13:05:55.868Z"
   },
   {
    "duration": 1804,
    "start_time": "2022-06-04T13:05:58.326Z"
   },
   {
    "duration": 50,
    "start_time": "2022-06-04T13:06:00.131Z"
   },
   {
    "duration": 307,
    "start_time": "2022-06-04T13:06:00.182Z"
   },
   {
    "duration": 389,
    "start_time": "2022-06-04T13:06:00.490Z"
   },
   {
    "duration": 311,
    "start_time": "2022-06-04T13:06:00.881Z"
   },
   {
    "duration": 59,
    "start_time": "2022-06-04T13:06:01.194Z"
   },
   {
    "duration": 40,
    "start_time": "2022-06-04T13:06:01.254Z"
   },
   {
    "duration": 58,
    "start_time": "2022-06-04T13:06:01.298Z"
   },
   {
    "duration": 98,
    "start_time": "2022-06-04T13:06:01.358Z"
   },
   {
    "duration": 3,
    "start_time": "2022-06-04T13:06:01.457Z"
   },
   {
    "duration": 834,
    "start_time": "2022-06-04T13:06:01.462Z"
   },
   {
    "duration": 489,
    "start_time": "2022-06-04T13:06:02.297Z"
   },
   {
    "duration": 107448,
    "start_time": "2022-06-04T13:06:02.787Z"
   },
   {
    "duration": 155694,
    "start_time": "2022-06-04T13:07:50.238Z"
   },
   {
    "duration": 95918,
    "start_time": "2022-06-04T13:10:25.935Z"
   },
   {
    "duration": 6635,
    "start_time": "2022-06-04T13:12:01.855Z"
   },
   {
    "duration": 282406,
    "start_time": "2022-06-04T13:12:08.493Z"
   },
   {
    "duration": 20538,
    "start_time": "2022-06-04T13:16:50.900Z"
   },
   {
    "duration": 140,
    "start_time": "2022-06-04T13:17:11.439Z"
   },
   {
    "duration": 31062,
    "start_time": "2022-06-04T13:17:11.580Z"
   },
   {
    "duration": 0,
    "start_time": "2022-06-04T13:17:42.644Z"
   },
   {
    "duration": 0,
    "start_time": "2022-06-04T13:17:42.646Z"
   },
   {
    "duration": 0,
    "start_time": "2022-06-04T13:17:42.729Z"
   },
   {
    "duration": 0,
    "start_time": "2022-06-04T13:17:42.730Z"
   },
   {
    "duration": 0,
    "start_time": "2022-06-04T13:17:42.731Z"
   },
   {
    "duration": 61,
    "start_time": "2022-06-04T13:18:20.803Z"
   },
   {
    "duration": 590238,
    "start_time": "2022-06-04T13:18:28.303Z"
   },
   {
    "duration": 55,
    "start_time": "2022-06-04T13:28:18.542Z"
   },
   {
    "duration": 87192,
    "start_time": "2022-06-04T13:32:19.745Z"
   },
   {
    "duration": 0,
    "start_time": "2022-06-04T13:33:46.938Z"
   },
   {
    "duration": 0,
    "start_time": "2022-06-04T13:33:46.939Z"
   },
   {
    "duration": 0,
    "start_time": "2022-06-04T13:33:46.940Z"
   },
   {
    "duration": 0,
    "start_time": "2022-06-04T13:33:46.941Z"
   },
   {
    "duration": 0,
    "start_time": "2022-06-04T13:33:46.942Z"
   },
   {
    "duration": 26,
    "start_time": "2022-06-04T13:34:08.361Z"
   },
   {
    "duration": 43,
    "start_time": "2022-06-04T13:34:21.744Z"
   },
   {
    "duration": 4,
    "start_time": "2022-06-04T13:34:36.797Z"
   },
   {
    "duration": 39687,
    "start_time": "2022-06-04T13:34:41.645Z"
   },
   {
    "duration": 5635,
    "start_time": "2022-06-04T13:35:21.335Z"
   },
   {
    "duration": 360,
    "start_time": "2022-06-04T13:35:26.971Z"
   },
   {
    "duration": 22763,
    "start_time": "2022-06-04T13:35:27.333Z"
   },
   {
    "duration": 5847,
    "start_time": "2022-06-04T13:35:50.098Z"
   },
   {
    "duration": 38,
    "start_time": "2022-06-04T13:35:55.946Z"
   },
   {
    "duration": 1159,
    "start_time": "2022-06-04T13:45:44.922Z"
   },
   {
    "duration": 1070,
    "start_time": "2022-06-04T13:45:46.083Z"
   },
   {
    "duration": 641,
    "start_time": "2022-06-04T13:45:47.154Z"
   },
   {
    "duration": 140,
    "start_time": "2022-06-04T13:45:47.797Z"
   },
   {
    "duration": 107,
    "start_time": "2022-06-04T13:45:47.938Z"
   },
   {
    "duration": 119,
    "start_time": "2022-06-04T13:45:48.047Z"
   },
   {
    "duration": 489,
    "start_time": "2022-06-04T13:45:48.168Z"
   },
   {
    "duration": 13,
    "start_time": "2022-06-04T13:45:48.658Z"
   },
   {
    "duration": 353,
    "start_time": "2022-06-04T13:45:48.672Z"
   },
   {
    "duration": 20,
    "start_time": "2022-06-04T13:45:49.029Z"
   },
   {
    "duration": 85,
    "start_time": "2022-06-04T13:45:49.051Z"
   },
   {
    "duration": 273,
    "start_time": "2022-06-04T13:45:49.138Z"
   },
   {
    "duration": 73,
    "start_time": "2022-06-04T13:45:49.413Z"
   },
   {
    "duration": 13,
    "start_time": "2022-06-04T13:45:49.488Z"
   },
   {
    "duration": 333,
    "start_time": "2022-06-04T13:45:49.503Z"
   },
   {
    "duration": 84,
    "start_time": "2022-06-04T13:45:49.838Z"
   },
   {
    "duration": 41,
    "start_time": "2022-06-04T13:45:49.928Z"
   },
   {
    "duration": 96,
    "start_time": "2022-06-04T13:45:49.971Z"
   },
   {
    "duration": 31,
    "start_time": "2022-06-04T13:45:50.069Z"
   },
   {
    "duration": 2878,
    "start_time": "2022-06-04T13:45:50.102Z"
   },
   {
    "duration": 2102,
    "start_time": "2022-06-04T13:45:52.982Z"
   },
   {
    "duration": 68,
    "start_time": "2022-06-04T13:45:55.085Z"
   },
   {
    "duration": 412,
    "start_time": "2022-06-04T13:45:55.155Z"
   },
   {
    "duration": 316,
    "start_time": "2022-06-04T13:45:55.570Z"
   },
   {
    "duration": 306,
    "start_time": "2022-06-04T13:45:55.888Z"
   },
   {
    "duration": 66,
    "start_time": "2022-06-04T13:45:56.196Z"
   },
   {
    "duration": 41,
    "start_time": "2022-06-04T13:45:56.264Z"
   },
   {
    "duration": 46,
    "start_time": "2022-06-04T13:45:56.331Z"
   },
   {
    "duration": 98,
    "start_time": "2022-06-04T13:45:56.378Z"
   },
   {
    "duration": 4,
    "start_time": "2022-06-04T13:45:56.477Z"
   },
   {
    "duration": 809,
    "start_time": "2022-06-04T13:45:56.482Z"
   },
   {
    "duration": 529,
    "start_time": "2022-06-04T13:45:57.293Z"
   },
   {
    "duration": 271013,
    "start_time": "2022-06-04T13:45:57.824Z"
   },
   {
    "duration": 285817,
    "start_time": "2022-06-04T13:50:28.842Z"
   },
   {
    "duration": 99516,
    "start_time": "2022-06-04T13:55:14.730Z"
   },
   {
    "duration": 6946,
    "start_time": "2022-06-04T13:56:54.248Z"
   },
   {
    "duration": 309452,
    "start_time": "2022-06-04T13:57:01.196Z"
   },
   {
    "duration": 23789,
    "start_time": "2022-06-04T14:02:10.650Z"
   },
   {
    "duration": 3317149,
    "start_time": "2022-06-04T14:02:34.445Z"
   },
   {
    "duration": 1134,
    "start_time": "2022-06-04T14:57:55.580Z"
   },
   {
    "duration": 1044,
    "start_time": "2022-06-04T14:57:56.716Z"
   },
   {
    "duration": 723,
    "start_time": "2022-06-04T14:57:57.762Z"
   },
   {
    "duration": 157,
    "start_time": "2022-06-04T14:57:58.487Z"
   },
   {
    "duration": 124,
    "start_time": "2022-06-04T14:57:58.649Z"
   },
   {
    "duration": 127,
    "start_time": "2022-06-04T14:57:58.775Z"
   },
   {
    "duration": 537,
    "start_time": "2022-06-04T14:57:58.903Z"
   },
   {
    "duration": 18,
    "start_time": "2022-06-04T14:57:59.448Z"
   },
   {
    "duration": 379,
    "start_time": "2022-06-04T14:57:59.468Z"
   },
   {
    "duration": 15,
    "start_time": "2022-06-04T14:57:59.855Z"
   },
   {
    "duration": 87,
    "start_time": "2022-06-04T14:57:59.871Z"
   },
   {
    "duration": 294,
    "start_time": "2022-06-04T14:57:59.960Z"
   },
   {
    "duration": 65,
    "start_time": "2022-06-04T14:58:00.256Z"
   },
   {
    "duration": 48,
    "start_time": "2022-06-04T14:58:00.332Z"
   },
   {
    "duration": 374,
    "start_time": "2022-06-04T14:58:00.381Z"
   },
   {
    "duration": 104,
    "start_time": "2022-06-04T14:58:00.762Z"
   },
   {
    "duration": 33,
    "start_time": "2022-06-04T14:58:00.868Z"
   },
   {
    "duration": 105,
    "start_time": "2022-06-04T14:58:00.903Z"
   },
   {
    "duration": 45,
    "start_time": "2022-06-04T14:58:01.010Z"
   },
   {
    "duration": 2858,
    "start_time": "2022-06-04T14:58:01.063Z"
   },
   {
    "duration": 2167,
    "start_time": "2022-06-04T14:58:03.923Z"
   },
   {
    "duration": 66,
    "start_time": "2022-06-04T14:58:06.092Z"
   },
   {
    "duration": 430,
    "start_time": "2022-06-04T14:58:06.162Z"
   },
   {
    "duration": 317,
    "start_time": "2022-06-04T14:58:06.594Z"
   },
   {
    "duration": 311,
    "start_time": "2022-06-04T14:58:06.913Z"
   },
   {
    "duration": 67,
    "start_time": "2022-06-04T14:58:07.228Z"
   },
   {
    "duration": 71,
    "start_time": "2022-06-04T14:58:07.297Z"
   },
   {
    "duration": 38,
    "start_time": "2022-06-04T14:58:07.373Z"
   },
   {
    "duration": 94,
    "start_time": "2022-06-04T14:58:07.413Z"
   },
   {
    "duration": 3,
    "start_time": "2022-06-04T14:58:07.509Z"
   },
   {
    "duration": 841,
    "start_time": "2022-06-04T14:58:07.528Z"
   },
   {
    "duration": 548,
    "start_time": "2022-06-04T14:58:08.371Z"
   },
   {
    "duration": 493018,
    "start_time": "2022-06-04T14:58:08.921Z"
   },
   {
    "duration": 495033,
    "start_time": "2022-06-04T15:06:21.941Z"
   },
   {
    "duration": 103086,
    "start_time": "2022-06-04T15:14:37.033Z"
   },
   {
    "duration": 7001,
    "start_time": "2022-06-04T15:16:20.121Z"
   },
   {
    "duration": 371445,
    "start_time": "2022-06-04T15:16:27.128Z"
   },
   {
    "duration": 28037,
    "start_time": "2022-06-04T15:22:38.575Z"
   },
   {
    "duration": 0,
    "start_time": "2022-06-04T16:06:11.828Z"
   },
   {
    "duration": 0,
    "start_time": "2022-06-04T16:06:11.834Z"
   },
   {
    "duration": 0,
    "start_time": "2022-06-04T16:06:11.835Z"
   },
   {
    "duration": 0,
    "start_time": "2022-06-04T16:06:11.836Z"
   },
   {
    "duration": 0,
    "start_time": "2022-06-04T16:06:11.839Z"
   },
   {
    "duration": 0,
    "start_time": "2022-06-04T16:06:11.840Z"
   },
   {
    "duration": 0,
    "start_time": "2022-06-04T16:06:11.842Z"
   },
   {
    "duration": 0,
    "start_time": "2022-06-04T16:06:11.843Z"
   },
   {
    "duration": 520591,
    "start_time": "2022-06-04T16:06:50.468Z"
   },
   {
    "duration": 3,
    "start_time": "2022-06-04T16:15:39.077Z"
   },
   {
    "duration": 987,
    "start_time": "2022-06-04T16:15:39.804Z"
   },
   {
    "duration": 694,
    "start_time": "2022-06-04T16:15:40.793Z"
   },
   {
    "duration": 154,
    "start_time": "2022-06-04T16:15:41.489Z"
   },
   {
    "duration": 143,
    "start_time": "2022-06-04T16:15:41.645Z"
   },
   {
    "duration": 127,
    "start_time": "2022-06-04T16:15:41.790Z"
   },
   {
    "duration": 292,
    "start_time": "2022-06-04T16:15:41.919Z"
   },
   {
    "duration": 49,
    "start_time": "2022-06-04T16:15:42.213Z"
   },
   {
    "duration": 410,
    "start_time": "2022-06-04T16:15:43.285Z"
   },
   {
    "duration": 15,
    "start_time": "2022-06-04T16:15:43.698Z"
   },
   {
    "duration": 122,
    "start_time": "2022-06-04T16:15:44.349Z"
   },
   {
    "duration": 294,
    "start_time": "2022-06-04T16:15:45.572Z"
   },
   {
    "duration": 70,
    "start_time": "2022-06-04T16:15:46.154Z"
   },
   {
    "duration": 13,
    "start_time": "2022-06-04T16:15:46.711Z"
   },
   {
    "duration": 462,
    "start_time": "2022-06-04T16:15:46.946Z"
   },
   {
    "duration": 144,
    "start_time": "2022-06-04T16:15:47.952Z"
   },
   {
    "duration": 43,
    "start_time": "2022-06-04T16:15:49.192Z"
   },
   {
    "duration": 100,
    "start_time": "2022-06-04T16:15:49.656Z"
   },
   {
    "duration": 59,
    "start_time": "2022-06-04T16:15:50.304Z"
   },
   {
    "duration": 3090,
    "start_time": "2022-06-04T16:15:50.984Z"
   },
   {
    "duration": 2397,
    "start_time": "2022-06-04T16:16:02.806Z"
   },
   {
    "duration": 70,
    "start_time": "2022-06-04T16:16:06.848Z"
   },
   {
    "duration": 364,
    "start_time": "2022-06-04T16:16:09.984Z"
   },
   {
    "duration": 394,
    "start_time": "2022-06-04T16:16:10.746Z"
   },
   {
    "duration": 365,
    "start_time": "2022-06-04T16:16:13.196Z"
   },
   {
    "duration": 79,
    "start_time": "2022-06-04T16:16:14.490Z"
   },
   {
    "duration": 83,
    "start_time": "2022-06-04T16:16:16.506Z"
   },
   {
    "duration": 94,
    "start_time": "2022-06-04T16:16:17.907Z"
   },
   {
    "duration": 113,
    "start_time": "2022-06-04T16:16:19.211Z"
   },
   {
    "duration": 4,
    "start_time": "2022-06-04T16:16:20.058Z"
   },
   {
    "duration": 995,
    "start_time": "2022-06-04T16:16:22.080Z"
   },
   {
    "duration": 585,
    "start_time": "2022-06-04T16:16:23.080Z"
   },
   {
    "duration": 1463,
    "start_time": "2022-06-04T16:25:00.626Z"
   },
   {
    "duration": 1405,
    "start_time": "2022-06-04T16:25:02.792Z"
   },
   {
    "duration": 1128,
    "start_time": "2022-06-04T16:25:04.208Z"
   },
   {
    "duration": 241,
    "start_time": "2022-06-04T16:25:05.338Z"
   },
   {
    "duration": 127,
    "start_time": "2022-06-04T16:25:05.585Z"
   },
   {
    "duration": 205,
    "start_time": "2022-06-04T16:25:05.717Z"
   },
   {
    "duration": 666,
    "start_time": "2022-06-04T16:25:05.927Z"
   },
   {
    "duration": 21,
    "start_time": "2022-06-04T16:25:06.598Z"
   },
   {
    "duration": 825,
    "start_time": "2022-06-04T16:25:06.624Z"
   },
   {
    "duration": 52,
    "start_time": "2022-06-04T16:25:07.461Z"
   },
   {
    "duration": 218,
    "start_time": "2022-06-04T16:25:07.533Z"
   },
   {
    "duration": 358,
    "start_time": "2022-06-04T16:25:07.754Z"
   },
   {
    "duration": 143,
    "start_time": "2022-06-04T16:25:08.115Z"
   },
   {
    "duration": 75,
    "start_time": "2022-06-04T16:25:08.260Z"
   },
   {
    "duration": 596,
    "start_time": "2022-06-04T16:25:08.340Z"
   },
   {
    "duration": 183,
    "start_time": "2022-06-04T16:25:08.942Z"
   },
   {
    "duration": 123,
    "start_time": "2022-06-04T16:25:09.489Z"
   },
   {
    "duration": 237,
    "start_time": "2022-06-04T16:25:10.042Z"
   },
   {
    "duration": 123,
    "start_time": "2022-06-04T16:25:10.754Z"
   },
   {
    "duration": 5543,
    "start_time": "2022-06-04T16:25:11.134Z"
   },
   {
    "duration": 3521,
    "start_time": "2022-06-04T16:25:20.315Z"
   },
   {
    "duration": 113,
    "start_time": "2022-06-04T16:25:23.839Z"
   },
   {
    "duration": 986,
    "start_time": "2022-06-04T16:25:23.957Z"
   },
   {
    "duration": 534,
    "start_time": "2022-06-04T16:25:24.954Z"
   },
   {
    "duration": 523,
    "start_time": "2022-06-04T16:25:25.495Z"
   },
   {
    "duration": 108,
    "start_time": "2022-06-04T16:25:26.026Z"
   },
   {
    "duration": 110,
    "start_time": "2022-06-04T16:25:28.111Z"
   },
   {
    "duration": 104,
    "start_time": "2022-06-04T16:25:28.455Z"
   },
   {
    "duration": 195,
    "start_time": "2022-06-04T16:25:29.808Z"
   },
   {
    "duration": 9,
    "start_time": "2022-06-04T16:25:30.785Z"
   },
   {
    "duration": 1042,
    "start_time": "2022-06-04T16:25:40.704Z"
   },
   {
    "duration": 664,
    "start_time": "2022-06-04T16:25:41.748Z"
   },
   {
    "duration": 267,
    "start_time": "2022-06-04T16:25:53.338Z"
   },
   {
    "duration": 5,
    "start_time": "2022-06-04T16:26:15.105Z"
   },
   {
    "duration": 125,
    "start_time": "2022-06-04T16:26:20.749Z"
   },
   {
    "duration": 98,
    "start_time": "2022-06-04T16:26:44.506Z"
   },
   {
    "duration": 134,
    "start_time": "2022-06-04T16:27:10.426Z"
   },
   {
    "duration": 464712,
    "start_time": "2022-06-04T16:27:37.417Z"
   },
   {
    "duration": 1150,
    "start_time": "2022-06-05T03:38:59.813Z"
   },
   {
    "duration": 1241,
    "start_time": "2022-06-05T03:39:02.778Z"
   },
   {
    "duration": 700,
    "start_time": "2022-06-05T03:39:04.021Z"
   },
   {
    "duration": 130,
    "start_time": "2022-06-05T03:39:04.819Z"
   },
   {
    "duration": 96,
    "start_time": "2022-06-05T03:39:08.489Z"
   },
   {
    "duration": 123,
    "start_time": "2022-06-05T03:40:08.158Z"
   },
   {
    "duration": 779,
    "start_time": "2022-06-05T03:44:25.922Z"
   },
   {
    "duration": 15,
    "start_time": "2022-06-05T03:44:29.024Z"
   },
   {
    "duration": 367,
    "start_time": "2022-06-05T03:44:38.156Z"
   },
   {
    "duration": 17,
    "start_time": "2022-06-05T03:44:45.136Z"
   },
   {
    "duration": 90,
    "start_time": "2022-06-05T03:44:53.007Z"
   },
   {
    "duration": 273,
    "start_time": "2022-06-05T03:45:54.481Z"
   },
   {
    "duration": 79,
    "start_time": "2022-06-05T03:46:02.224Z"
   },
   {
    "duration": 11,
    "start_time": "2022-06-05T03:46:02.742Z"
   },
   {
    "duration": 304,
    "start_time": "2022-06-05T03:46:07.876Z"
   },
   {
    "duration": 81,
    "start_time": "2022-06-05T03:46:59.373Z"
   },
   {
    "duration": 33,
    "start_time": "2022-06-05T03:47:19.982Z"
   },
   {
    "duration": 98,
    "start_time": "2022-06-05T03:47:30.934Z"
   },
   {
    "duration": 30,
    "start_time": "2022-06-05T03:49:03.405Z"
   },
   {
    "duration": 3037,
    "start_time": "2022-06-05T03:50:16.584Z"
   },
   {
    "duration": 19,
    "start_time": "2022-06-05T03:50:35.484Z"
   },
   {
    "duration": 6,
    "start_time": "2022-06-05T03:50:58.728Z"
   },
   {
    "duration": 1828,
    "start_time": "2022-06-05T03:52:59.146Z"
   },
   {
    "duration": 53,
    "start_time": "2022-06-05T03:53:00.977Z"
   },
   {
    "duration": 381,
    "start_time": "2022-06-05T03:53:36.818Z"
   },
   {
    "duration": 299,
    "start_time": "2022-06-05T03:53:46.156Z"
   },
   {
    "duration": 53,
    "start_time": "2022-06-05T03:54:03.430Z"
   },
   {
    "duration": 45,
    "start_time": "2022-06-05T03:54:27.438Z"
   },
   {
    "duration": 42,
    "start_time": "2022-06-05T03:54:42.119Z"
   },
   {
    "duration": 90,
    "start_time": "2022-06-05T03:55:42.778Z"
   },
   {
    "duration": 4,
    "start_time": "2022-06-05T03:55:53.054Z"
   },
   {
    "duration": 827,
    "start_time": "2022-06-05T03:58:14.420Z"
   },
   {
    "duration": 480,
    "start_time": "2022-06-05T03:59:21.482Z"
   },
   {
    "duration": 31,
    "start_time": "2022-06-05T04:00:29.071Z"
   },
   {
    "duration": 20,
    "start_time": "2022-06-05T04:01:06.426Z"
   },
   {
    "duration": 55,
    "start_time": "2022-06-05T04:07:55.725Z"
   },
   {
    "duration": 1663026,
    "start_time": "2022-06-05T04:08:05.200Z"
   },
   {
    "duration": 68863,
    "start_time": "2022-06-05T04:36:18.150Z"
   },
   {
    "duration": 34137,
    "start_time": "2022-06-05T04:37:29.490Z"
   },
   {
    "duration": 19,
    "start_time": "2022-06-05T04:38:07.079Z"
   },
   {
    "duration": 5,
    "start_time": "2022-06-05T04:38:22.887Z"
   },
   {
    "duration": 31071,
    "start_time": "2022-06-05T04:39:06.447Z"
   },
   {
    "duration": 30484,
    "start_time": "2022-06-05T04:40:04.341Z"
   },
   {
    "duration": 2630,
    "start_time": "2022-06-05T04:40:46.881Z"
   },
   {
    "duration": 16200,
    "start_time": "2022-06-05T04:40:57.083Z"
   },
   {
    "duration": 26125,
    "start_time": "2022-06-05T04:41:14.414Z"
   },
   {
    "duration": 266250,
    "start_time": "2022-06-05T04:41:56.176Z"
   },
   {
    "duration": 1163,
    "start_time": "2022-06-05T05:25:38.872Z"
   },
   {
    "duration": 858,
    "start_time": "2022-06-05T05:25:40.037Z"
   },
   {
    "duration": 651,
    "start_time": "2022-06-05T05:25:40.897Z"
   },
   {
    "duration": 121,
    "start_time": "2022-06-05T05:25:41.550Z"
   },
   {
    "duration": 104,
    "start_time": "2022-06-05T05:25:41.673Z"
   },
   {
    "duration": 112,
    "start_time": "2022-06-05T05:25:41.779Z"
   },
   {
    "duration": 484,
    "start_time": "2022-06-05T05:25:41.893Z"
   },
   {
    "duration": 15,
    "start_time": "2022-06-05T05:25:42.378Z"
   },
   {
    "duration": 361,
    "start_time": "2022-06-05T05:25:42.395Z"
   },
   {
    "duration": 18,
    "start_time": "2022-06-05T05:25:42.758Z"
   },
   {
    "duration": 105,
    "start_time": "2022-06-05T05:25:42.778Z"
   },
   {
    "duration": 269,
    "start_time": "2022-06-05T05:25:42.885Z"
   },
   {
    "duration": 66,
    "start_time": "2022-06-05T05:25:43.155Z"
   },
   {
    "duration": 12,
    "start_time": "2022-06-05T05:25:43.224Z"
   },
   {
    "duration": 333,
    "start_time": "2022-06-05T05:25:43.237Z"
   },
   {
    "duration": 95,
    "start_time": "2022-06-05T05:25:43.572Z"
   },
   {
    "duration": 43,
    "start_time": "2022-06-05T05:25:43.669Z"
   },
   {
    "duration": 99,
    "start_time": "2022-06-05T05:25:43.714Z"
   },
   {
    "duration": 31,
    "start_time": "2022-06-05T05:25:43.814Z"
   },
   {
    "duration": 2802,
    "start_time": "2022-06-05T05:25:43.847Z"
   },
   {
    "duration": 2056,
    "start_time": "2022-06-05T05:25:46.651Z"
   },
   {
    "duration": 67,
    "start_time": "2022-06-05T05:25:48.709Z"
   },
   {
    "duration": 508,
    "start_time": "2022-06-05T05:25:48.777Z"
   },
   {
    "duration": 313,
    "start_time": "2022-06-05T05:25:49.288Z"
   },
   {
    "duration": 306,
    "start_time": "2022-06-05T05:25:49.603Z"
   },
   {
    "duration": 60,
    "start_time": "2022-06-05T05:25:49.910Z"
   },
   {
    "duration": 41,
    "start_time": "2022-06-05T05:25:49.971Z"
   },
   {
    "duration": 66,
    "start_time": "2022-06-05T05:25:50.014Z"
   },
   {
    "duration": 98,
    "start_time": "2022-06-05T05:25:50.082Z"
   },
   {
    "duration": 3,
    "start_time": "2022-06-05T05:25:50.182Z"
   },
   {
    "duration": 853,
    "start_time": "2022-06-05T05:25:50.187Z"
   },
   {
    "duration": 508,
    "start_time": "2022-06-05T05:25:51.042Z"
   },
   {
    "duration": 147623,
    "start_time": "2022-06-05T05:25:51.552Z"
   },
   {
    "duration": 178489,
    "start_time": "2022-06-05T05:28:19.178Z"
   },
   {
    "duration": 100931,
    "start_time": "2022-06-05T05:31:17.670Z"
   },
   {
    "duration": 6360,
    "start_time": "2022-06-05T05:32:58.602Z"
   },
   {
    "duration": 300231,
    "start_time": "2022-06-05T05:33:04.965Z"
   },
   {
    "duration": 21808,
    "start_time": "2022-06-05T05:38:05.197Z"
   },
   {
    "duration": 372472,
    "start_time": "2022-06-05T05:38:27.006Z"
   },
   {
    "duration": 1728786,
    "start_time": "2022-06-05T05:44:39.480Z"
   },
   {
    "duration": 44397,
    "start_time": "2022-06-05T06:13:28.269Z"
   },
   {
    "duration": 5600,
    "start_time": "2022-06-05T06:14:12.670Z"
   },
   {
    "duration": 388,
    "start_time": "2022-06-05T06:14:18.272Z"
   },
   {
    "duration": 22897,
    "start_time": "2022-06-05T06:14:18.662Z"
   },
   {
    "duration": 5150,
    "start_time": "2022-06-05T06:14:41.561Z"
   },
   {
    "duration": 10570,
    "start_time": "2022-06-05T06:14:46.713Z"
   },
   {
    "duration": 29,
    "start_time": "2022-06-05T06:14:57.285Z"
   },
   {
    "duration": 0,
    "start_time": "2022-06-05T06:14:57.315Z"
   },
   {
    "duration": 52,
    "start_time": "2022-06-05T07:01:36.837Z"
   },
   {
    "duration": 1272,
    "start_time": "2022-06-05T08:35:57.753Z"
   },
   {
    "duration": 1388,
    "start_time": "2022-06-05T08:35:59.027Z"
   },
   {
    "duration": 786,
    "start_time": "2022-06-05T08:36:00.417Z"
   },
   {
    "duration": 170,
    "start_time": "2022-06-05T08:36:01.205Z"
   },
   {
    "duration": 116,
    "start_time": "2022-06-05T08:36:01.377Z"
   },
   {
    "duration": 125,
    "start_time": "2022-06-05T08:36:01.494Z"
   },
   {
    "duration": 646,
    "start_time": "2022-06-05T08:36:01.621Z"
   },
   {
    "duration": 12,
    "start_time": "2022-06-05T08:36:02.269Z"
   },
   {
    "duration": 466,
    "start_time": "2022-06-05T08:36:02.283Z"
   },
   {
    "duration": 20,
    "start_time": "2022-06-05T08:36:02.750Z"
   },
   {
    "duration": 112,
    "start_time": "2022-06-05T08:36:02.773Z"
   },
   {
    "duration": 324,
    "start_time": "2022-06-05T08:36:02.887Z"
   },
   {
    "duration": 87,
    "start_time": "2022-06-05T08:36:03.214Z"
   },
   {
    "duration": 17,
    "start_time": "2022-06-05T08:36:03.305Z"
   },
   {
    "duration": 343,
    "start_time": "2022-06-05T08:36:03.324Z"
   },
   {
    "duration": 161,
    "start_time": "2022-06-05T08:36:03.670Z"
   },
   {
    "duration": 53,
    "start_time": "2022-06-05T08:36:03.833Z"
   },
   {
    "duration": 104,
    "start_time": "2022-06-05T08:36:03.888Z"
   },
   {
    "duration": 32,
    "start_time": "2022-06-05T08:36:03.994Z"
   },
   {
    "duration": 2653,
    "start_time": "2022-06-05T08:36:04.028Z"
   },
   {
    "duration": 1957,
    "start_time": "2022-06-05T08:36:06.683Z"
   },
   {
    "duration": 69,
    "start_time": "2022-06-05T08:36:08.642Z"
   },
   {
    "duration": 492,
    "start_time": "2022-06-05T08:36:08.713Z"
   },
   {
    "duration": 299,
    "start_time": "2022-06-05T08:36:09.207Z"
   },
   {
    "duration": 291,
    "start_time": "2022-06-05T08:36:09.508Z"
   },
   {
    "duration": 63,
    "start_time": "2022-06-05T08:36:09.801Z"
   },
   {
    "duration": 38,
    "start_time": "2022-06-05T08:36:09.866Z"
   },
   {
    "duration": 63,
    "start_time": "2022-06-05T08:36:09.906Z"
   },
   {
    "duration": 103,
    "start_time": "2022-06-05T08:36:09.970Z"
   },
   {
    "duration": 3,
    "start_time": "2022-06-05T08:36:10.075Z"
   },
   {
    "duration": 877,
    "start_time": "2022-06-05T08:36:10.080Z"
   },
   {
    "duration": 499,
    "start_time": "2022-06-05T08:36:10.959Z"
   },
   {
    "duration": 138624,
    "start_time": "2022-06-05T08:36:11.459Z"
   },
   {
    "duration": 177801,
    "start_time": "2022-06-05T08:38:30.166Z"
   },
   {
    "duration": 97250,
    "start_time": "2022-06-05T08:41:27.969Z"
   },
   {
    "duration": 6483,
    "start_time": "2022-06-05T08:43:05.221Z"
   },
   {
    "duration": 311354,
    "start_time": "2022-06-05T08:43:11.706Z"
   },
   {
    "duration": 28329,
    "start_time": "2022-06-05T08:48:23.063Z"
   },
   {
    "duration": 502586,
    "start_time": "2022-06-05T08:48:51.394Z"
   },
   {
    "duration": 235893,
    "start_time": "2022-06-05T08:57:13.981Z"
   },
   {
    "duration": 4,
    "start_time": "2022-06-05T10:18:17.586Z"
   },
   {
    "duration": 789,
    "start_time": "2022-06-05T10:18:17.592Z"
   },
   {
    "duration": 575,
    "start_time": "2022-06-05T10:18:18.382Z"
   },
   {
    "duration": 163,
    "start_time": "2022-06-05T10:18:18.965Z"
   },
   {
    "duration": 111,
    "start_time": "2022-06-05T10:18:19.131Z"
   },
   {
    "duration": 108,
    "start_time": "2022-06-05T10:18:19.244Z"
   },
   {
    "duration": 270,
    "start_time": "2022-06-05T10:18:19.353Z"
   },
   {
    "duration": 10,
    "start_time": "2022-06-05T10:18:19.625Z"
   },
   {
    "duration": 346,
    "start_time": "2022-06-05T10:18:19.637Z"
   },
   {
    "duration": 13,
    "start_time": "2022-06-05T10:18:19.985Z"
   },
   {
    "duration": 102,
    "start_time": "2022-06-05T10:18:20.000Z"
   },
   {
    "duration": 268,
    "start_time": "2022-06-05T10:18:20.104Z"
   },
   {
    "duration": 60,
    "start_time": "2022-06-05T10:18:20.374Z"
   },
   {
    "duration": 34,
    "start_time": "2022-06-05T10:18:20.438Z"
   },
   {
    "duration": 422,
    "start_time": "2022-06-05T10:18:20.474Z"
   },
   {
    "duration": 89,
    "start_time": "2022-06-05T10:18:20.898Z"
   },
   {
    "duration": 33,
    "start_time": "2022-06-05T10:18:20.989Z"
   },
   {
    "duration": 102,
    "start_time": "2022-06-05T10:18:21.024Z"
   },
   {
    "duration": 46,
    "start_time": "2022-06-05T10:18:21.127Z"
   },
   {
    "duration": 2543,
    "start_time": "2022-06-05T10:18:21.174Z"
   },
   {
    "duration": 1884,
    "start_time": "2022-06-05T10:18:23.719Z"
   },
   {
    "duration": 63,
    "start_time": "2022-06-05T10:18:25.605Z"
   },
   {
    "duration": 298,
    "start_time": "2022-06-05T10:18:25.669Z"
   },
   {
    "duration": 289,
    "start_time": "2022-06-05T10:18:25.968Z"
   },
   {
    "duration": 292,
    "start_time": "2022-06-05T10:18:26.259Z"
   },
   {
    "duration": 57,
    "start_time": "2022-06-05T10:18:26.553Z"
   },
   {
    "duration": 61,
    "start_time": "2022-06-05T10:18:26.613Z"
   },
   {
    "duration": 40,
    "start_time": "2022-06-05T10:18:26.676Z"
   },
   {
    "duration": 114,
    "start_time": "2022-06-05T10:18:26.717Z"
   },
   {
    "duration": 4,
    "start_time": "2022-06-05T10:18:26.834Z"
   },
   {
    "duration": 810,
    "start_time": "2022-06-05T10:18:26.839Z"
   },
   {
    "duration": 491,
    "start_time": "2022-06-05T10:18:27.651Z"
   },
   {
    "duration": 124527,
    "start_time": "2022-06-05T10:18:28.144Z"
   },
   {
    "duration": 127393,
    "start_time": "2022-06-05T10:20:32.673Z"
   },
   {
    "duration": 96772,
    "start_time": "2022-06-05T10:22:40.068Z"
   },
   {
    "duration": 6332,
    "start_time": "2022-06-05T10:24:16.842Z"
   },
   {
    "duration": 296027,
    "start_time": "2022-06-05T10:24:23.176Z"
   },
   {
    "duration": 21778,
    "start_time": "2022-06-05T10:29:19.205Z"
   },
   {
    "duration": 120609,
    "start_time": "2022-06-05T10:34:27.462Z"
   },
   {
    "duration": 98030,
    "start_time": "2022-06-05T10:38:02.445Z"
   },
   {
    "duration": 153779,
    "start_time": "2022-06-05T10:45:04.190Z"
   },
   {
    "duration": 95354,
    "start_time": "2022-06-05T10:53:11.117Z"
   },
   {
    "duration": 26750,
    "start_time": "2022-06-05T10:58:07.720Z"
   },
   {
    "duration": 5819,
    "start_time": "2022-06-05T10:58:34.473Z"
   },
   {
    "duration": 397,
    "start_time": "2022-06-05T10:58:40.293Z"
   },
   {
    "duration": 23249,
    "start_time": "2022-06-05T10:58:40.692Z"
   },
   {
    "duration": 5399,
    "start_time": "2022-06-05T10:59:03.942Z"
   },
   {
    "duration": 10834,
    "start_time": "2022-06-05T10:59:09.343Z"
   },
   {
    "duration": 49,
    "start_time": "2022-06-05T10:59:20.179Z"
   },
   {
    "duration": 124,
    "start_time": "2022-06-05T11:01:15.124Z"
   },
   {
    "duration": 38229,
    "start_time": "2022-06-05T11:01:29.438Z"
   },
   {
    "duration": 5679,
    "start_time": "2022-06-05T11:02:07.670Z"
   },
   {
    "duration": 397,
    "start_time": "2022-06-05T11:02:13.350Z"
   },
   {
    "duration": 22842,
    "start_time": "2022-06-05T11:02:13.749Z"
   },
   {
    "duration": 5357,
    "start_time": "2022-06-05T11:02:36.592Z"
   },
   {
    "duration": 60238,
    "start_time": "2022-06-05T11:02:41.950Z"
   },
   {
    "duration": 91,
    "start_time": "2022-06-05T11:03:42.190Z"
   },
   {
    "duration": 77,
    "start_time": "2022-06-05T18:40:29.811Z"
   },
   {
    "duration": 1175,
    "start_time": "2022-06-05T18:45:48.152Z"
   },
   {
    "duration": 1548,
    "start_time": "2022-06-05T18:56:55.357Z"
   },
   {
    "duration": 2860,
    "start_time": "2022-06-05T18:56:56.907Z"
   },
   {
    "duration": 679,
    "start_time": "2022-06-05T18:56:59.769Z"
   },
   {
    "duration": 125,
    "start_time": "2022-06-05T18:57:00.450Z"
   },
   {
    "duration": 117,
    "start_time": "2022-06-05T18:57:00.577Z"
   },
   {
    "duration": 109,
    "start_time": "2022-06-05T18:57:00.696Z"
   },
   {
    "duration": 537,
    "start_time": "2022-06-05T18:57:00.807Z"
   },
   {
    "duration": 15,
    "start_time": "2022-06-05T18:57:01.346Z"
   },
   {
    "duration": 397,
    "start_time": "2022-06-05T18:57:01.362Z"
   },
   {
    "duration": 13,
    "start_time": "2022-06-05T18:57:01.761Z"
   },
   {
    "duration": 112,
    "start_time": "2022-06-05T18:57:01.776Z"
   },
   {
    "duration": 311,
    "start_time": "2022-06-05T18:57:01.890Z"
   },
   {
    "duration": 68,
    "start_time": "2022-06-05T18:57:02.203Z"
   },
   {
    "duration": 17,
    "start_time": "2022-06-05T18:57:02.273Z"
   },
   {
    "duration": 318,
    "start_time": "2022-06-05T18:57:02.292Z"
   },
   {
    "duration": 87,
    "start_time": "2022-06-05T18:57:02.611Z"
   },
   {
    "duration": 45,
    "start_time": "2022-06-05T18:57:02.700Z"
   },
   {
    "duration": 110,
    "start_time": "2022-06-05T18:57:02.747Z"
   },
   {
    "duration": 33,
    "start_time": "2022-06-05T18:57:02.859Z"
   },
   {
    "duration": 2862,
    "start_time": "2022-06-05T18:57:02.894Z"
   },
   {
    "duration": 1988,
    "start_time": "2022-06-05T18:57:05.758Z"
   },
   {
    "duration": 54,
    "start_time": "2022-06-05T18:57:07.748Z"
   },
   {
    "duration": 423,
    "start_time": "2022-06-05T18:57:07.804Z"
   },
   {
    "duration": 302,
    "start_time": "2022-06-05T18:57:08.229Z"
   },
   {
    "duration": 304,
    "start_time": "2022-06-05T18:57:08.533Z"
   },
   {
    "duration": 55,
    "start_time": "2022-06-05T18:57:08.839Z"
   },
   {
    "duration": 56,
    "start_time": "2022-06-05T18:57:08.895Z"
   },
   {
    "duration": 39,
    "start_time": "2022-06-05T18:57:08.956Z"
   },
   {
    "duration": 103,
    "start_time": "2022-06-05T18:57:08.997Z"
   },
   {
    "duration": 4,
    "start_time": "2022-06-05T18:57:09.102Z"
   },
   {
    "duration": 859,
    "start_time": "2022-06-05T18:57:09.107Z"
   },
   {
    "duration": 489,
    "start_time": "2022-06-05T18:57:09.968Z"
   },
   {
    "duration": 172767,
    "start_time": "2022-06-05T18:57:10.459Z"
   },
   {
    "duration": 203102,
    "start_time": "2022-06-05T19:00:03.229Z"
   },
   {
    "duration": 243993,
    "start_time": "2022-06-05T19:03:26.333Z"
   },
   {
    "duration": 195006,
    "start_time": "2022-06-05T19:07:30.328Z"
   },
   {
    "duration": 109082,
    "start_time": "2022-06-05T19:10:45.348Z"
   },
   {
    "duration": 7367,
    "start_time": "2022-06-05T19:12:34.432Z"
   },
   {
    "duration": 401264,
    "start_time": "2022-06-05T19:12:41.801Z"
   },
   {
    "duration": 30846,
    "start_time": "2022-06-05T19:19:23.067Z"
   },
   {
    "duration": 1137,
    "start_time": "2022-06-05T19:38:50.073Z"
   },
   {
    "duration": 909,
    "start_time": "2022-06-05T19:38:51.212Z"
   },
   {
    "duration": 698,
    "start_time": "2022-06-05T19:38:52.123Z"
   },
   {
    "duration": 130,
    "start_time": "2022-06-05T19:38:52.826Z"
   },
   {
    "duration": 127,
    "start_time": "2022-06-05T19:38:52.958Z"
   },
   {
    "duration": 124,
    "start_time": "2022-06-05T19:38:53.088Z"
   },
   {
    "duration": 534,
    "start_time": "2022-06-05T19:38:53.214Z"
   },
   {
    "duration": 20,
    "start_time": "2022-06-05T19:38:53.751Z"
   },
   {
    "duration": 401,
    "start_time": "2022-06-05T19:38:53.773Z"
   },
   {
    "duration": 14,
    "start_time": "2022-06-05T19:38:54.178Z"
   },
   {
    "duration": 104,
    "start_time": "2022-06-05T19:38:54.195Z"
   },
   {
    "duration": 320,
    "start_time": "2022-06-05T19:38:54.301Z"
   },
   {
    "duration": 104,
    "start_time": "2022-06-05T19:38:54.625Z"
   },
   {
    "duration": 24,
    "start_time": "2022-06-05T19:38:54.732Z"
   },
   {
    "duration": 427,
    "start_time": "2022-06-05T19:38:54.759Z"
   },
   {
    "duration": 101,
    "start_time": "2022-06-05T19:38:55.188Z"
   },
   {
    "duration": 46,
    "start_time": "2022-06-05T19:38:55.291Z"
   },
   {
    "duration": 101,
    "start_time": "2022-06-05T19:38:55.338Z"
   },
   {
    "duration": 35,
    "start_time": "2022-06-05T19:38:55.441Z"
   },
   {
    "duration": 2887,
    "start_time": "2022-06-05T19:38:55.477Z"
   },
   {
    "duration": 1974,
    "start_time": "2022-06-05T19:38:58.366Z"
   },
   {
    "duration": 52,
    "start_time": "2022-06-05T19:39:00.342Z"
   },
   {
    "duration": 439,
    "start_time": "2022-06-05T19:39:00.396Z"
   },
   {
    "duration": 317,
    "start_time": "2022-06-05T19:39:00.836Z"
   },
   {
    "duration": 334,
    "start_time": "2022-06-05T19:39:01.154Z"
   },
   {
    "duration": 62,
    "start_time": "2022-06-05T19:39:01.490Z"
   },
   {
    "duration": 43,
    "start_time": "2022-06-05T19:39:01.554Z"
   },
   {
    "duration": 42,
    "start_time": "2022-06-05T19:39:01.625Z"
   },
   {
    "duration": 109,
    "start_time": "2022-06-05T19:39:01.669Z"
   },
   {
    "duration": 4,
    "start_time": "2022-06-05T19:39:01.780Z"
   },
   {
    "duration": 973,
    "start_time": "2022-06-05T19:39:01.786Z"
   },
   {
    "duration": 533,
    "start_time": "2022-06-05T19:39:02.761Z"
   },
   {
    "duration": 208030,
    "start_time": "2022-06-05T19:39:03.296Z"
   },
   {
    "duration": 257209,
    "start_time": "2022-06-05T19:42:31.329Z"
   },
   {
    "duration": 331692,
    "start_time": "2022-06-05T19:46:48.540Z"
   },
   {
    "duration": 262607,
    "start_time": "2022-06-05T19:52:20.234Z"
   },
   {
    "duration": 12282,
    "start_time": "2022-06-05T19:56:42.843Z"
   },
   {
    "duration": 1170,
    "start_time": "2022-06-05T20:06:29.812Z"
   },
   {
    "duration": 908,
    "start_time": "2022-06-05T20:06:30.984Z"
   },
   {
    "duration": 715,
    "start_time": "2022-06-05T20:06:31.894Z"
   },
   {
    "duration": 150,
    "start_time": "2022-06-05T20:06:32.611Z"
   },
   {
    "duration": 122,
    "start_time": "2022-06-05T20:06:32.763Z"
   },
   {
    "duration": 123,
    "start_time": "2022-06-05T20:06:32.886Z"
   },
   {
    "duration": 231,
    "start_time": "2022-06-05T20:06:33.011Z"
   },
   {
    "duration": 425,
    "start_time": "2022-06-05T20:06:33.244Z"
   },
   {
    "duration": 509,
    "start_time": "2022-06-05T20:06:33.670Z"
   },
   {
    "duration": 9,
    "start_time": "2022-06-05T20:06:34.181Z"
   },
   {
    "duration": 352,
    "start_time": "2022-06-05T20:06:34.192Z"
   },
   {
    "duration": 13,
    "start_time": "2022-06-05T20:06:34.546Z"
   },
   {
    "duration": 104,
    "start_time": "2022-06-05T20:06:34.560Z"
   },
   {
    "duration": 380,
    "start_time": "2022-06-05T20:06:34.667Z"
   },
   {
    "duration": 65,
    "start_time": "2022-06-05T20:06:35.048Z"
   },
   {
    "duration": 16,
    "start_time": "2022-06-05T20:06:35.125Z"
   },
   {
    "duration": 331,
    "start_time": "2022-06-05T20:06:35.143Z"
   },
   {
    "duration": 90,
    "start_time": "2022-06-05T20:06:35.476Z"
   },
   {
    "duration": 31,
    "start_time": "2022-06-05T20:06:35.567Z"
   },
   {
    "duration": 104,
    "start_time": "2022-06-05T20:06:35.599Z"
   },
   {
    "duration": 38,
    "start_time": "2022-06-05T20:06:35.704Z"
   },
   {
    "duration": 2483,
    "start_time": "2022-06-05T20:06:35.744Z"
   },
   {
    "duration": 1786,
    "start_time": "2022-06-05T20:06:38.228Z"
   },
   {
    "duration": 61,
    "start_time": "2022-06-05T20:06:40.015Z"
   },
   {
    "duration": 413,
    "start_time": "2022-06-05T20:06:40.078Z"
   },
   {
    "duration": 301,
    "start_time": "2022-06-05T20:06:40.493Z"
   },
   {
    "duration": 325,
    "start_time": "2022-06-05T20:06:40.795Z"
   },
   {
    "duration": 54,
    "start_time": "2022-06-05T20:06:41.127Z"
   },
   {
    "duration": 62,
    "start_time": "2022-06-05T20:06:41.182Z"
   },
   {
    "duration": 36,
    "start_time": "2022-06-05T20:06:41.246Z"
   },
   {
    "duration": 93,
    "start_time": "2022-06-05T20:06:41.283Z"
   },
   {
    "duration": 4,
    "start_time": "2022-06-05T20:06:41.378Z"
   },
   {
    "duration": 751,
    "start_time": "2022-06-05T20:06:41.383Z"
   },
   {
    "duration": 431,
    "start_time": "2022-06-05T20:06:42.139Z"
   },
   {
    "duration": 306361,
    "start_time": "2022-06-05T20:06:42.572Z"
   },
   {
    "duration": 271394,
    "start_time": "2022-06-05T20:11:48.937Z"
   },
   {
    "duration": 1155,
    "start_time": "2022-06-05T20:19:37.071Z"
   },
   {
    "duration": 909,
    "start_time": "2022-06-05T20:19:38.229Z"
   },
   {
    "duration": 742,
    "start_time": "2022-06-05T20:19:39.140Z"
   },
   {
    "duration": 145,
    "start_time": "2022-06-05T20:19:39.884Z"
   },
   {
    "duration": 128,
    "start_time": "2022-06-05T20:19:40.030Z"
   },
   {
    "duration": 124,
    "start_time": "2022-06-05T20:19:40.159Z"
   },
   {
    "duration": 214,
    "start_time": "2022-06-05T20:19:40.285Z"
   },
   {
    "duration": 398,
    "start_time": "2022-06-05T20:19:40.502Z"
   },
   {
    "duration": 584,
    "start_time": "2022-06-05T20:19:40.905Z"
   },
   {
    "duration": 14,
    "start_time": "2022-06-05T20:19:41.492Z"
   },
   {
    "duration": 360,
    "start_time": "2022-06-05T20:19:41.507Z"
   },
   {
    "duration": 12,
    "start_time": "2022-06-05T20:19:41.869Z"
   },
   {
    "duration": 94,
    "start_time": "2022-06-05T20:19:41.883Z"
   },
   {
    "duration": 298,
    "start_time": "2022-06-05T20:19:41.979Z"
   },
   {
    "duration": 95,
    "start_time": "2022-06-05T20:19:42.278Z"
   },
   {
    "duration": 17,
    "start_time": "2022-06-05T20:19:42.376Z"
   },
   {
    "duration": 349,
    "start_time": "2022-06-05T20:19:42.396Z"
   },
   {
    "duration": 88,
    "start_time": "2022-06-05T20:19:42.746Z"
   },
   {
    "duration": 49,
    "start_time": "2022-06-05T20:19:42.836Z"
   },
   {
    "duration": 139,
    "start_time": "2022-06-05T20:19:42.887Z"
   },
   {
    "duration": 47,
    "start_time": "2022-06-05T20:19:43.028Z"
   },
   {
    "duration": 2622,
    "start_time": "2022-06-05T20:19:43.077Z"
   },
   {
    "duration": 1816,
    "start_time": "2022-06-05T20:19:45.700Z"
   },
   {
    "duration": 73,
    "start_time": "2022-06-05T20:19:47.525Z"
   },
   {
    "duration": 434,
    "start_time": "2022-06-05T20:19:47.600Z"
   },
   {
    "duration": 313,
    "start_time": "2022-06-05T20:19:48.037Z"
   },
   {
    "duration": 318,
    "start_time": "2022-06-05T20:19:48.352Z"
   },
   {
    "duration": 56,
    "start_time": "2022-06-05T20:19:48.674Z"
   },
   {
    "duration": 37,
    "start_time": "2022-06-05T20:19:48.732Z"
   },
   {
    "duration": 65,
    "start_time": "2022-06-05T20:19:48.771Z"
   },
   {
    "duration": 112,
    "start_time": "2022-06-05T20:19:48.838Z"
   },
   {
    "duration": 5,
    "start_time": "2022-06-05T20:19:48.952Z"
   },
   {
    "duration": 819,
    "start_time": "2022-06-05T20:19:48.959Z"
   },
   {
    "duration": 443,
    "start_time": "2022-06-05T20:19:49.780Z"
   },
   {
    "duration": 163108,
    "start_time": "2022-06-05T20:19:50.226Z"
   },
   {
    "duration": 169399,
    "start_time": "2022-06-05T20:22:33.426Z"
   },
   {
    "duration": 171525,
    "start_time": "2022-06-05T20:25:22.828Z"
   },
   {
    "duration": 150070,
    "start_time": "2022-06-05T20:28:14.355Z"
   },
   {
    "duration": 82190,
    "start_time": "2022-06-05T20:30:44.428Z"
   },
   {
    "duration": 5938,
    "start_time": "2022-06-05T20:32:06.620Z"
   },
   {
    "duration": 279748,
    "start_time": "2022-06-05T20:32:12.560Z"
   },
   {
    "duration": 19427,
    "start_time": "2022-06-05T20:36:52.309Z"
   },
   {
    "duration": 282199,
    "start_time": "2022-06-05T20:37:11.738Z"
   },
   {
    "duration": 26188,
    "start_time": "2022-06-05T20:41:53.939Z"
   },
   {
    "duration": 296,
    "start_time": "2022-06-05T20:42:20.129Z"
   },
   {
    "duration": 4809,
    "start_time": "2022-06-05T20:42:20.431Z"
   },
   {
    "duration": 118,
    "start_time": "2022-06-05T20:42:25.241Z"
   },
   {
    "duration": 4,
    "start_time": "2022-06-05T20:42:25.361Z"
   },
   {
    "duration": 359,
    "start_time": "2022-06-05T20:42:25.366Z"
   },
   {
    "duration": 13,
    "start_time": "2022-06-05T20:42:25.727Z"
   },
   {
    "duration": 3,
    "start_time": "2022-06-05T20:42:25.742Z"
   },
   {
    "duration": 18757,
    "start_time": "2022-06-05T20:42:25.747Z"
   },
   {
    "duration": 48,
    "start_time": "2022-06-05T20:42:44.506Z"
   },
   {
    "duration": 3,
    "start_time": "2022-06-05T20:42:44.556Z"
   },
   {
    "duration": 4488,
    "start_time": "2022-06-05T20:42:44.561Z"
   },
   {
    "duration": 45,
    "start_time": "2022-06-05T20:42:49.051Z"
   },
   {
    "duration": 3,
    "start_time": "2022-06-05T20:42:49.098Z"
   },
   {
    "duration": 7239,
    "start_time": "2022-06-05T20:42:49.103Z"
   },
   {
    "duration": 498,
    "start_time": "2022-06-05T20:42:56.343Z"
   },
   {
    "duration": 83,
    "start_time": "2022-06-05T20:42:56.843Z"
   },
   {
    "duration": 143,
    "start_time": "2022-06-05T20:42:56.928Z"
   },
   {
    "duration": 22,
    "start_time": "2022-06-05T22:02:31.663Z"
   },
   {
    "duration": 50,
    "start_time": "2022-06-06T08:57:52.539Z"
   }
  ],
  "kernelspec": {
   "display_name": "Python 3",
   "language": "python",
   "name": "python3"
  },
  "language_info": {
   "codemirror_mode": {
    "name": "ipython",
    "version": 3
   },
   "file_extension": ".py",
   "mimetype": "text/x-python",
   "name": "python",
   "nbconvert_exporter": "python",
   "pygments_lexer": "ipython3",
   "version": "3.9.1"
  },
  "toc": {
   "base_numbering": 1,
   "nav_menu": {},
   "number_sections": true,
   "sideBar": true,
   "skip_h1_title": true,
   "title_cell": "Table of Contents",
   "title_sidebar": "Contents",
   "toc_cell": false,
   "toc_position": {
    "height": "calc(100% - 180px)",
    "left": "10px",
    "top": "150px",
    "width": "308px"
   },
   "toc_section_display": true,
   "toc_window_display": true
  }
 },
 "nbformat": 4,
 "nbformat_minor": 2
}
